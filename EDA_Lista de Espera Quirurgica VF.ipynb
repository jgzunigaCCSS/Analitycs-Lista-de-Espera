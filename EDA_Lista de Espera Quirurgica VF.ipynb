{
 "cells": [
  {
   "cell_type": "markdown",
   "id": "12c36d8b",
   "metadata": {},
   "source": [
    "<center><img SRC=\"CCSS.png\" align=\"center\" /></center>\n",
    "\n",
    "<center> <h1 style=\"color: #5F9EA0\">Análisis Estadistico</h1> </center>\n",
    "<center> <h2 style=\"color: #696969\">Lista de Espera Quirúrgica</h2></center>\n",
    "<center> <h3 style=\"color: #696969\">Gerencia General</h3></center>\n",
    "<br>\n",
    "<p style=\"text-align:justify\"> El presenet cuaderno de trabajo, se crea con la finalidad de gestar un algoritmo que permita realizar de forma expedita un análisis estadístico descriptivo y diagnóstico sobre el comportamiento de la Lista de Espera Quirurgica.<br>\n",
    "    \n",
    "Este se irá desarrollando según la necesidad que se plantee en el momento, asimismo, si bien se generan gráficas es importante disponer de tablas para el tabulado correcto, de manera que se permita la creación de presentaciones con mejor visualización. </p>\n",
    "\n"
   ]
  },
  {
   "cell_type": "code",
   "execution_count": 1,
   "id": "4bad2a6e",
   "metadata": {},
   "outputs": [],
   "source": [
    "import numpy as np\n",
    "import pandas as pd\n",
    "import matplotlib.pyplot as plt\n",
    "import seaborn as sb\n",
    "import datetime"
   ]
  },
  {
   "cell_type": "markdown",
   "id": "b5742315",
   "metadata": {},
   "source": [
    "<h2 style=\"color: #2F4F4F\">1. Carga del Archivo de datos</h2>\n",
    "\n",
    "<p> La carga del archivo de datos se realiza desde el excel, en caso que la pc no tenga instalada la librería se puede instalar utilizando el comando:<br>\n",
    "    \n",
    "    conda install -c anaconda openpyxl</p>\n"
   ]
  },
  {
   "cell_type": "code",
   "execution_count": 2,
   "id": "688a4efc",
   "metadata": {},
   "outputs": [],
   "source": [
    "dfLista = pd.read_excel(\"LE.xlsx\",sheet_name='datos')"
   ]
  },
  {
   "cell_type": "code",
   "execution_count": 3,
   "id": "5fa6a50e",
   "metadata": {},
   "outputs": [
    {
     "data": {
      "text/html": [
       "<div>\n",
       "<style scoped>\n",
       "    .dataframe tbody tr th:only-of-type {\n",
       "        vertical-align: middle;\n",
       "    }\n",
       "\n",
       "    .dataframe tbody tr th {\n",
       "        vertical-align: top;\n",
       "    }\n",
       "\n",
       "    .dataframe thead th {\n",
       "        text-align: right;\n",
       "    }\n",
       "</style>\n",
       "<table border=\"1\" class=\"dataframe\">\n",
       "  <thead>\n",
       "    <tr style=\"text-align: right;\">\n",
       "      <th></th>\n",
       "      <th>I.D</th>\n",
       "      <th>U.P</th>\n",
       "      <th>CENTRO MEDICO</th>\n",
       "      <th>REGION</th>\n",
       "      <th>fechaRegistro</th>\n",
       "      <th>anio_de_registro</th>\n",
       "      <th>mesRegistro</th>\n",
       "      <th>diaRegistro</th>\n",
       "      <th>fechaCita</th>\n",
       "      <th>Servicio</th>\n",
       "      <th>...</th>\n",
       "      <th>puntajePriorizacion</th>\n",
       "      <th>esPriorizado</th>\n",
       "      <th>IdPriorizacionLE</th>\n",
       "      <th>SubEspecialidad</th>\n",
       "      <th>idSistema</th>\n",
       "      <th>Origen</th>\n",
       "      <th>TipoResolucion</th>\n",
       "      <th>sinonimoDiagnostico</th>\n",
       "      <th>sinonimoProcedimiento</th>\n",
       "      <th>estado_cita_actual</th>\n",
       "    </tr>\n",
       "  </thead>\n",
       "  <tbody>\n",
       "    <tr>\n",
       "      <th>0</th>\n",
       "      <td>1.0</td>\n",
       "      <td>2802</td>\n",
       "      <td>OFTALMOLOGICA</td>\n",
       "      <td>GAM</td>\n",
       "      <td>2022-05-02</td>\n",
       "      <td>2022</td>\n",
       "      <td>5</td>\n",
       "      <td>2</td>\n",
       "      <td>2022-06-20</td>\n",
       "      <td>Cirugía Ambulatoria</td>\n",
       "      <td>...</td>\n",
       "      <td>NaN</td>\n",
       "      <td>NO</td>\n",
       "      <td>NaN</td>\n",
       "      <td>NaN</td>\n",
       "      <td>871642</td>\n",
       "      <td>Consulta Externa</td>\n",
       "      <td>No ha sido resuelto</td>\n",
       "      <td>No se determinó el diagnóstico</td>\n",
       "      <td>Facoemulsificación y aspiración de catarata</td>\n",
       "      <td>NaN</td>\n",
       "    </tr>\n",
       "    <tr>\n",
       "      <th>1</th>\n",
       "      <td>2.0</td>\n",
       "      <td>2802</td>\n",
       "      <td>OFTALMOLOGICA</td>\n",
       "      <td>GAM</td>\n",
       "      <td>2022-05-02</td>\n",
       "      <td>2022</td>\n",
       "      <td>5</td>\n",
       "      <td>2</td>\n",
       "      <td>2022-06-24</td>\n",
       "      <td>Cirugía Ambulatoria</td>\n",
       "      <td>...</td>\n",
       "      <td>NaN</td>\n",
       "      <td>NO</td>\n",
       "      <td>NaN</td>\n",
       "      <td>NaN</td>\n",
       "      <td>871641</td>\n",
       "      <td>Consulta Externa</td>\n",
       "      <td>No ha sido resuelto</td>\n",
       "      <td>No se determinó el diagnóstico</td>\n",
       "      <td>Facoemulsificación y aspiración de catarata</td>\n",
       "      <td>NaN</td>\n",
       "    </tr>\n",
       "    <tr>\n",
       "      <th>2</th>\n",
       "      <td>3.0</td>\n",
       "      <td>2802</td>\n",
       "      <td>OFTALMOLOGICA</td>\n",
       "      <td>GAM</td>\n",
       "      <td>2022-05-02</td>\n",
       "      <td>2022</td>\n",
       "      <td>5</td>\n",
       "      <td>2</td>\n",
       "      <td>2022-06-20</td>\n",
       "      <td>Cirugía Ambulatoria</td>\n",
       "      <td>...</td>\n",
       "      <td>NaN</td>\n",
       "      <td>NO</td>\n",
       "      <td>NaN</td>\n",
       "      <td>NaN</td>\n",
       "      <td>871640</td>\n",
       "      <td>Consulta Externa</td>\n",
       "      <td>No ha sido resuelto</td>\n",
       "      <td>No se determinó el diagnóstico</td>\n",
       "      <td>Facoemulsificación y aspiración de catarata</td>\n",
       "      <td>NaN</td>\n",
       "    </tr>\n",
       "    <tr>\n",
       "      <th>3</th>\n",
       "      <td>4.0</td>\n",
       "      <td>2802</td>\n",
       "      <td>OFTALMOLOGICA</td>\n",
       "      <td>GAM</td>\n",
       "      <td>2022-05-02</td>\n",
       "      <td>2022</td>\n",
       "      <td>5</td>\n",
       "      <td>2</td>\n",
       "      <td>2022-06-20</td>\n",
       "      <td>Cirugía Ambulatoria</td>\n",
       "      <td>...</td>\n",
       "      <td>NaN</td>\n",
       "      <td>NO</td>\n",
       "      <td>NaN</td>\n",
       "      <td>NaN</td>\n",
       "      <td>871639</td>\n",
       "      <td>Consulta Externa</td>\n",
       "      <td>No ha sido resuelto</td>\n",
       "      <td>No se determinó el diagnóstico</td>\n",
       "      <td>Facoemulsificación y aspiración de catarata</td>\n",
       "      <td>NaN</td>\n",
       "    </tr>\n",
       "    <tr>\n",
       "      <th>4</th>\n",
       "      <td>5.0</td>\n",
       "      <td>2502</td>\n",
       "      <td>H. ENRIQUE BALTODANO</td>\n",
       "      <td>CHOROTEGA</td>\n",
       "      <td>2022-05-02</td>\n",
       "      <td>2022</td>\n",
       "      <td>5</td>\n",
       "      <td>2</td>\n",
       "      <td>NaT</td>\n",
       "      <td>Cirugía Ambulatoria</td>\n",
       "      <td>...</td>\n",
       "      <td>NaN</td>\n",
       "      <td>NO</td>\n",
       "      <td>NaN</td>\n",
       "      <td>NaN</td>\n",
       "      <td>871638</td>\n",
       "      <td>Consulta Externa</td>\n",
       "      <td>No ha sido resuelto</td>\n",
       "      <td>No se determinó el diagnóstico</td>\n",
       "      <td>Otra extracción de catarata</td>\n",
       "      <td>NaN</td>\n",
       "    </tr>\n",
       "  </tbody>\n",
       "</table>\n",
       "<p>5 rows × 71 columns</p>\n",
       "</div>"
      ],
      "text/plain": [
       "   I.D   U.P         CENTRO MEDICO    REGION  fechaRegistro  anio_de_registro  \\\n",
       "0  1.0  2802         OFTALMOLOGICA        GAM    2022-05-02              2022   \n",
       "1  2.0  2802         OFTALMOLOGICA        GAM    2022-05-02              2022   \n",
       "2  3.0  2802         OFTALMOLOGICA        GAM    2022-05-02              2022   \n",
       "3  4.0  2802         OFTALMOLOGICA        GAM    2022-05-02              2022   \n",
       "4  5.0  2502  H. ENRIQUE BALTODANO  CHOROTEGA    2022-05-02              2022   \n",
       "\n",
       "   mesRegistro  diaRegistro  fechaCita             Servicio  ...  \\\n",
       "0            5            2 2022-06-20  Cirugía Ambulatoria  ...   \n",
       "1            5            2 2022-06-24  Cirugía Ambulatoria  ...   \n",
       "2            5            2 2022-06-20  Cirugía Ambulatoria  ...   \n",
       "3            5            2 2022-06-20  Cirugía Ambulatoria  ...   \n",
       "4            5            2        NaT  Cirugía Ambulatoria  ...   \n",
       "\n",
       "  puntajePriorizacion  esPriorizado IdPriorizacionLE SubEspecialidad  \\\n",
       "0                 NaN            NO              NaN             NaN   \n",
       "1                 NaN            NO              NaN             NaN   \n",
       "2                 NaN            NO              NaN             NaN   \n",
       "3                 NaN            NO              NaN             NaN   \n",
       "4                 NaN            NO              NaN             NaN   \n",
       "\n",
       "   idSistema            Origen       TipoResolucion  \\\n",
       "0     871642  Consulta Externa  No ha sido resuelto   \n",
       "1     871641  Consulta Externa  No ha sido resuelto   \n",
       "2     871640  Consulta Externa  No ha sido resuelto   \n",
       "3     871639  Consulta Externa  No ha sido resuelto   \n",
       "4     871638  Consulta Externa  No ha sido resuelto   \n",
       "\n",
       "              sinonimoDiagnostico  \\\n",
       "0  No se determinó el diagnóstico   \n",
       "1  No se determinó el diagnóstico   \n",
       "2  No se determinó el diagnóstico   \n",
       "3  No se determinó el diagnóstico   \n",
       "4  No se determinó el diagnóstico   \n",
       "\n",
       "                         sinonimoProcedimiento estado_cita_actual  \n",
       "0  Facoemulsificación y aspiración de catarata                NaN  \n",
       "1  Facoemulsificación y aspiración de catarata                NaN  \n",
       "2  Facoemulsificación y aspiración de catarata                NaN  \n",
       "3  Facoemulsificación y aspiración de catarata                NaN  \n",
       "4                  Otra extracción de catarata                NaN  \n",
       "\n",
       "[5 rows x 71 columns]"
      ]
     },
     "execution_count": 3,
     "metadata": {},
     "output_type": "execute_result"
    }
   ],
   "source": [
    "dfLista.head(5)\n"
   ]
  },
  {
   "cell_type": "code",
   "execution_count": 4,
   "id": "44ee9336",
   "metadata": {},
   "outputs": [
    {
     "data": {
      "text/plain": [
       "(849976, 71)"
      ]
     },
     "execution_count": 4,
     "metadata": {},
     "output_type": "execute_result"
    }
   ],
   "source": [
    "dfLista.shape"
   ]
  },
  {
   "cell_type": "markdown",
   "id": "5e100662",
   "metadata": {},
   "source": [
    "<h2 style=\"color: #2F4F4F\">2. Limpieza de Datos</h2>\n",
    "\n",
    "<p>Una vez que se ha cargado el archivo de datos se inicia con el proceso de limpieza de datos, con el propósito de seleccionar las variables necesarias para el análisis, y para la generación de los datos necesarios para un forecasting</p>"
   ]
  },
  {
   "cell_type": "code",
   "execution_count": 5,
   "id": "9a353c2f",
   "metadata": {},
   "outputs": [
    {
     "name": "stdout",
     "output_type": "stream",
     "text": [
      "<class 'pandas.core.frame.DataFrame'>\n",
      "RangeIndex: 849976 entries, 0 to 849975\n",
      "Data columns (total 71 columns):\n",
      " #   Column                            Non-Null Count   Dtype         \n",
      "---  ------                            --------------   -----         \n",
      " 0   I.D                               848213 non-null  float64       \n",
      " 1   U.P                               849976 non-null  int64         \n",
      " 2   CENTRO MEDICO                     849976 non-null  object        \n",
      " 3   REGION                            849976 non-null  object        \n",
      " 4   fechaRegistro                     849976 non-null  datetime64[ns]\n",
      " 5   anio_de_registro                  849976 non-null  int64         \n",
      " 6   mesRegistro                       849976 non-null  int64         \n",
      " 7   diaRegistro                       849976 non-null  int64         \n",
      " 8   fechaCita                         519686 non-null  datetime64[ns]\n",
      " 9   Servicio                          849976 non-null  object        \n",
      " 10  Especialidad                      849976 non-null  object        \n",
      " 11  plazoEspera                       840803 non-null  float64       \n",
      " 12  modalidad_atencion                849976 non-null  object        \n",
      " 13  estado_cita                       849976 non-null  object        \n",
      " 14  UnidadProgramaTraslado            13411 non-null   float64       \n",
      " 15  NombreUnidadProgramaticaTraslado  13411 non-null   object        \n",
      " 16  EstadoTraslado                    14698 non-null   object        \n",
      " 17  fecha_de_atencion                 660166 non-null  datetime64[ns]\n",
      " 18  ServicioEgreso                    630730 non-null  object        \n",
      " 19  tipoIdentificacion                849957 non-null  object        \n",
      " 20  numeroIdentificacion              849957 non-null  object        \n",
      " 21  nombrePaciente                    849957 non-null  object        \n",
      " 22  primerApellido                    849957 non-null  object        \n",
      " 23  segundoApellido                   849957 non-null  object        \n",
      " 24  telefono                          794845 non-null  object        \n",
      " 25  telefono2                         719015 non-null  object        \n",
      " 26  AnnoIngreso                       849976 non-null  int64         \n",
      " 27  LETRA_DIAGNOSTICO                 849976 non-null  object        \n",
      " 28  CodigoDiagnostico                 849976 non-null  object        \n",
      " 29  descripcionDiagnostico            849970 non-null  object        \n",
      " 30  codigoProcedimiento               777898 non-null  object        \n",
      " 31  Procedimiento                     790564 non-null  object        \n",
      " 32  codigoMedico                      849726 non-null  object        \n",
      " 33  nombreMedico                      849976 non-null  object        \n",
      " 34  fechaNacimiento                   849957 non-null  datetime64[ns]\n",
      " 35  Observacion                       732737 non-null  object        \n",
      " 36  codigoProvincia                   849782 non-null  float64       \n",
      " 37  Provincia                         849782 non-null  object        \n",
      " 38  codigoCanton                      849782 non-null  float64       \n",
      " 39  Canton                            849782 non-null  object        \n",
      " 40  codigoDistrito                    849782 non-null  float64       \n",
      " 41  Distrito                          849782 non-null  object        \n",
      " 42  Direccion                         845598 non-null  object        \n",
      " 43  Complejidad                       849976 non-null  object        \n",
      " 44  fechaValoracion                   32258 non-null   datetime64[ns]\n",
      " 45  GradoPriorizacion                 849976 non-null  object        \n",
      " 46  fechaOperacion                    468315 non-null  datetime64[ns]\n",
      " 47  fechaAnterior                     5036 non-null    datetime64[ns]\n",
      " 48  Lateralidad                       849976 non-null  object        \n",
      " 49  fechaResolucion                   671972 non-null  datetime64[ns]\n",
      " 50  EspecialidadEgreso                457871 non-null  object        \n",
      " 51  MedicoCirugia                     821483 non-null  object        \n",
      " 52  PatologiaOncologicaPrimaria       849976 non-null  int64         \n",
      " 53  Sexo                              849976 non-null  object        \n",
      " 54  Seccion                           849976 non-null  object        \n",
      " 55  SubCategoria                      849976 non-null  object        \n",
      " 56  fechaExportacion                  849976 non-null  datetime64[ns]\n",
      " 57  fechaCorte                        849976 non-null  datetime64[ns]\n",
      " 58  IdPorEspecialidad                 849976 non-null  int64         \n",
      " 59  PlazoEsperaExportacion            178004 non-null  float64       \n",
      " 60  PlazoResolucion                   468314 non-null  float64       \n",
      " 61  puntajePriorizacion               88248 non-null   float64       \n",
      " 62  esPriorizado                      849976 non-null  object        \n",
      " 63  IdPriorizacionLE                  78204 non-null   float64       \n",
      " 64  SubEspecialidad                   56231 non-null   object        \n",
      " 65  idSistema                         849976 non-null  int64         \n",
      " 66  Origen                            849976 non-null  object        \n",
      " 67  TipoResolucion                    849976 non-null  object        \n",
      " 68  sinonimoDiagnostico               849976 non-null  object        \n",
      " 69  sinonimoProcedimiento             777983 non-null  object        \n",
      " 70  estado_cita_actual                0 non-null       float64       \n",
      "dtypes: datetime64[ns](10), float64(11), int64(8), object(42)\n",
      "memory usage: 460.4+ MB\n"
     ]
    }
   ],
   "source": [
    "dfLista.info()"
   ]
  },
  {
   "cell_type": "code",
   "execution_count": 6,
   "id": "5a65787c",
   "metadata": {},
   "outputs": [
    {
     "data": {
      "text/plain": [
       "Index(['I.D', 'U.P', 'CENTRO MEDICO', 'REGION ', 'fechaRegistro',\n",
       "       'anio_de_registro', 'mesRegistro', 'diaRegistro', 'fechaCita',\n",
       "       'Servicio', 'Especialidad', 'plazoEspera', 'modalidad_atencion',\n",
       "       'estado_cita', 'UnidadProgramaTraslado',\n",
       "       'NombreUnidadProgramaticaTraslado', 'EstadoTraslado',\n",
       "       'fecha_de_atencion', 'ServicioEgreso', 'tipoIdentificacion',\n",
       "       'numeroIdentificacion', 'nombrePaciente', 'primerApellido',\n",
       "       'segundoApellido', 'telefono', 'telefono2', 'AnnoIngreso',\n",
       "       'LETRA_DIAGNOSTICO', 'CodigoDiagnostico', 'descripcionDiagnostico',\n",
       "       'codigoProcedimiento', 'Procedimiento', 'codigoMedico', 'nombreMedico',\n",
       "       'fechaNacimiento', 'Observacion', 'codigoProvincia', 'Provincia',\n",
       "       'codigoCanton', 'Canton', 'codigoDistrito', 'Distrito', 'Direccion',\n",
       "       'Complejidad', 'fechaValoracion', 'GradoPriorizacion', 'fechaOperacion',\n",
       "       'fechaAnterior', 'Lateralidad', 'fechaResolucion', 'EspecialidadEgreso',\n",
       "       'MedicoCirugia', 'PatologiaOncologicaPrimaria', 'Sexo', 'Seccion',\n",
       "       'SubCategoria', 'fechaExportacion', 'fechaCorte', 'IdPorEspecialidad',\n",
       "       'PlazoEsperaExportacion', 'PlazoResolucion', 'puntajePriorizacion',\n",
       "       'esPriorizado', 'IdPriorizacionLE', 'SubEspecialidad', 'idSistema',\n",
       "       'Origen', 'TipoResolucion', 'sinonimoDiagnostico',\n",
       "       'sinonimoProcedimiento', 'estado_cita_actual'],\n",
       "      dtype='object')"
      ]
     },
     "execution_count": 6,
     "metadata": {},
     "output_type": "execute_result"
    }
   ],
   "source": [
    "dfLista.columns"
   ]
  },
  {
   "cell_type": "markdown",
   "id": "d49fa224",
   "metadata": {},
   "source": [
    "<p>Con base en la identificación de las columnas necesarias para el proceso, se procede a generar un dataSet con las variables identificadas. Este será el que se utilice para genear los analalisis y los datos necesarios</p>"
   ]
  },
  {
   "cell_type": "code",
   "execution_count": 7,
   "id": "72305f21",
   "metadata": {},
   "outputs": [
    {
     "data": {
      "text/html": [
       "<div>\n",
       "<style scoped>\n",
       "    .dataframe tbody tr th:only-of-type {\n",
       "        vertical-align: middle;\n",
       "    }\n",
       "\n",
       "    .dataframe tbody tr th {\n",
       "        vertical-align: top;\n",
       "    }\n",
       "\n",
       "    .dataframe thead th {\n",
       "        text-align: right;\n",
       "    }\n",
       "</style>\n",
       "<table border=\"1\" class=\"dataframe\">\n",
       "  <thead>\n",
       "    <tr style=\"text-align: right;\">\n",
       "      <th></th>\n",
       "      <th>I.D</th>\n",
       "      <th>U.P</th>\n",
       "      <th>CENTRO MEDICO</th>\n",
       "      <th>REGION</th>\n",
       "      <th>fechaRegistro</th>\n",
       "      <th>anio_de_registro</th>\n",
       "      <th>mesRegistro</th>\n",
       "      <th>diaRegistro</th>\n",
       "      <th>Servicio</th>\n",
       "      <th>Especialidad</th>\n",
       "      <th>...</th>\n",
       "      <th>estado_cita</th>\n",
       "      <th>fecha_de_atencion</th>\n",
       "      <th>CodigoDiagnostico</th>\n",
       "      <th>descripcionDiagnostico</th>\n",
       "      <th>fechaNacimiento</th>\n",
       "      <th>Provincia</th>\n",
       "      <th>Canton</th>\n",
       "      <th>Lateralidad</th>\n",
       "      <th>Sexo</th>\n",
       "      <th>Origen</th>\n",
       "    </tr>\n",
       "  </thead>\n",
       "  <tbody>\n",
       "    <tr>\n",
       "      <th>0</th>\n",
       "      <td>1.0</td>\n",
       "      <td>2802</td>\n",
       "      <td>OFTALMOLOGICA</td>\n",
       "      <td>GAM</td>\n",
       "      <td>2022-05-02</td>\n",
       "      <td>2022</td>\n",
       "      <td>5</td>\n",
       "      <td>2</td>\n",
       "      <td>Cirugía Ambulatoria</td>\n",
       "      <td>Oftalmología</td>\n",
       "      <td>...</td>\n",
       "      <td>Pendiente</td>\n",
       "      <td>NaT</td>\n",
       "      <td>H262</td>\n",
       "      <td>Catarata complicada</td>\n",
       "      <td>1944-04-14</td>\n",
       "      <td>Alajuela</td>\n",
       "      <td>Sarchí</td>\n",
       "      <td>Derecha</td>\n",
       "      <td>Masculino</td>\n",
       "      <td>Consulta Externa</td>\n",
       "    </tr>\n",
       "    <tr>\n",
       "      <th>1</th>\n",
       "      <td>2.0</td>\n",
       "      <td>2802</td>\n",
       "      <td>OFTALMOLOGICA</td>\n",
       "      <td>GAM</td>\n",
       "      <td>2022-05-02</td>\n",
       "      <td>2022</td>\n",
       "      <td>5</td>\n",
       "      <td>2</td>\n",
       "      <td>Cirugía Ambulatoria</td>\n",
       "      <td>Oftalmología</td>\n",
       "      <td>...</td>\n",
       "      <td>Pendiente</td>\n",
       "      <td>NaT</td>\n",
       "      <td>H262</td>\n",
       "      <td>Catarata complicada</td>\n",
       "      <td>1945-07-26</td>\n",
       "      <td>Cartago</td>\n",
       "      <td>Cartago</td>\n",
       "      <td>Izquierda</td>\n",
       "      <td>Masculino</td>\n",
       "      <td>Consulta Externa</td>\n",
       "    </tr>\n",
       "    <tr>\n",
       "      <th>2</th>\n",
       "      <td>3.0</td>\n",
       "      <td>2802</td>\n",
       "      <td>OFTALMOLOGICA</td>\n",
       "      <td>GAM</td>\n",
       "      <td>2022-05-02</td>\n",
       "      <td>2022</td>\n",
       "      <td>5</td>\n",
       "      <td>2</td>\n",
       "      <td>Cirugía Ambulatoria</td>\n",
       "      <td>Oftalmología</td>\n",
       "      <td>...</td>\n",
       "      <td>Pendiente</td>\n",
       "      <td>NaT</td>\n",
       "      <td>H262</td>\n",
       "      <td>Catarata complicada</td>\n",
       "      <td>1948-09-27</td>\n",
       "      <td>Alajuela</td>\n",
       "      <td>Alajuela</td>\n",
       "      <td>Izquierda</td>\n",
       "      <td>Masculino</td>\n",
       "      <td>Consulta Externa</td>\n",
       "    </tr>\n",
       "  </tbody>\n",
       "</table>\n",
       "<p>3 rows × 22 columns</p>\n",
       "</div>"
      ],
      "text/plain": [
       "   I.D   U.P  CENTRO MEDICO REGION  fechaRegistro  anio_de_registro  \\\n",
       "0  1.0  2802  OFTALMOLOGICA     GAM    2022-05-02              2022   \n",
       "1  2.0  2802  OFTALMOLOGICA     GAM    2022-05-02              2022   \n",
       "2  3.0  2802  OFTALMOLOGICA     GAM    2022-05-02              2022   \n",
       "\n",
       "   mesRegistro  diaRegistro             Servicio  Especialidad  ...  \\\n",
       "0            5            2  Cirugía Ambulatoria  Oftalmología  ...   \n",
       "1            5            2  Cirugía Ambulatoria  Oftalmología  ...   \n",
       "2            5            2  Cirugía Ambulatoria  Oftalmología  ...   \n",
       "\n",
       "   estado_cita fecha_de_atencion CodigoDiagnostico descripcionDiagnostico  \\\n",
       "0    Pendiente               NaT              H262    Catarata complicada   \n",
       "1    Pendiente               NaT              H262    Catarata complicada   \n",
       "2    Pendiente               NaT              H262    Catarata complicada   \n",
       "\n",
       "  fechaNacimiento Provincia    Canton Lateralidad       Sexo            Origen  \n",
       "0      1944-04-14  Alajuela    Sarchí     Derecha  Masculino  Consulta Externa  \n",
       "1      1945-07-26   Cartago   Cartago   Izquierda  Masculino  Consulta Externa  \n",
       "2      1948-09-27  Alajuela  Alajuela   Izquierda  Masculino  Consulta Externa  \n",
       "\n",
       "[3 rows x 22 columns]"
      ]
     },
     "execution_count": 7,
     "metadata": {},
     "output_type": "execute_result"
    }
   ],
   "source": [
    "dfLQX = dfLista.loc[:,['I.D', 'U.P', 'CENTRO MEDICO', 'REGION ', 'fechaRegistro',\n",
    "                'anio_de_registro', 'mesRegistro', 'diaRegistro', 'Servicio',\n",
    "                'Especialidad', 'plazoEspera', 'modalidad_atencion', 'estado_cita','fecha_de_atencion',\n",
    "               'CodigoDiagnostico','descripcionDiagnostico','fechaNacimiento','Provincia', 'Canton', \n",
    "               'Lateralidad', 'Sexo', 'Origen']]\n",
    "dfLQX.head(3)"
   ]
  },
  {
   "cell_type": "code",
   "execution_count": 8,
   "id": "54582982",
   "metadata": {},
   "outputs": [
    {
     "data": {
      "text/plain": [
       "Index(['I.D', 'U.P', 'CENTRO MEDICO', 'REGION ', 'fechaRegistro',\n",
       "       'anio_de_registro', 'mesRegistro', 'diaRegistro', 'Servicio',\n",
       "       'Especialidad', 'plazoEspera', 'modalidad_atencion', 'estado_cita',\n",
       "       'fecha_de_atencion', 'CodigoDiagnostico', 'descripcionDiagnostico',\n",
       "       'fechaNacimiento', 'Provincia', 'Canton', 'Lateralidad', 'Sexo',\n",
       "       'Origen'],\n",
       "      dtype='object')"
      ]
     },
     "execution_count": 8,
     "metadata": {},
     "output_type": "execute_result"
    }
   ],
   "source": [
    "dfLQX.columns"
   ]
  },
  {
   "cell_type": "code",
   "execution_count": 9,
   "id": "93c63c24",
   "metadata": {},
   "outputs": [
    {
     "data": {
      "text/plain": [
       "Index(['idUtle', 'up', 'centroMedico', 'region', 'fechaRegistro',\n",
       "       'anoRegistro', 'mesRegistro', 'diaRegistro', 'servicio', 'especialidad',\n",
       "       'plazoEspera', 'modalidad', 'estadoCita', 'fechaAtencion',\n",
       "       'codDiagnostico', 'dscDiagnostico', 'fechaNacimiento', 'provincia',\n",
       "       'canton', 'lateralidad', 'sexo', 'origen'],\n",
       "      dtype='object')"
      ]
     },
     "execution_count": 9,
     "metadata": {},
     "output_type": "execute_result"
    }
   ],
   "source": [
    "dfLQX = dfLQX.rename(columns={'I.D':'idUtle', 'U.P':'up', 'CENTRO MEDICO':'centroMedico', 'REGION ':'region',\n",
    "                              'anio_de_registro':'anoRegistro', 'Servicio':'servicio','Especialidad':'especialidad',\n",
    "                              'modalidad_atencion':'modalidad', 'estado_cita':'estadoCita','fecha_de_atencion':'fechaAtencion',\n",
    "                              'CodigoDiagnostico':'codDiagnostico','descripcionDiagnostico':'dscDiagnostico','Provincia':'provincia',\n",
    "                              'Canton':'canton','Lateralidad':'lateralidad', 'Sexo':'sexo', 'Origen':'origen'})\n",
    "\n",
    "dfLQX.columns"
   ]
  },
  {
   "cell_type": "code",
   "execution_count": 10,
   "id": "11e259a4",
   "metadata": {},
   "outputs": [
    {
     "name": "stdout",
     "output_type": "stream",
     "text": [
      "<class 'pandas.core.frame.DataFrame'>\n",
      "RangeIndex: 849976 entries, 0 to 849975\n",
      "Data columns (total 22 columns):\n",
      " #   Column           Non-Null Count   Dtype         \n",
      "---  ------           --------------   -----         \n",
      " 0   idUtle           848213 non-null  float64       \n",
      " 1   up               849976 non-null  int64         \n",
      " 2   centroMedico     849976 non-null  object        \n",
      " 3   region           849976 non-null  object        \n",
      " 4   fechaRegistro    849976 non-null  datetime64[ns]\n",
      " 5   anoRegistro      849976 non-null  int64         \n",
      " 6   mesRegistro      849976 non-null  int64         \n",
      " 7   diaRegistro      849976 non-null  int64         \n",
      " 8   servicio         849976 non-null  object        \n",
      " 9   especialidad     849976 non-null  object        \n",
      " 10  plazoEspera      840803 non-null  float64       \n",
      " 11  modalidad        849976 non-null  object        \n",
      " 12  estadoCita       849976 non-null  object        \n",
      " 13  fechaAtencion    660166 non-null  datetime64[ns]\n",
      " 14  codDiagnostico   849976 non-null  object        \n",
      " 15  dscDiagnostico   849970 non-null  object        \n",
      " 16  fechaNacimiento  849957 non-null  datetime64[ns]\n",
      " 17  provincia        849782 non-null  object        \n",
      " 18  canton           849782 non-null  object        \n",
      " 19  lateralidad      849976 non-null  object        \n",
      " 20  sexo             849976 non-null  object        \n",
      " 21  origen           849976 non-null  object        \n",
      "dtypes: datetime64[ns](3), float64(2), int64(4), object(13)\n",
      "memory usage: 142.7+ MB\n"
     ]
    }
   ],
   "source": [
    "dfLQX.info()"
   ]
  },
  {
   "cell_type": "markdown",
   "id": "f802138b",
   "metadata": {},
   "source": [
    "<h2 style=\"color: #2F4F4F\">3. Calculo de Datos</h2>\n",
    "\n",
    "<p>Con el set de datos filtrado, y seleccionadas las variables es importante generar los datos necesarios para el proceso de series temporales, a traves del cual se diseña el forecasting solicitado</p>\n",
    "<br>\n",
    "<p style=\"font-weight: bold;color: #00008B\">Primero:<p/> \n",
    "\n",
    "<p>Obtener la cantidad de personas en estado Pendinte. Esto representa los usuarios en lista de espera a la fecha de corte. Para obtener esto, se realiza una agrupamiento de los datos, segun \"Estado de la Cita\", y a la vez se cuenta la cantidad de registros por estado. </p>\n"
   ]
  },
  {
   "cell_type": "code",
   "execution_count": 11,
   "id": "b53d7833",
   "metadata": {},
   "outputs": [
    {
     "data": {
      "text/html": [
       "<div>\n",
       "<style scoped>\n",
       "    .dataframe tbody tr th:only-of-type {\n",
       "        vertical-align: middle;\n",
       "    }\n",
       "\n",
       "    .dataframe tbody tr th {\n",
       "        vertical-align: top;\n",
       "    }\n",
       "\n",
       "    .dataframe thead th {\n",
       "        text-align: right;\n",
       "    }\n",
       "</style>\n",
       "<table border=\"1\" class=\"dataframe\">\n",
       "  <thead>\n",
       "    <tr style=\"text-align: right;\">\n",
       "      <th></th>\n",
       "      <th>Cantidad</th>\n",
       "    </tr>\n",
       "    <tr>\n",
       "      <th>estadoCita</th>\n",
       "      <th></th>\n",
       "    </tr>\n",
       "  </thead>\n",
       "  <tbody>\n",
       "    <tr>\n",
       "      <th>Depurado</th>\n",
       "      <td>192329</td>\n",
       "    </tr>\n",
       "    <tr>\n",
       "      <th>Derivado</th>\n",
       "      <td>11234</td>\n",
       "    </tr>\n",
       "    <tr>\n",
       "      <th>Pendiente</th>\n",
       "      <td>177561</td>\n",
       "    </tr>\n",
       "    <tr>\n",
       "      <th>Resuelto</th>\n",
       "      <td>467089</td>\n",
       "    </tr>\n",
       "  </tbody>\n",
       "</table>\n",
       "</div>"
      ],
      "text/plain": [
       "            Cantidad\n",
       "estadoCita          \n",
       "Depurado      192329\n",
       "Derivado       11234\n",
       "Pendiente     177561\n",
       "Resuelto      467089"
      ]
     },
     "execution_count": 11,
     "metadata": {},
     "output_type": "execute_result"
    }
   ],
   "source": [
    "dfEstado = dfLQX.groupby(['estadoCita']).count()\n",
    "dfEstado = dfEstado.iloc[:,:1]\n",
    "dfEstado = dfEstado.rename(columns={'idUtle':'Cantidad'})\n",
    "dfEstado"
   ]
  },
  {
   "cell_type": "markdown",
   "id": "5966963a",
   "metadata": {},
   "source": [
    "<p style=\"font-weight: bold;color: #00008B\">Segundo:<p/> \n",
    "\n",
    "<p>Obtener la cantidad de ingreso de pacientes a la lista de espera, en el mes de corte, para esto es necesario realizar filtrar todos los registros correspondientes al mes de corte</p>"
   ]
  },
  {
   "cell_type": "code",
   "execution_count": 12,
   "id": "1c330872",
   "metadata": {},
   "outputs": [
    {
     "data": {
      "text/plain": [
       "10603"
      ]
     },
     "execution_count": 12,
     "metadata": {},
     "output_type": "execute_result"
    }
   ],
   "source": [
    "dfIngresosAno = dfLQX[dfLQX['anoRegistro'] == 2022]\n",
    "dfIngresosMes = dfIngresosAno[dfIngresosAno['mesRegistro'] == 4]\n",
    "dfIngresosMes[\"idUtle\"].count()"
   ]
  },
  {
   "cell_type": "markdown",
   "id": "5d7a9f4d",
   "metadata": {},
   "source": [
    "<p style=\"font-weight: bold;color: #00008B\">Tercero:<p/> \n",
    "\n",
    "<p>Obtener la cantidad de resolución de pacientes en lista de espera, en el mes de corte, para esto es necesario obtener el dato de resoluciones del mes anterior (ingreso manual), para con el dato obtenido en el primer paso restar el dato de resoluciones del mes anterior.</p>"
   ]
  },
  {
   "cell_type": "code",
   "execution_count": 13,
   "id": "23412780",
   "metadata": {},
   "outputs": [
    {
     "data": {
      "text/plain": [
       "5955"
      ]
     },
     "execution_count": 13,
     "metadata": {},
     "output_type": "execute_result"
    }
   ],
   "source": [
    "resoluciones = 467089 - 461134\n",
    "resoluciones"
   ]
  },
  {
   "cell_type": "markdown",
   "id": "4f6eafe4",
   "metadata": {},
   "source": [
    "<p style=\"font-weight: bold;color: #00008B\">Cuarto:<p/> \n",
    "\n",
    "<p>Obtener la cantidad de depuraciones de pacientes en lista de espera, en el mes de corte, para esto es necesario obtener el dato de depuraciones del mes anterior (ingreso manual), para con el dato obtenido en el primer paso restar el dato de depuraciones del mes anterior.</p>"
   ]
  },
  {
   "cell_type": "code",
   "execution_count": 14,
   "id": "26e7c31f",
   "metadata": {},
   "outputs": [
    {
     "data": {
      "text/plain": [
       "1527"
      ]
     },
     "execution_count": 14,
     "metadata": {},
     "output_type": "execute_result"
    }
   ],
   "source": [
    "depuraciones = 192329 - 190802\n",
    "depuraciones"
   ]
  },
  {
   "cell_type": "markdown",
   "id": "1117321f",
   "metadata": {},
   "source": [
    "<p style=\"font-weight: bold;color: #00008B\">Quinto:<p/> \n",
    "\n",
    "<p>Obtener el plazo promedio de espera en la Lista de Espera Quirurgica. Para esto se filtran los datos de los pacientes con estado de cita igual a \"Pendiente\", con base en eso se calcula el promedio de la columna plazoEspera.</p>"
   ]
  },
  {
   "cell_type": "code",
   "execution_count": 15,
   "id": "453f9646",
   "metadata": {},
   "outputs": [
    {
     "name": "stdout",
     "output_type": "stream",
     "text": [
      "Promedio del Plazo de Espera:  539.0776789892373\n"
     ]
    }
   ],
   "source": [
    "dfPendientes = dfLQX[dfLQX['estadoCita'] == \"Pendiente\"]\n",
    "avg_plazo = dfPendientes[\"plazoEspera\"].astype(\"float\").mean(axis=0)\n",
    "print (\"Promedio del Plazo de Espera: \", avg_plazo)"
   ]
  },
  {
   "cell_type": "markdown",
   "id": "1dafe5d5",
   "metadata": {},
   "source": [
    "<p style=\"font-weight: bold;color: #00008B\">Sexto:<p/> \n",
    "\n",
    "<p>Estimación de la edad de las personas que conforman la lista de espera. Se realiza únicamente sobre los casos pendientes por tratarse de un Analisis Descriptivo</p>"
   ]
  },
  {
   "cell_type": "code",
   "execution_count": 16,
   "id": "9b96bc37",
   "metadata": {},
   "outputs": [
    {
     "name": "stdout",
     "output_type": "stream",
     "text": [
      "178004\n"
     ]
    }
   ],
   "source": [
    "lst_edad = []\n",
    "\n",
    "for x in dfPendientes.itertuples():\n",
    "    aNacimiento = x.fechaNacimiento.year\n",
    "    edad = 2022 - aNacimiento\n",
    "    lst_edad.append(edad)\n",
    "\n",
    "print (len(lst_edad))"
   ]
  },
  {
   "cell_type": "code",
   "execution_count": 17,
   "id": "e8bee5e9",
   "metadata": {},
   "outputs": [
    {
     "data": {
      "text/html": [
       "<div>\n",
       "<style scoped>\n",
       "    .dataframe tbody tr th:only-of-type {\n",
       "        vertical-align: middle;\n",
       "    }\n",
       "\n",
       "    .dataframe tbody tr th {\n",
       "        vertical-align: top;\n",
       "    }\n",
       "\n",
       "    .dataframe thead th {\n",
       "        text-align: right;\n",
       "    }\n",
       "</style>\n",
       "<table border=\"1\" class=\"dataframe\">\n",
       "  <thead>\n",
       "    <tr style=\"text-align: right;\">\n",
       "      <th></th>\n",
       "      <th>idUtle</th>\n",
       "      <th>up</th>\n",
       "      <th>centroMedico</th>\n",
       "      <th>region</th>\n",
       "      <th>fechaRegistro</th>\n",
       "      <th>anoRegistro</th>\n",
       "      <th>mesRegistro</th>\n",
       "      <th>diaRegistro</th>\n",
       "      <th>servicio</th>\n",
       "      <th>especialidad</th>\n",
       "      <th>...</th>\n",
       "      <th>fechaAtencion</th>\n",
       "      <th>codDiagnostico</th>\n",
       "      <th>dscDiagnostico</th>\n",
       "      <th>fechaNacimiento</th>\n",
       "      <th>provincia</th>\n",
       "      <th>canton</th>\n",
       "      <th>lateralidad</th>\n",
       "      <th>sexo</th>\n",
       "      <th>origen</th>\n",
       "      <th>Edad</th>\n",
       "    </tr>\n",
       "  </thead>\n",
       "  <tbody>\n",
       "    <tr>\n",
       "      <th>0</th>\n",
       "      <td>1.0</td>\n",
       "      <td>2802</td>\n",
       "      <td>OFTALMOLOGICA</td>\n",
       "      <td>GAM</td>\n",
       "      <td>2022-05-02</td>\n",
       "      <td>2022</td>\n",
       "      <td>5</td>\n",
       "      <td>2</td>\n",
       "      <td>Cirugía Ambulatoria</td>\n",
       "      <td>Oftalmología</td>\n",
       "      <td>...</td>\n",
       "      <td>NaT</td>\n",
       "      <td>H262</td>\n",
       "      <td>Catarata complicada</td>\n",
       "      <td>1944-04-14</td>\n",
       "      <td>Alajuela</td>\n",
       "      <td>Sarchí</td>\n",
       "      <td>Derecha</td>\n",
       "      <td>Masculino</td>\n",
       "      <td>Consulta Externa</td>\n",
       "      <td>78.0</td>\n",
       "    </tr>\n",
       "    <tr>\n",
       "      <th>1</th>\n",
       "      <td>2.0</td>\n",
       "      <td>2802</td>\n",
       "      <td>OFTALMOLOGICA</td>\n",
       "      <td>GAM</td>\n",
       "      <td>2022-05-02</td>\n",
       "      <td>2022</td>\n",
       "      <td>5</td>\n",
       "      <td>2</td>\n",
       "      <td>Cirugía Ambulatoria</td>\n",
       "      <td>Oftalmología</td>\n",
       "      <td>...</td>\n",
       "      <td>NaT</td>\n",
       "      <td>H262</td>\n",
       "      <td>Catarata complicada</td>\n",
       "      <td>1945-07-26</td>\n",
       "      <td>Cartago</td>\n",
       "      <td>Cartago</td>\n",
       "      <td>Izquierda</td>\n",
       "      <td>Masculino</td>\n",
       "      <td>Consulta Externa</td>\n",
       "      <td>77.0</td>\n",
       "    </tr>\n",
       "    <tr>\n",
       "      <th>2</th>\n",
       "      <td>3.0</td>\n",
       "      <td>2802</td>\n",
       "      <td>OFTALMOLOGICA</td>\n",
       "      <td>GAM</td>\n",
       "      <td>2022-05-02</td>\n",
       "      <td>2022</td>\n",
       "      <td>5</td>\n",
       "      <td>2</td>\n",
       "      <td>Cirugía Ambulatoria</td>\n",
       "      <td>Oftalmología</td>\n",
       "      <td>...</td>\n",
       "      <td>NaT</td>\n",
       "      <td>H262</td>\n",
       "      <td>Catarata complicada</td>\n",
       "      <td>1948-09-27</td>\n",
       "      <td>Alajuela</td>\n",
       "      <td>Alajuela</td>\n",
       "      <td>Izquierda</td>\n",
       "      <td>Masculino</td>\n",
       "      <td>Consulta Externa</td>\n",
       "      <td>74.0</td>\n",
       "    </tr>\n",
       "  </tbody>\n",
       "</table>\n",
       "<p>3 rows × 23 columns</p>\n",
       "</div>"
      ],
      "text/plain": [
       "   idUtle    up   centroMedico region fechaRegistro  anoRegistro  mesRegistro  \\\n",
       "0     1.0  2802  OFTALMOLOGICA    GAM    2022-05-02         2022            5   \n",
       "1     2.0  2802  OFTALMOLOGICA    GAM    2022-05-02         2022            5   \n",
       "2     3.0  2802  OFTALMOLOGICA    GAM    2022-05-02         2022            5   \n",
       "\n",
       "   diaRegistro             servicio  especialidad  ...  fechaAtencion  \\\n",
       "0            2  Cirugía Ambulatoria  Oftalmología  ...            NaT   \n",
       "1            2  Cirugía Ambulatoria  Oftalmología  ...            NaT   \n",
       "2            2  Cirugía Ambulatoria  Oftalmología  ...            NaT   \n",
       "\n",
       "  codDiagnostico       dscDiagnostico fechaNacimiento provincia    canton  \\\n",
       "0           H262  Catarata complicada      1944-04-14  Alajuela    Sarchí   \n",
       "1           H262  Catarata complicada      1945-07-26   Cartago   Cartago   \n",
       "2           H262  Catarata complicada      1948-09-27  Alajuela  Alajuela   \n",
       "\n",
       "  lateralidad       sexo            origen  Edad  \n",
       "0     Derecha  Masculino  Consulta Externa  78.0  \n",
       "1   Izquierda  Masculino  Consulta Externa  77.0  \n",
       "2   Izquierda  Masculino  Consulta Externa  74.0  \n",
       "\n",
       "[3 rows x 23 columns]"
      ]
     },
     "execution_count": 17,
     "metadata": {},
     "output_type": "execute_result"
    }
   ],
   "source": [
    "dfPendientes.insert(22,\"Edad\",lst_edad,True)\n",
    "dfPendientes.head(3)"
   ]
  },
  {
   "cell_type": "code",
   "execution_count": 18,
   "id": "93311845",
   "metadata": {},
   "outputs": [
    {
     "name": "stdout",
     "output_type": "stream",
     "text": [
      "<class 'pandas.core.frame.DataFrame'>\n",
      "Int64Index: 178004 entries, 0 to 760360\n",
      "Data columns (total 23 columns):\n",
      " #   Column           Non-Null Count   Dtype         \n",
      "---  ------           --------------   -----         \n",
      " 0   idUtle           177561 non-null  float64       \n",
      " 1   up               178004 non-null  int64         \n",
      " 2   centroMedico     178004 non-null  object        \n",
      " 3   region           178004 non-null  object        \n",
      " 4   fechaRegistro    178004 non-null  datetime64[ns]\n",
      " 5   anoRegistro      178004 non-null  int64         \n",
      " 6   mesRegistro      178004 non-null  int64         \n",
      " 7   diaRegistro      178004 non-null  int64         \n",
      " 8   servicio         178004 non-null  object        \n",
      " 9   especialidad     178004 non-null  object        \n",
      " 10  plazoEspera      177371 non-null  float64       \n",
      " 11  modalidad        178004 non-null  object        \n",
      " 12  estadoCita       178004 non-null  object        \n",
      " 13  fechaAtencion    0 non-null       datetime64[ns]\n",
      " 14  codDiagnostico   178004 non-null  object        \n",
      " 15  dscDiagnostico   178004 non-null  object        \n",
      " 16  fechaNacimiento  178003 non-null  datetime64[ns]\n",
      " 17  provincia        177810 non-null  object        \n",
      " 18  canton           177810 non-null  object        \n",
      " 19  lateralidad      178004 non-null  object        \n",
      " 20  sexo             178004 non-null  object        \n",
      " 21  origen           178004 non-null  object        \n",
      " 22  Edad             178003 non-null  float64       \n",
      "dtypes: datetime64[ns](3), float64(3), int64(4), object(13)\n",
      "memory usage: 32.6+ MB\n"
     ]
    }
   ],
   "source": [
    "dfPendientes.info()"
   ]
  },
  {
   "cell_type": "code",
   "execution_count": 19,
   "id": "dd454a1d",
   "metadata": {},
   "outputs": [
    {
     "data": {
      "text/html": [
       "<div>\n",
       "<style scoped>\n",
       "    .dataframe tbody tr th:only-of-type {\n",
       "        vertical-align: middle;\n",
       "    }\n",
       "\n",
       "    .dataframe tbody tr th {\n",
       "        vertical-align: top;\n",
       "    }\n",
       "\n",
       "    .dataframe thead th {\n",
       "        text-align: right;\n",
       "    }\n",
       "</style>\n",
       "<table border=\"1\" class=\"dataframe\">\n",
       "  <thead>\n",
       "    <tr style=\"text-align: right;\">\n",
       "      <th></th>\n",
       "      <th>idUtle</th>\n",
       "      <th>up</th>\n",
       "      <th>centroMedico</th>\n",
       "      <th>region</th>\n",
       "      <th>fechaRegistro</th>\n",
       "      <th>anoRegistro</th>\n",
       "      <th>mesRegistro</th>\n",
       "      <th>diaRegistro</th>\n",
       "      <th>servicio</th>\n",
       "      <th>especialidad</th>\n",
       "      <th>...</th>\n",
       "      <th>fechaAtencion</th>\n",
       "      <th>codDiagnostico</th>\n",
       "      <th>dscDiagnostico</th>\n",
       "      <th>fechaNacimiento</th>\n",
       "      <th>provincia</th>\n",
       "      <th>canton</th>\n",
       "      <th>lateralidad</th>\n",
       "      <th>sexo</th>\n",
       "      <th>origen</th>\n",
       "      <th>Edad</th>\n",
       "    </tr>\n",
       "  </thead>\n",
       "  <tbody>\n",
       "    <tr>\n",
       "      <th>0</th>\n",
       "      <td>1.0</td>\n",
       "      <td>2802</td>\n",
       "      <td>OFTALMOLOGICA</td>\n",
       "      <td>GAM</td>\n",
       "      <td>2022-05-02</td>\n",
       "      <td>2022</td>\n",
       "      <td>5</td>\n",
       "      <td>2</td>\n",
       "      <td>Cirugía Ambulatoria</td>\n",
       "      <td>Oftalmología</td>\n",
       "      <td>...</td>\n",
       "      <td>0</td>\n",
       "      <td>H262</td>\n",
       "      <td>Catarata complicada</td>\n",
       "      <td>1944-04-14 00:00:00</td>\n",
       "      <td>Alajuela</td>\n",
       "      <td>Sarchí</td>\n",
       "      <td>Derecha</td>\n",
       "      <td>Masculino</td>\n",
       "      <td>Consulta Externa</td>\n",
       "      <td>78.0</td>\n",
       "    </tr>\n",
       "    <tr>\n",
       "      <th>1</th>\n",
       "      <td>2.0</td>\n",
       "      <td>2802</td>\n",
       "      <td>OFTALMOLOGICA</td>\n",
       "      <td>GAM</td>\n",
       "      <td>2022-05-02</td>\n",
       "      <td>2022</td>\n",
       "      <td>5</td>\n",
       "      <td>2</td>\n",
       "      <td>Cirugía Ambulatoria</td>\n",
       "      <td>Oftalmología</td>\n",
       "      <td>...</td>\n",
       "      <td>0</td>\n",
       "      <td>H262</td>\n",
       "      <td>Catarata complicada</td>\n",
       "      <td>1945-07-26 00:00:00</td>\n",
       "      <td>Cartago</td>\n",
       "      <td>Cartago</td>\n",
       "      <td>Izquierda</td>\n",
       "      <td>Masculino</td>\n",
       "      <td>Consulta Externa</td>\n",
       "      <td>77.0</td>\n",
       "    </tr>\n",
       "    <tr>\n",
       "      <th>2</th>\n",
       "      <td>3.0</td>\n",
       "      <td>2802</td>\n",
       "      <td>OFTALMOLOGICA</td>\n",
       "      <td>GAM</td>\n",
       "      <td>2022-05-02</td>\n",
       "      <td>2022</td>\n",
       "      <td>5</td>\n",
       "      <td>2</td>\n",
       "      <td>Cirugía Ambulatoria</td>\n",
       "      <td>Oftalmología</td>\n",
       "      <td>...</td>\n",
       "      <td>0</td>\n",
       "      <td>H262</td>\n",
       "      <td>Catarata complicada</td>\n",
       "      <td>1948-09-27 00:00:00</td>\n",
       "      <td>Alajuela</td>\n",
       "      <td>Alajuela</td>\n",
       "      <td>Izquierda</td>\n",
       "      <td>Masculino</td>\n",
       "      <td>Consulta Externa</td>\n",
       "      <td>74.0</td>\n",
       "    </tr>\n",
       "    <tr>\n",
       "      <th>3</th>\n",
       "      <td>4.0</td>\n",
       "      <td>2802</td>\n",
       "      <td>OFTALMOLOGICA</td>\n",
       "      <td>GAM</td>\n",
       "      <td>2022-05-02</td>\n",
       "      <td>2022</td>\n",
       "      <td>5</td>\n",
       "      <td>2</td>\n",
       "      <td>Cirugía Ambulatoria</td>\n",
       "      <td>Oftalmología</td>\n",
       "      <td>...</td>\n",
       "      <td>0</td>\n",
       "      <td>H262</td>\n",
       "      <td>Catarata complicada</td>\n",
       "      <td>1947-04-21 00:00:00</td>\n",
       "      <td>Alajuela</td>\n",
       "      <td>Alajuela</td>\n",
       "      <td>Derecha</td>\n",
       "      <td>Femenino</td>\n",
       "      <td>Consulta Externa</td>\n",
       "      <td>75.0</td>\n",
       "    </tr>\n",
       "    <tr>\n",
       "      <th>4</th>\n",
       "      <td>5.0</td>\n",
       "      <td>2502</td>\n",
       "      <td>H. ENRIQUE BALTODANO</td>\n",
       "      <td>CHOROTEGA</td>\n",
       "      <td>2022-05-02</td>\n",
       "      <td>2022</td>\n",
       "      <td>5</td>\n",
       "      <td>2</td>\n",
       "      <td>Cirugía Ambulatoria</td>\n",
       "      <td>Oftalmología</td>\n",
       "      <td>...</td>\n",
       "      <td>0</td>\n",
       "      <td>H251</td>\n",
       "      <td>Catarata senil nuclear</td>\n",
       "      <td>1951-10-20 00:00:00</td>\n",
       "      <td>Guanacaste</td>\n",
       "      <td>Cañas</td>\n",
       "      <td>Izquierda</td>\n",
       "      <td>Masculino</td>\n",
       "      <td>Consulta Externa</td>\n",
       "      <td>71.0</td>\n",
       "    </tr>\n",
       "  </tbody>\n",
       "</table>\n",
       "<p>5 rows × 23 columns</p>\n",
       "</div>"
      ],
      "text/plain": [
       "   idUtle    up          centroMedico     region fechaRegistro  anoRegistro  \\\n",
       "0     1.0  2802         OFTALMOLOGICA        GAM    2022-05-02         2022   \n",
       "1     2.0  2802         OFTALMOLOGICA        GAM    2022-05-02         2022   \n",
       "2     3.0  2802         OFTALMOLOGICA        GAM    2022-05-02         2022   \n",
       "3     4.0  2802         OFTALMOLOGICA        GAM    2022-05-02         2022   \n",
       "4     5.0  2502  H. ENRIQUE BALTODANO  CHOROTEGA    2022-05-02         2022   \n",
       "\n",
       "   mesRegistro  diaRegistro             servicio  especialidad  ...  \\\n",
       "0            5            2  Cirugía Ambulatoria  Oftalmología  ...   \n",
       "1            5            2  Cirugía Ambulatoria  Oftalmología  ...   \n",
       "2            5            2  Cirugía Ambulatoria  Oftalmología  ...   \n",
       "3            5            2  Cirugía Ambulatoria  Oftalmología  ...   \n",
       "4            5            2  Cirugía Ambulatoria  Oftalmología  ...   \n",
       "\n",
       "   fechaAtencion codDiagnostico          dscDiagnostico      fechaNacimiento  \\\n",
       "0              0           H262     Catarata complicada  1944-04-14 00:00:00   \n",
       "1              0           H262     Catarata complicada  1945-07-26 00:00:00   \n",
       "2              0           H262     Catarata complicada  1948-09-27 00:00:00   \n",
       "3              0           H262     Catarata complicada  1947-04-21 00:00:00   \n",
       "4              0           H251  Catarata senil nuclear  1951-10-20 00:00:00   \n",
       "\n",
       "    provincia    canton lateralidad       sexo            origen  Edad  \n",
       "0    Alajuela    Sarchí     Derecha  Masculino  Consulta Externa  78.0  \n",
       "1     Cartago   Cartago   Izquierda  Masculino  Consulta Externa  77.0  \n",
       "2    Alajuela  Alajuela   Izquierda  Masculino  Consulta Externa  74.0  \n",
       "3    Alajuela  Alajuela     Derecha   Femenino  Consulta Externa  75.0  \n",
       "4  Guanacaste     Cañas   Izquierda  Masculino  Consulta Externa  71.0  \n",
       "\n",
       "[5 rows x 23 columns]"
      ]
     },
     "execution_count": 19,
     "metadata": {},
     "output_type": "execute_result"
    }
   ],
   "source": [
    "dfPendientes_isnull = dfPendientes.fillna(0)\n",
    "dfPendientes_isnull.head()"
   ]
  },
  {
   "cell_type": "markdown",
   "id": "11fe17e9",
   "metadata": {},
   "source": [
    "<h2 style=\"color: #008B8B\">Manejo de Valores Faltantes</h2>\n",
    "\n",
    "<p></p>"
   ]
  },
  {
   "cell_type": "code",
   "execution_count": 20,
   "id": "0bf01acd",
   "metadata": {},
   "outputs": [],
   "source": [
    "valoresPerdidos = dfPendientes.isnull()"
   ]
  },
  {
   "cell_type": "code",
   "execution_count": 21,
   "id": "24c00de1",
   "metadata": {},
   "outputs": [
    {
     "data": {
      "text/html": [
       "<div>\n",
       "<style scoped>\n",
       "    .dataframe tbody tr th:only-of-type {\n",
       "        vertical-align: middle;\n",
       "    }\n",
       "\n",
       "    .dataframe tbody tr th {\n",
       "        vertical-align: top;\n",
       "    }\n",
       "\n",
       "    .dataframe thead th {\n",
       "        text-align: right;\n",
       "    }\n",
       "</style>\n",
       "<table border=\"1\" class=\"dataframe\">\n",
       "  <thead>\n",
       "    <tr style=\"text-align: right;\">\n",
       "      <th></th>\n",
       "      <th>idUtle</th>\n",
       "      <th>up</th>\n",
       "      <th>centroMedico</th>\n",
       "      <th>region</th>\n",
       "      <th>fechaRegistro</th>\n",
       "      <th>anoRegistro</th>\n",
       "      <th>mesRegistro</th>\n",
       "      <th>diaRegistro</th>\n",
       "      <th>servicio</th>\n",
       "      <th>especialidad</th>\n",
       "      <th>...</th>\n",
       "      <th>fechaAtencion</th>\n",
       "      <th>codDiagnostico</th>\n",
       "      <th>dscDiagnostico</th>\n",
       "      <th>fechaNacimiento</th>\n",
       "      <th>provincia</th>\n",
       "      <th>canton</th>\n",
       "      <th>lateralidad</th>\n",
       "      <th>sexo</th>\n",
       "      <th>origen</th>\n",
       "      <th>Edad</th>\n",
       "    </tr>\n",
       "  </thead>\n",
       "  <tbody>\n",
       "    <tr>\n",
       "      <th>0</th>\n",
       "      <td>False</td>\n",
       "      <td>False</td>\n",
       "      <td>False</td>\n",
       "      <td>False</td>\n",
       "      <td>False</td>\n",
       "      <td>False</td>\n",
       "      <td>False</td>\n",
       "      <td>False</td>\n",
       "      <td>False</td>\n",
       "      <td>False</td>\n",
       "      <td>...</td>\n",
       "      <td>True</td>\n",
       "      <td>False</td>\n",
       "      <td>False</td>\n",
       "      <td>False</td>\n",
       "      <td>False</td>\n",
       "      <td>False</td>\n",
       "      <td>False</td>\n",
       "      <td>False</td>\n",
       "      <td>False</td>\n",
       "      <td>False</td>\n",
       "    </tr>\n",
       "    <tr>\n",
       "      <th>1</th>\n",
       "      <td>False</td>\n",
       "      <td>False</td>\n",
       "      <td>False</td>\n",
       "      <td>False</td>\n",
       "      <td>False</td>\n",
       "      <td>False</td>\n",
       "      <td>False</td>\n",
       "      <td>False</td>\n",
       "      <td>False</td>\n",
       "      <td>False</td>\n",
       "      <td>...</td>\n",
       "      <td>True</td>\n",
       "      <td>False</td>\n",
       "      <td>False</td>\n",
       "      <td>False</td>\n",
       "      <td>False</td>\n",
       "      <td>False</td>\n",
       "      <td>False</td>\n",
       "      <td>False</td>\n",
       "      <td>False</td>\n",
       "      <td>False</td>\n",
       "    </tr>\n",
       "    <tr>\n",
       "      <th>2</th>\n",
       "      <td>False</td>\n",
       "      <td>False</td>\n",
       "      <td>False</td>\n",
       "      <td>False</td>\n",
       "      <td>False</td>\n",
       "      <td>False</td>\n",
       "      <td>False</td>\n",
       "      <td>False</td>\n",
       "      <td>False</td>\n",
       "      <td>False</td>\n",
       "      <td>...</td>\n",
       "      <td>True</td>\n",
       "      <td>False</td>\n",
       "      <td>False</td>\n",
       "      <td>False</td>\n",
       "      <td>False</td>\n",
       "      <td>False</td>\n",
       "      <td>False</td>\n",
       "      <td>False</td>\n",
       "      <td>False</td>\n",
       "      <td>False</td>\n",
       "    </tr>\n",
       "    <tr>\n",
       "      <th>3</th>\n",
       "      <td>False</td>\n",
       "      <td>False</td>\n",
       "      <td>False</td>\n",
       "      <td>False</td>\n",
       "      <td>False</td>\n",
       "      <td>False</td>\n",
       "      <td>False</td>\n",
       "      <td>False</td>\n",
       "      <td>False</td>\n",
       "      <td>False</td>\n",
       "      <td>...</td>\n",
       "      <td>True</td>\n",
       "      <td>False</td>\n",
       "      <td>False</td>\n",
       "      <td>False</td>\n",
       "      <td>False</td>\n",
       "      <td>False</td>\n",
       "      <td>False</td>\n",
       "      <td>False</td>\n",
       "      <td>False</td>\n",
       "      <td>False</td>\n",
       "    </tr>\n",
       "    <tr>\n",
       "      <th>4</th>\n",
       "      <td>False</td>\n",
       "      <td>False</td>\n",
       "      <td>False</td>\n",
       "      <td>False</td>\n",
       "      <td>False</td>\n",
       "      <td>False</td>\n",
       "      <td>False</td>\n",
       "      <td>False</td>\n",
       "      <td>False</td>\n",
       "      <td>False</td>\n",
       "      <td>...</td>\n",
       "      <td>True</td>\n",
       "      <td>False</td>\n",
       "      <td>False</td>\n",
       "      <td>False</td>\n",
       "      <td>False</td>\n",
       "      <td>False</td>\n",
       "      <td>False</td>\n",
       "      <td>False</td>\n",
       "      <td>False</td>\n",
       "      <td>False</td>\n",
       "    </tr>\n",
       "  </tbody>\n",
       "</table>\n",
       "<p>5 rows × 23 columns</p>\n",
       "</div>"
      ],
      "text/plain": [
       "   idUtle     up  centroMedico  region  fechaRegistro  anoRegistro  \\\n",
       "0   False  False         False   False          False        False   \n",
       "1   False  False         False   False          False        False   \n",
       "2   False  False         False   False          False        False   \n",
       "3   False  False         False   False          False        False   \n",
       "4   False  False         False   False          False        False   \n",
       "\n",
       "   mesRegistro  diaRegistro  servicio  especialidad  ...  fechaAtencion  \\\n",
       "0        False        False     False         False  ...           True   \n",
       "1        False        False     False         False  ...           True   \n",
       "2        False        False     False         False  ...           True   \n",
       "3        False        False     False         False  ...           True   \n",
       "4        False        False     False         False  ...           True   \n",
       "\n",
       "   codDiagnostico  dscDiagnostico  fechaNacimiento  provincia  canton  \\\n",
       "0           False           False            False      False   False   \n",
       "1           False           False            False      False   False   \n",
       "2           False           False            False      False   False   \n",
       "3           False           False            False      False   False   \n",
       "4           False           False            False      False   False   \n",
       "\n",
       "   lateralidad   sexo  origen   Edad  \n",
       "0        False  False   False  False  \n",
       "1        False  False   False  False  \n",
       "2        False  False   False  False  \n",
       "3        False  False   False  False  \n",
       "4        False  False   False  False  \n",
       "\n",
       "[5 rows x 23 columns]"
      ]
     },
     "execution_count": 21,
     "metadata": {},
     "output_type": "execute_result"
    }
   ],
   "source": [
    "valoresPerdidos.head(5)"
   ]
  },
  {
   "cell_type": "code",
   "execution_count": 22,
   "id": "5fbf980f",
   "metadata": {},
   "outputs": [
    {
     "name": "stdout",
     "output_type": "stream",
     "text": [
      "idUtle\n",
      "False    177561\n",
      "True        443\n",
      "Name: idUtle, dtype: int64\n",
      "\n",
      "up\n",
      "False    178004\n",
      "Name: up, dtype: int64\n",
      "\n",
      "centroMedico\n",
      "False    178004\n",
      "Name: centroMedico, dtype: int64\n",
      "\n",
      "region\n",
      "False    178004\n",
      "Name: region, dtype: int64\n",
      "\n",
      "fechaRegistro\n",
      "False    178004\n",
      "Name: fechaRegistro, dtype: int64\n",
      "\n",
      "anoRegistro\n",
      "False    178004\n",
      "Name: anoRegistro, dtype: int64\n",
      "\n",
      "mesRegistro\n",
      "False    178004\n",
      "Name: mesRegistro, dtype: int64\n",
      "\n",
      "diaRegistro\n",
      "False    178004\n",
      "Name: diaRegistro, dtype: int64\n",
      "\n",
      "servicio\n",
      "False    178004\n",
      "Name: servicio, dtype: int64\n",
      "\n",
      "especialidad\n",
      "False    178004\n",
      "Name: especialidad, dtype: int64\n",
      "\n",
      "plazoEspera\n",
      "False    177371\n",
      "True        633\n",
      "Name: plazoEspera, dtype: int64\n",
      "\n",
      "modalidad\n",
      "False    178004\n",
      "Name: modalidad, dtype: int64\n",
      "\n",
      "estadoCita\n",
      "False    178004\n",
      "Name: estadoCita, dtype: int64\n",
      "\n",
      "fechaAtencion\n",
      "True    178004\n",
      "Name: fechaAtencion, dtype: int64\n",
      "\n",
      "codDiagnostico\n",
      "False    178004\n",
      "Name: codDiagnostico, dtype: int64\n",
      "\n",
      "dscDiagnostico\n",
      "False    178004\n",
      "Name: dscDiagnostico, dtype: int64\n",
      "\n",
      "fechaNacimiento\n",
      "False    178003\n",
      "True          1\n",
      "Name: fechaNacimiento, dtype: int64\n",
      "\n",
      "provincia\n",
      "False    177810\n",
      "True        194\n",
      "Name: provincia, dtype: int64\n",
      "\n",
      "canton\n",
      "False    177810\n",
      "True        194\n",
      "Name: canton, dtype: int64\n",
      "\n",
      "lateralidad\n",
      "False    178004\n",
      "Name: lateralidad, dtype: int64\n",
      "\n",
      "sexo\n",
      "False    178004\n",
      "Name: sexo, dtype: int64\n",
      "\n",
      "origen\n",
      "False    178004\n",
      "Name: origen, dtype: int64\n",
      "\n",
      "Edad\n",
      "False    178003\n",
      "True          1\n",
      "Name: Edad, dtype: int64\n",
      "\n"
     ]
    }
   ],
   "source": [
    "for column in valoresPerdidos.columns.values.tolist():\n",
    "    print (column)\n",
    "    print (valoresPerdidos[column].value_counts())\n",
    "    print (\"\")"
   ]
  },
  {
   "cell_type": "code",
   "execution_count": 23,
   "id": "311675d1",
   "metadata": {},
   "outputs": [],
   "source": [
    "dfPendientes.dropna()\n",
    "dfPendientes.reset_index(drop=True, inplace=True)"
   ]
  },
  {
   "cell_type": "code",
   "execution_count": 24,
   "id": "333bbad0",
   "metadata": {},
   "outputs": [
    {
     "name": "stderr",
     "output_type": "stream",
     "text": [
      "C:\\Users\\jgzuniga\\Anaconda3\\lib\\site-packages\\pandas\\core\\generic.py:6619: SettingWithCopyWarning: \n",
      "A value is trying to be set on a copy of a slice from a DataFrame\n",
      "\n",
      "See the caveats in the documentation: https://pandas.pydata.org/pandas-docs/stable/user_guide/indexing.html#returning-a-view-versus-a-copy\n",
      "  return self._update_inplace(result)\n"
     ]
    }
   ],
   "source": [
    "dfPendientes[\"Edad\"].replace(np.nan, 0, inplace=True)"
   ]
  },
  {
   "cell_type": "code",
   "execution_count": 25,
   "id": "94536c5c",
   "metadata": {},
   "outputs": [],
   "source": [
    "valoresPerdidos = dfPendientes.isnull()"
   ]
  },
  {
   "cell_type": "code",
   "execution_count": 26,
   "id": "5f051bb1",
   "metadata": {},
   "outputs": [
    {
     "name": "stdout",
     "output_type": "stream",
     "text": [
      "idUtle\n",
      "False    177561\n",
      "True        443\n",
      "Name: idUtle, dtype: int64\n",
      "\n",
      "up\n",
      "False    178004\n",
      "Name: up, dtype: int64\n",
      "\n",
      "centroMedico\n",
      "False    178004\n",
      "Name: centroMedico, dtype: int64\n",
      "\n",
      "region\n",
      "False    178004\n",
      "Name: region, dtype: int64\n",
      "\n",
      "fechaRegistro\n",
      "False    178004\n",
      "Name: fechaRegistro, dtype: int64\n",
      "\n",
      "anoRegistro\n",
      "False    178004\n",
      "Name: anoRegistro, dtype: int64\n",
      "\n",
      "mesRegistro\n",
      "False    178004\n",
      "Name: mesRegistro, dtype: int64\n",
      "\n",
      "diaRegistro\n",
      "False    178004\n",
      "Name: diaRegistro, dtype: int64\n",
      "\n",
      "servicio\n",
      "False    178004\n",
      "Name: servicio, dtype: int64\n",
      "\n",
      "especialidad\n",
      "False    178004\n",
      "Name: especialidad, dtype: int64\n",
      "\n",
      "plazoEspera\n",
      "False    177371\n",
      "True        633\n",
      "Name: plazoEspera, dtype: int64\n",
      "\n",
      "modalidad\n",
      "False    178004\n",
      "Name: modalidad, dtype: int64\n",
      "\n",
      "estadoCita\n",
      "False    178004\n",
      "Name: estadoCita, dtype: int64\n",
      "\n",
      "fechaAtencion\n",
      "True    178004\n",
      "Name: fechaAtencion, dtype: int64\n",
      "\n",
      "codDiagnostico\n",
      "False    178004\n",
      "Name: codDiagnostico, dtype: int64\n",
      "\n",
      "dscDiagnostico\n",
      "False    178004\n",
      "Name: dscDiagnostico, dtype: int64\n",
      "\n",
      "fechaNacimiento\n",
      "False    178003\n",
      "True          1\n",
      "Name: fechaNacimiento, dtype: int64\n",
      "\n",
      "provincia\n",
      "False    177810\n",
      "True        194\n",
      "Name: provincia, dtype: int64\n",
      "\n",
      "canton\n",
      "False    177810\n",
      "True        194\n",
      "Name: canton, dtype: int64\n",
      "\n",
      "lateralidad\n",
      "False    178004\n",
      "Name: lateralidad, dtype: int64\n",
      "\n",
      "sexo\n",
      "False    178004\n",
      "Name: sexo, dtype: int64\n",
      "\n",
      "origen\n",
      "False    178004\n",
      "Name: origen, dtype: int64\n",
      "\n",
      "Edad\n",
      "False    178004\n",
      "Name: Edad, dtype: int64\n",
      "\n"
     ]
    }
   ],
   "source": [
    "for column in valoresPerdidos.columns.values.tolist():\n",
    "    print (column)\n",
    "    print (valoresPerdidos[column].value_counts())\n",
    "    print (\"\")"
   ]
  },
  {
   "cell_type": "code",
   "execution_count": 27,
   "id": "56dd65a9",
   "metadata": {},
   "outputs": [],
   "source": [
    "dfPendientes[\"plazoEspera\"].replace(np.nan, 0, inplace=True)"
   ]
  },
  {
   "cell_type": "markdown",
   "id": "b8b079f7",
   "metadata": {},
   "source": [
    "<h2 style=\"color: #008B8B\">4. Graficos</h2>\n",
    "\n",
    "<p>Se inicia con la generación de graficos de datos macro de la lista de espera, esto permitirá conocer el set de datos</p>\n",
    "<br>\n",
    "\n",
    "<h3 style=\"color: #8FBC8F\">4.1 Distribución de personas según edad</h3>\n",
    "\n",
    "<p>En primera instancia se procura conocer la distribución de la lista de espera quirurgica según edad del paciente, de manera que se identifique la población que más está requeriendo antención quirurgica a nivel nacional.</p>\n"
   ]
  },
  {
   "cell_type": "code",
   "execution_count": 28,
   "id": "ff5be1d6",
   "metadata": {},
   "outputs": [
    {
     "data": {
      "text/html": [
       "<div>\n",
       "<style scoped>\n",
       "    .dataframe tbody tr th:only-of-type {\n",
       "        vertical-align: middle;\n",
       "    }\n",
       "\n",
       "    .dataframe tbody tr th {\n",
       "        vertical-align: top;\n",
       "    }\n",
       "\n",
       "    .dataframe thead th {\n",
       "        text-align: right;\n",
       "    }\n",
       "</style>\n",
       "<table border=\"1\" class=\"dataframe\">\n",
       "  <thead>\n",
       "    <tr style=\"text-align: right;\">\n",
       "      <th></th>\n",
       "      <th>idUtle</th>\n",
       "    </tr>\n",
       "    <tr>\n",
       "      <th>Edad</th>\n",
       "      <th></th>\n",
       "    </tr>\n",
       "  </thead>\n",
       "  <tbody>\n",
       "    <tr>\n",
       "      <th>0.0</th>\n",
       "      <td>39</td>\n",
       "    </tr>\n",
       "    <tr>\n",
       "      <th>1.0</th>\n",
       "      <td>300</td>\n",
       "    </tr>\n",
       "    <tr>\n",
       "      <th>2.0</th>\n",
       "      <td>533</td>\n",
       "    </tr>\n",
       "    <tr>\n",
       "      <th>3.0</th>\n",
       "      <td>714</td>\n",
       "    </tr>\n",
       "    <tr>\n",
       "      <th>4.0</th>\n",
       "      <td>812</td>\n",
       "    </tr>\n",
       "    <tr>\n",
       "      <th>...</th>\n",
       "      <td>...</td>\n",
       "    </tr>\n",
       "    <tr>\n",
       "      <th>101.0</th>\n",
       "      <td>3</td>\n",
       "    </tr>\n",
       "    <tr>\n",
       "      <th>102.0</th>\n",
       "      <td>1</td>\n",
       "    </tr>\n",
       "    <tr>\n",
       "      <th>103.0</th>\n",
       "      <td>3</td>\n",
       "    </tr>\n",
       "    <tr>\n",
       "      <th>106.0</th>\n",
       "      <td>2</td>\n",
       "    </tr>\n",
       "    <tr>\n",
       "      <th>108.0</th>\n",
       "      <td>1</td>\n",
       "    </tr>\n",
       "  </tbody>\n",
       "</table>\n",
       "<p>106 rows × 1 columns</p>\n",
       "</div>"
      ],
      "text/plain": [
       "       idUtle\n",
       "Edad         \n",
       "0.0        39\n",
       "1.0       300\n",
       "2.0       533\n",
       "3.0       714\n",
       "4.0       812\n",
       "...       ...\n",
       "101.0       3\n",
       "102.0       1\n",
       "103.0       3\n",
       "106.0       2\n",
       "108.0       1\n",
       "\n",
       "[106 rows x 1 columns]"
      ]
     },
     "execution_count": 28,
     "metadata": {},
     "output_type": "execute_result"
    }
   ],
   "source": [
    "gf1 = dfPendientes.groupby(['Edad']).count()\n",
    "gf1 = gf1.iloc[:,:1]\n",
    "gf1"
   ]
  },
  {
   "cell_type": "code",
   "execution_count": 29,
   "id": "9d72b3b5",
   "metadata": {},
   "outputs": [
    {
     "data": {
      "image/png": "[encoded data removed]",
      "text/plain": [
       "<Figure size 432x288 with 1 Axes>"
      ]
     },
     "metadata": {
      "needs_background": "light"
     },
     "output_type": "display_data"
    }
   ],
   "source": [
    "plt.hist(dfPendientes[\"Edad\"])\n",
    "plt.xlabel(\"Edad\")\n",
    "plt.ylabel(\"Cantidad Personas\")\n",
    "plt.title(\"Distribucion de pacientes según edad\")\n",
    "plt.show()"
   ]
  },
  {
   "cell_type": "markdown",
   "id": "5604e232",
   "metadata": {},
   "source": [
    "<p> En terminos generales, la mayor parte de la Lista de Espera esta conformada por personas que tienen entre 30 y 80 años, estando la mayor cantidad consentrada en pacientes adultos mayores</p>\n",
    "<br>\n",
    "<p>Como se puede observar la distribución de personas, en función de la edad, permite identificar que actualmente 35 mil pacientes tienen 60 años, siendo esta la mayor población de la lista de espera, seguido de las personas de 70 años, 40 años, 50 años, entre otros.</p>"
   ]
  },
  {
   "cell_type": "markdown",
   "id": "66330eb0",
   "metadata": {},
   "source": [
    "<h3 style=\"color: #8FBC8F\">4.2 Cantidad de casos según plazo de espera</h3>\n",
    "\n",
    "<p>Una vez que conocemos la distribución de la lista de espera quirurgica, según grupos de edad, es necesario conocer la cantidad de casos seegún el plazo de espera de menra que se pueda identificar la cantidad de personas y de dias que han aguardado por una cirugía</p>"
   ]
  },
  {
   "cell_type": "code",
   "execution_count": 30,
   "id": "3fe9a1fe",
   "metadata": {},
   "outputs": [
    {
     "name": "stderr",
     "output_type": "stream",
     "text": [
      "C:\\Users\\jgzuniga\\Anaconda3\\lib\\site-packages\\pandas\\core\\frame.py:3641: SettingWithCopyWarning: \n",
      "A value is trying to be set on a copy of a slice from a DataFrame.\n",
      "Try using .loc[row_indexer,col_indexer] = value instead\n",
      "\n",
      "See the caveats in the documentation: https://pandas.pydata.org/pandas-docs/stable/user_guide/indexing.html#returning-a-view-versus-a-copy\n",
      "  self[k1] = value[k2]\n"
     ]
    }
   ],
   "source": [
    "dfPendientes[[\"plazoEspera\"]] = dfPendientes[[\"plazoEspera\"]].astype(\"int\")"
   ]
  },
  {
   "cell_type": "code",
   "execution_count": 31,
   "id": "691f7928",
   "metadata": {},
   "outputs": [
    {
     "name": "stderr",
     "output_type": "stream",
     "text": [
      "C:\\Users\\jgzuniga\\AppData\\Local\\Temp/ipykernel_22680/3640475649.py:5: SettingWithCopyWarning: \n",
      "A value is trying to be set on a copy of a slice from a DataFrame.\n",
      "Try using .loc[row_indexer,col_indexer] = value instead\n",
      "\n",
      "See the caveats in the documentation: https://pandas.pydata.org/pandas-docs/stable/user_guide/indexing.html#returning-a-view-versus-a-copy\n",
      "  dfPendientes['bin_PlazoEspera'] = pd.cut(dfPendientes['plazoEspera'] , bins=bins,labels=nombres, include_lowest=True)\n"
     ]
    },
    {
     "data": {
      "text/html": [
       "<div>\n",
       "<style scoped>\n",
       "    .dataframe tbody tr th:only-of-type {\n",
       "        vertical-align: middle;\n",
       "    }\n",
       "\n",
       "    .dataframe tbody tr th {\n",
       "        vertical-align: top;\n",
       "    }\n",
       "\n",
       "    .dataframe thead th {\n",
       "        text-align: right;\n",
       "    }\n",
       "</style>\n",
       "<table border=\"1\" class=\"dataframe\">\n",
       "  <thead>\n",
       "    <tr style=\"text-align: right;\">\n",
       "      <th></th>\n",
       "      <th>idUtle</th>\n",
       "      <th>up</th>\n",
       "      <th>centroMedico</th>\n",
       "      <th>region</th>\n",
       "      <th>fechaRegistro</th>\n",
       "      <th>anoRegistro</th>\n",
       "      <th>mesRegistro</th>\n",
       "      <th>diaRegistro</th>\n",
       "      <th>servicio</th>\n",
       "      <th>especialidad</th>\n",
       "      <th>...</th>\n",
       "      <th>codDiagnostico</th>\n",
       "      <th>dscDiagnostico</th>\n",
       "      <th>fechaNacimiento</th>\n",
       "      <th>provincia</th>\n",
       "      <th>canton</th>\n",
       "      <th>lateralidad</th>\n",
       "      <th>sexo</th>\n",
       "      <th>origen</th>\n",
       "      <th>Edad</th>\n",
       "      <th>bin_PlazoEspera</th>\n",
       "    </tr>\n",
       "  </thead>\n",
       "  <tbody>\n",
       "    <tr>\n",
       "      <th>0</th>\n",
       "      <td>1.0</td>\n",
       "      <td>2802</td>\n",
       "      <td>OFTALMOLOGICA</td>\n",
       "      <td>GAM</td>\n",
       "      <td>2022-05-02</td>\n",
       "      <td>2022</td>\n",
       "      <td>5</td>\n",
       "      <td>2</td>\n",
       "      <td>Cirugía Ambulatoria</td>\n",
       "      <td>Oftalmología</td>\n",
       "      <td>...</td>\n",
       "      <td>H262</td>\n",
       "      <td>Catarata complicada</td>\n",
       "      <td>1944-04-14</td>\n",
       "      <td>Alajuela</td>\n",
       "      <td>Sarchí</td>\n",
       "      <td>Derecha</td>\n",
       "      <td>Masculino</td>\n",
       "      <td>Consulta Externa</td>\n",
       "      <td>78.0</td>\n",
       "      <td>90Dias</td>\n",
       "    </tr>\n",
       "    <tr>\n",
       "      <th>1</th>\n",
       "      <td>2.0</td>\n",
       "      <td>2802</td>\n",
       "      <td>OFTALMOLOGICA</td>\n",
       "      <td>GAM</td>\n",
       "      <td>2022-05-02</td>\n",
       "      <td>2022</td>\n",
       "      <td>5</td>\n",
       "      <td>2</td>\n",
       "      <td>Cirugía Ambulatoria</td>\n",
       "      <td>Oftalmología</td>\n",
       "      <td>...</td>\n",
       "      <td>H262</td>\n",
       "      <td>Catarata complicada</td>\n",
       "      <td>1945-07-26</td>\n",
       "      <td>Cartago</td>\n",
       "      <td>Cartago</td>\n",
       "      <td>Izquierda</td>\n",
       "      <td>Masculino</td>\n",
       "      <td>Consulta Externa</td>\n",
       "      <td>77.0</td>\n",
       "      <td>90Dias</td>\n",
       "    </tr>\n",
       "    <tr>\n",
       "      <th>2</th>\n",
       "      <td>3.0</td>\n",
       "      <td>2802</td>\n",
       "      <td>OFTALMOLOGICA</td>\n",
       "      <td>GAM</td>\n",
       "      <td>2022-05-02</td>\n",
       "      <td>2022</td>\n",
       "      <td>5</td>\n",
       "      <td>2</td>\n",
       "      <td>Cirugía Ambulatoria</td>\n",
       "      <td>Oftalmología</td>\n",
       "      <td>...</td>\n",
       "      <td>H262</td>\n",
       "      <td>Catarata complicada</td>\n",
       "      <td>1948-09-27</td>\n",
       "      <td>Alajuela</td>\n",
       "      <td>Alajuela</td>\n",
       "      <td>Izquierda</td>\n",
       "      <td>Masculino</td>\n",
       "      <td>Consulta Externa</td>\n",
       "      <td>74.0</td>\n",
       "      <td>90Dias</td>\n",
       "    </tr>\n",
       "    <tr>\n",
       "      <th>3</th>\n",
       "      <td>4.0</td>\n",
       "      <td>2802</td>\n",
       "      <td>OFTALMOLOGICA</td>\n",
       "      <td>GAM</td>\n",
       "      <td>2022-05-02</td>\n",
       "      <td>2022</td>\n",
       "      <td>5</td>\n",
       "      <td>2</td>\n",
       "      <td>Cirugía Ambulatoria</td>\n",
       "      <td>Oftalmología</td>\n",
       "      <td>...</td>\n",
       "      <td>H262</td>\n",
       "      <td>Catarata complicada</td>\n",
       "      <td>1947-04-21</td>\n",
       "      <td>Alajuela</td>\n",
       "      <td>Alajuela</td>\n",
       "      <td>Derecha</td>\n",
       "      <td>Femenino</td>\n",
       "      <td>Consulta Externa</td>\n",
       "      <td>75.0</td>\n",
       "      <td>90Dias</td>\n",
       "    </tr>\n",
       "    <tr>\n",
       "      <th>4</th>\n",
       "      <td>5.0</td>\n",
       "      <td>2502</td>\n",
       "      <td>H. ENRIQUE BALTODANO</td>\n",
       "      <td>CHOROTEGA</td>\n",
       "      <td>2022-05-02</td>\n",
       "      <td>2022</td>\n",
       "      <td>5</td>\n",
       "      <td>2</td>\n",
       "      <td>Cirugía Ambulatoria</td>\n",
       "      <td>Oftalmología</td>\n",
       "      <td>...</td>\n",
       "      <td>H251</td>\n",
       "      <td>Catarata senil nuclear</td>\n",
       "      <td>1951-10-20</td>\n",
       "      <td>Guanacaste</td>\n",
       "      <td>Cañas</td>\n",
       "      <td>Izquierda</td>\n",
       "      <td>Masculino</td>\n",
       "      <td>Consulta Externa</td>\n",
       "      <td>71.0</td>\n",
       "      <td>90Dias</td>\n",
       "    </tr>\n",
       "  </tbody>\n",
       "</table>\n",
       "<p>5 rows × 24 columns</p>\n",
       "</div>"
      ],
      "text/plain": [
       "   idUtle    up          centroMedico     region fechaRegistro  anoRegistro  \\\n",
       "0     1.0  2802         OFTALMOLOGICA        GAM    2022-05-02         2022   \n",
       "1     2.0  2802         OFTALMOLOGICA        GAM    2022-05-02         2022   \n",
       "2     3.0  2802         OFTALMOLOGICA        GAM    2022-05-02         2022   \n",
       "3     4.0  2802         OFTALMOLOGICA        GAM    2022-05-02         2022   \n",
       "4     5.0  2502  H. ENRIQUE BALTODANO  CHOROTEGA    2022-05-02         2022   \n",
       "\n",
       "   mesRegistro  diaRegistro             servicio  especialidad  ...  \\\n",
       "0            5            2  Cirugía Ambulatoria  Oftalmología  ...   \n",
       "1            5            2  Cirugía Ambulatoria  Oftalmología  ...   \n",
       "2            5            2  Cirugía Ambulatoria  Oftalmología  ...   \n",
       "3            5            2  Cirugía Ambulatoria  Oftalmología  ...   \n",
       "4            5            2  Cirugía Ambulatoria  Oftalmología  ...   \n",
       "\n",
       "   codDiagnostico          dscDiagnostico fechaNacimiento   provincia  \\\n",
       "0            H262     Catarata complicada      1944-04-14    Alajuela   \n",
       "1            H262     Catarata complicada      1945-07-26     Cartago   \n",
       "2            H262     Catarata complicada      1948-09-27    Alajuela   \n",
       "3            H262     Catarata complicada      1947-04-21    Alajuela   \n",
       "4            H251  Catarata senil nuclear      1951-10-20  Guanacaste   \n",
       "\n",
       "     canton lateralidad       sexo            origen  Edad bin_PlazoEspera  \n",
       "0    Sarchí     Derecha  Masculino  Consulta Externa  78.0          90Dias  \n",
       "1   Cartago   Izquierda  Masculino  Consulta Externa  77.0          90Dias  \n",
       "2  Alajuela   Izquierda  Masculino  Consulta Externa  74.0          90Dias  \n",
       "3  Alajuela     Derecha   Femenino  Consulta Externa  75.0          90Dias  \n",
       "4     Cañas   Izquierda  Masculino  Consulta Externa  71.0          90Dias  \n",
       "\n",
       "[5 rows x 24 columns]"
      ]
     },
     "execution_count": 31,
     "metadata": {},
     "output_type": "execute_result"
    }
   ],
   "source": [
    "nombres = ['90Dias', '180Dias', '270Dias', '1Año', '2Años', '3Años', '4Años', '5Años','6Años','7Años','8Años']\n",
    "\n",
    "\n",
    "bins =  [0, 90, 180, 270, 360, 730, 1095, 1460, 1825, 2190, 2555, 2920]\n",
    "dfPendientes['bin_PlazoEspera'] = pd.cut(dfPendientes['plazoEspera'] , bins=bins,labels=nombres, include_lowest=True) \n",
    "dfPendientes.head(5)"
   ]
  },
  {
   "cell_type": "code",
   "execution_count": 32,
   "id": "f1cde4b0",
   "metadata": {},
   "outputs": [
    {
     "data": {
      "text/html": [
       "<div>\n",
       "<style scoped>\n",
       "    .dataframe tbody tr th:only-of-type {\n",
       "        vertical-align: middle;\n",
       "    }\n",
       "\n",
       "    .dataframe tbody tr th {\n",
       "        vertical-align: top;\n",
       "    }\n",
       "\n",
       "    .dataframe thead th {\n",
       "        text-align: right;\n",
       "    }\n",
       "</style>\n",
       "<table border=\"1\" class=\"dataframe\">\n",
       "  <thead>\n",
       "    <tr style=\"text-align: right;\">\n",
       "      <th></th>\n",
       "      <th>idUtle</th>\n",
       "    </tr>\n",
       "    <tr>\n",
       "      <th>bin_PlazoEspera</th>\n",
       "      <th></th>\n",
       "    </tr>\n",
       "  </thead>\n",
       "  <tbody>\n",
       "    <tr>\n",
       "      <th>90Dias</th>\n",
       "      <td>30387</td>\n",
       "    </tr>\n",
       "    <tr>\n",
       "      <th>180Dias</th>\n",
       "      <td>21929</td>\n",
       "    </tr>\n",
       "    <tr>\n",
       "      <th>270Dias</th>\n",
       "      <td>18064</td>\n",
       "    </tr>\n",
       "    <tr>\n",
       "      <th>1Año</th>\n",
       "      <td>13102</td>\n",
       "    </tr>\n",
       "    <tr>\n",
       "      <th>2Años</th>\n",
       "      <td>31999</td>\n",
       "    </tr>\n",
       "    <tr>\n",
       "      <th>3Años</th>\n",
       "      <td>39922</td>\n",
       "    </tr>\n",
       "    <tr>\n",
       "      <th>4Años</th>\n",
       "      <td>15635</td>\n",
       "    </tr>\n",
       "    <tr>\n",
       "      <th>5Años</th>\n",
       "      <td>5053</td>\n",
       "    </tr>\n",
       "    <tr>\n",
       "      <th>6Años</th>\n",
       "      <td>1210</td>\n",
       "    </tr>\n",
       "    <tr>\n",
       "      <th>7Años</th>\n",
       "      <td>180</td>\n",
       "    </tr>\n",
       "    <tr>\n",
       "      <th>8Años</th>\n",
       "      <td>80</td>\n",
       "    </tr>\n",
       "  </tbody>\n",
       "</table>\n",
       "</div>"
      ],
      "text/plain": [
       "                 idUtle\n",
       "bin_PlazoEspera        \n",
       "90Dias            30387\n",
       "180Dias           21929\n",
       "270Dias           18064\n",
       "1Año              13102\n",
       "2Años             31999\n",
       "3Años             39922\n",
       "4Años             15635\n",
       "5Años              5053\n",
       "6Años              1210\n",
       "7Años               180\n",
       "8Años                80"
      ]
     },
     "execution_count": 32,
     "metadata": {},
     "output_type": "execute_result"
    }
   ],
   "source": [
    "gf2 = dfPendientes.groupby(['bin_PlazoEspera']).count()\n",
    "gf2 = gf2.iloc[:,:1]\n",
    "gf2"
   ]
  },
  {
   "cell_type": "code",
   "execution_count": 33,
   "id": "6164e4f1",
   "metadata": {},
   "outputs": [
    {
     "data": {
      "image/png": "[encoded data removed]",
      "text/plain": [
       "<Figure size 1944x720 with 1 Axes>"
      ]
     },
     "metadata": {
      "needs_background": "light"
     },
     "output_type": "display_data"
    }
   ],
   "source": [
    "eje_x = gf2.index.tolist()\n",
    "eje_y = gf2['idUtle'].tolist()\n",
    "\n",
    "plt.figure(figsize=(27,10))\n",
    "##Creamos la Grafica\n",
    "plt.bar(eje_x, eje_y)\n",
    "\n",
    "##Leyenda en el eje y\n",
    "plt.ylabel('Cantidad de personas en rangos de dias de espera')\n",
    "\n",
    "##Leyenda en el eje x\n",
    "plt.xlabel(\"Rango de Dias Promedio\")\n",
    "\n",
    "##Titulo del Grafico\n",
    "plt.title(\"Cantidad de Personas\")\n",
    "\n",
    "plt.show()"
   ]
  },
  {
   "cell_type": "markdown",
   "id": "e518888f",
   "metadata": {},
   "source": [
    "<p>Como se puede apreciar existen casos que aguardan hasta 8 años por una cirugia, asimismo, la mayor cantidad de personas aguardan entre 2 y 3 años por una operación en la Caja Costarricense de Seguro Social.\n",
    "\n",
    "Aactualmente existen 80 personas que han esperado más de 7 años por una intervención quirurgica, 31 mil esperan 2 años y 39 mil 3 años</p>\n"
   ]
  },
  {
   "cell_type": "markdown",
   "id": "d8c4049b",
   "metadata": {},
   "source": [
    "<h3 style=\"color: #8FBC8F\">4.3 Cantidad de casos según modalidad de atención</h3>\n",
    "\n",
    "<p>Otro elemento importante es conocer la cantidad de pacientes que conforman la lista de espera, según modalidad de atención, de manera que se pueda conocer cuantas cirugías son ambulatorias y cuantas requieren de un periodo de hospitalización. Esto permitirá denotar la posibilidad de direccionar recursos a diferentes estratégias institucionales como alta programada, programa de cirugía ambulatoria, entre otros.</p>"
   ]
  },
  {
   "cell_type": "code",
   "execution_count": 34,
   "id": "e36dc487",
   "metadata": {},
   "outputs": [
    {
     "data": {
      "text/html": [
       "<div>\n",
       "<style scoped>\n",
       "    .dataframe tbody tr th:only-of-type {\n",
       "        vertical-align: middle;\n",
       "    }\n",
       "\n",
       "    .dataframe tbody tr th {\n",
       "        vertical-align: top;\n",
       "    }\n",
       "\n",
       "    .dataframe thead th {\n",
       "        text-align: right;\n",
       "    }\n",
       "</style>\n",
       "<table border=\"1\" class=\"dataframe\">\n",
       "  <thead>\n",
       "    <tr style=\"text-align: right;\">\n",
       "      <th></th>\n",
       "      <th>idUtle</th>\n",
       "      <th>up</th>\n",
       "      <th>centroMedico</th>\n",
       "      <th>region</th>\n",
       "      <th>fechaRegistro</th>\n",
       "      <th>anoRegistro</th>\n",
       "      <th>mesRegistro</th>\n",
       "      <th>diaRegistro</th>\n",
       "      <th>servicio</th>\n",
       "      <th>especialidad</th>\n",
       "      <th>...</th>\n",
       "      <th>codDiagnostico</th>\n",
       "      <th>dscDiagnostico</th>\n",
       "      <th>fechaNacimiento</th>\n",
       "      <th>provincia</th>\n",
       "      <th>canton</th>\n",
       "      <th>lateralidad</th>\n",
       "      <th>sexo</th>\n",
       "      <th>origen</th>\n",
       "      <th>Edad</th>\n",
       "      <th>bin_PlazoEspera</th>\n",
       "    </tr>\n",
       "  </thead>\n",
       "  <tbody>\n",
       "    <tr>\n",
       "      <th>0</th>\n",
       "      <td>1.0</td>\n",
       "      <td>2802</td>\n",
       "      <td>OFTALMOLOGICA</td>\n",
       "      <td>GAM</td>\n",
       "      <td>2022-05-02</td>\n",
       "      <td>2022</td>\n",
       "      <td>5</td>\n",
       "      <td>2</td>\n",
       "      <td>Cirugía Ambulatoria</td>\n",
       "      <td>Oftalmología</td>\n",
       "      <td>...</td>\n",
       "      <td>H262</td>\n",
       "      <td>Catarata complicada</td>\n",
       "      <td>1944-04-14</td>\n",
       "      <td>Alajuela</td>\n",
       "      <td>Sarchí</td>\n",
       "      <td>Derecha</td>\n",
       "      <td>Masculino</td>\n",
       "      <td>Consulta Externa</td>\n",
       "      <td>78.0</td>\n",
       "      <td>90Dias</td>\n",
       "    </tr>\n",
       "    <tr>\n",
       "      <th>1</th>\n",
       "      <td>2.0</td>\n",
       "      <td>2802</td>\n",
       "      <td>OFTALMOLOGICA</td>\n",
       "      <td>GAM</td>\n",
       "      <td>2022-05-02</td>\n",
       "      <td>2022</td>\n",
       "      <td>5</td>\n",
       "      <td>2</td>\n",
       "      <td>Cirugía Ambulatoria</td>\n",
       "      <td>Oftalmología</td>\n",
       "      <td>...</td>\n",
       "      <td>H262</td>\n",
       "      <td>Catarata complicada</td>\n",
       "      <td>1945-07-26</td>\n",
       "      <td>Cartago</td>\n",
       "      <td>Cartago</td>\n",
       "      <td>Izquierda</td>\n",
       "      <td>Masculino</td>\n",
       "      <td>Consulta Externa</td>\n",
       "      <td>77.0</td>\n",
       "      <td>90Dias</td>\n",
       "    </tr>\n",
       "    <tr>\n",
       "      <th>2</th>\n",
       "      <td>3.0</td>\n",
       "      <td>2802</td>\n",
       "      <td>OFTALMOLOGICA</td>\n",
       "      <td>GAM</td>\n",
       "      <td>2022-05-02</td>\n",
       "      <td>2022</td>\n",
       "      <td>5</td>\n",
       "      <td>2</td>\n",
       "      <td>Cirugía Ambulatoria</td>\n",
       "      <td>Oftalmología</td>\n",
       "      <td>...</td>\n",
       "      <td>H262</td>\n",
       "      <td>Catarata complicada</td>\n",
       "      <td>1948-09-27</td>\n",
       "      <td>Alajuela</td>\n",
       "      <td>Alajuela</td>\n",
       "      <td>Izquierda</td>\n",
       "      <td>Masculino</td>\n",
       "      <td>Consulta Externa</td>\n",
       "      <td>74.0</td>\n",
       "      <td>90Dias</td>\n",
       "    </tr>\n",
       "    <tr>\n",
       "      <th>3</th>\n",
       "      <td>4.0</td>\n",
       "      <td>2802</td>\n",
       "      <td>OFTALMOLOGICA</td>\n",
       "      <td>GAM</td>\n",
       "      <td>2022-05-02</td>\n",
       "      <td>2022</td>\n",
       "      <td>5</td>\n",
       "      <td>2</td>\n",
       "      <td>Cirugía Ambulatoria</td>\n",
       "      <td>Oftalmología</td>\n",
       "      <td>...</td>\n",
       "      <td>H262</td>\n",
       "      <td>Catarata complicada</td>\n",
       "      <td>1947-04-21</td>\n",
       "      <td>Alajuela</td>\n",
       "      <td>Alajuela</td>\n",
       "      <td>Derecha</td>\n",
       "      <td>Femenino</td>\n",
       "      <td>Consulta Externa</td>\n",
       "      <td>75.0</td>\n",
       "      <td>90Dias</td>\n",
       "    </tr>\n",
       "    <tr>\n",
       "      <th>4</th>\n",
       "      <td>5.0</td>\n",
       "      <td>2502</td>\n",
       "      <td>H. ENRIQUE BALTODANO</td>\n",
       "      <td>CHOROTEGA</td>\n",
       "      <td>2022-05-02</td>\n",
       "      <td>2022</td>\n",
       "      <td>5</td>\n",
       "      <td>2</td>\n",
       "      <td>Cirugía Ambulatoria</td>\n",
       "      <td>Oftalmología</td>\n",
       "      <td>...</td>\n",
       "      <td>H251</td>\n",
       "      <td>Catarata senil nuclear</td>\n",
       "      <td>1951-10-20</td>\n",
       "      <td>Guanacaste</td>\n",
       "      <td>Cañas</td>\n",
       "      <td>Izquierda</td>\n",
       "      <td>Masculino</td>\n",
       "      <td>Consulta Externa</td>\n",
       "      <td>71.0</td>\n",
       "      <td>90Dias</td>\n",
       "    </tr>\n",
       "  </tbody>\n",
       "</table>\n",
       "<p>5 rows × 24 columns</p>\n",
       "</div>"
      ],
      "text/plain": [
       "   idUtle    up          centroMedico     region fechaRegistro  anoRegistro  \\\n",
       "0     1.0  2802         OFTALMOLOGICA        GAM    2022-05-02         2022   \n",
       "1     2.0  2802         OFTALMOLOGICA        GAM    2022-05-02         2022   \n",
       "2     3.0  2802         OFTALMOLOGICA        GAM    2022-05-02         2022   \n",
       "3     4.0  2802         OFTALMOLOGICA        GAM    2022-05-02         2022   \n",
       "4     5.0  2502  H. ENRIQUE BALTODANO  CHOROTEGA    2022-05-02         2022   \n",
       "\n",
       "   mesRegistro  diaRegistro             servicio  especialidad  ...  \\\n",
       "0            5            2  Cirugía Ambulatoria  Oftalmología  ...   \n",
       "1            5            2  Cirugía Ambulatoria  Oftalmología  ...   \n",
       "2            5            2  Cirugía Ambulatoria  Oftalmología  ...   \n",
       "3            5            2  Cirugía Ambulatoria  Oftalmología  ...   \n",
       "4            5            2  Cirugía Ambulatoria  Oftalmología  ...   \n",
       "\n",
       "   codDiagnostico          dscDiagnostico fechaNacimiento   provincia  \\\n",
       "0            H262     Catarata complicada      1944-04-14    Alajuela   \n",
       "1            H262     Catarata complicada      1945-07-26     Cartago   \n",
       "2            H262     Catarata complicada      1948-09-27    Alajuela   \n",
       "3            H262     Catarata complicada      1947-04-21    Alajuela   \n",
       "4            H251  Catarata senil nuclear      1951-10-20  Guanacaste   \n",
       "\n",
       "     canton lateralidad       sexo            origen  Edad bin_PlazoEspera  \n",
       "0    Sarchí     Derecha  Masculino  Consulta Externa  78.0          90Dias  \n",
       "1   Cartago   Izquierda  Masculino  Consulta Externa  77.0          90Dias  \n",
       "2  Alajuela   Izquierda  Masculino  Consulta Externa  74.0          90Dias  \n",
       "3  Alajuela     Derecha   Femenino  Consulta Externa  75.0          90Dias  \n",
       "4     Cañas   Izquierda  Masculino  Consulta Externa  71.0          90Dias  \n",
       "\n",
       "[5 rows x 24 columns]"
      ]
     },
     "execution_count": 34,
     "metadata": {},
     "output_type": "execute_result"
    }
   ],
   "source": [
    "dfPendientes.head(5)"
   ]
  },
  {
   "cell_type": "code",
   "execution_count": 35,
   "id": "f3c6ef2e",
   "metadata": {},
   "outputs": [
    {
     "data": {
      "text/html": [
       "<div>\n",
       "<style scoped>\n",
       "    .dataframe tbody tr th:only-of-type {\n",
       "        vertical-align: middle;\n",
       "    }\n",
       "\n",
       "    .dataframe tbody tr th {\n",
       "        vertical-align: top;\n",
       "    }\n",
       "\n",
       "    .dataframe thead th {\n",
       "        text-align: right;\n",
       "    }\n",
       "</style>\n",
       "<table border=\"1\" class=\"dataframe\">\n",
       "  <thead>\n",
       "    <tr style=\"text-align: right;\">\n",
       "      <th></th>\n",
       "      <th>idUtle</th>\n",
       "    </tr>\n",
       "    <tr>\n",
       "      <th>modalidad</th>\n",
       "      <th></th>\n",
       "    </tr>\n",
       "  </thead>\n",
       "  <tbody>\n",
       "    <tr>\n",
       "      <th>Ambulatorio</th>\n",
       "      <td>131977</td>\n",
       "    </tr>\n",
       "    <tr>\n",
       "      <th>Cirugía de corta estancia</th>\n",
       "      <td>353</td>\n",
       "    </tr>\n",
       "    <tr>\n",
       "      <th>Hospitalizado</th>\n",
       "      <td>45231</td>\n",
       "    </tr>\n",
       "  </tbody>\n",
       "</table>\n",
       "</div>"
      ],
      "text/plain": [
       "                           idUtle\n",
       "modalidad                        \n",
       "Ambulatorio                131977\n",
       "Cirugía de corta estancia     353\n",
       "Hospitalizado               45231"
      ]
     },
     "execution_count": 35,
     "metadata": {},
     "output_type": "execute_result"
    }
   ],
   "source": [
    "gf3 = dfPendientes.groupby(['modalidad']).count()\n",
    "gf3 = gf3.iloc[:,:1]\n",
    "gf3"
   ]
  },
  {
   "cell_type": "code",
   "execution_count": 36,
   "id": "7be504b8",
   "metadata": {},
   "outputs": [
    {
     "data": {
      "image/png": "[encoded data removed]",
      "text/plain": [
       "<Figure size 432x288 with 1 Axes>"
      ]
     },
     "metadata": {},
     "output_type": "display_data"
    }
   ],
   "source": [
    "# Nombre de las etiquetas del grafico.\n",
    "modalidad = ['Ambulatorio', 'Corta Estancia', 'Hospitalizado']\n",
    "  \n",
    "#Datos del Grafico.\n",
    "datos = gf3['idUtle'].tolist()\n",
    "  \n",
    "# colors\n",
    "colors = ['#827cfd', '#ff5deb', \n",
    "          '#ffa6a7']\n",
    "# explosion\n",
    "explode = (0.05, 0.05, 0.05)\n",
    "  \n",
    "# Pie Chart\n",
    "plt.pie(datos, colors=colors, labels=modalidad,\n",
    "        autopct='%1.1f%%', pctdistance=0.85,\n",
    "        explode=explode)\n",
    "  \n",
    "# draw circle\n",
    "centre_circle = plt.Circle((0, 0), 0.70, fc='white')\n",
    "fig = plt.gcf()\n",
    "  \n",
    "# Adding Circle in Pie chart\n",
    "fig.gca().add_artist(centre_circle)\n",
    "  \n",
    "# Adding Title of chart\n",
    "plt.title('Cantidad de Cirugías Según Modalidad')\n",
    "  \n",
    "# Displaing Chart\n",
    "plt.show()"
   ]
  },
  {
   "cell_type": "markdown",
   "id": "8cde7e57",
   "metadata": {},
   "source": [
    "<h3 style=\"color: #8FBC8F\">4.4 Cantidad de casos según sexo</h3>\n",
    "\n",
    "<p>Este es un dato estadístico que permitirá conocer cuantos hombres y mujeres conforman la lista de espera quirurgica, enventualmetne este dato prodría ser util para elementos epidemiológicos.</p>"
   ]
  },
  {
   "cell_type": "code",
   "execution_count": 37,
   "id": "99e6bdbf",
   "metadata": {},
   "outputs": [
    {
     "data": {
      "text/html": [
       "<div>\n",
       "<style scoped>\n",
       "    .dataframe tbody tr th:only-of-type {\n",
       "        vertical-align: middle;\n",
       "    }\n",
       "\n",
       "    .dataframe tbody tr th {\n",
       "        vertical-align: top;\n",
       "    }\n",
       "\n",
       "    .dataframe thead th {\n",
       "        text-align: right;\n",
       "    }\n",
       "</style>\n",
       "<table border=\"1\" class=\"dataframe\">\n",
       "  <thead>\n",
       "    <tr style=\"text-align: right;\">\n",
       "      <th></th>\n",
       "      <th>idUtle</th>\n",
       "    </tr>\n",
       "    <tr>\n",
       "      <th>sexo</th>\n",
       "      <th></th>\n",
       "    </tr>\n",
       "  </thead>\n",
       "  <tbody>\n",
       "    <tr>\n",
       "      <th>Femenino</th>\n",
       "      <td>99219</td>\n",
       "    </tr>\n",
       "    <tr>\n",
       "      <th>Indefinido</th>\n",
       "      <td>1</td>\n",
       "    </tr>\n",
       "    <tr>\n",
       "      <th>Masculino</th>\n",
       "      <td>78341</td>\n",
       "    </tr>\n",
       "  </tbody>\n",
       "</table>\n",
       "</div>"
      ],
      "text/plain": [
       "            idUtle\n",
       "sexo              \n",
       "Femenino     99219\n",
       "Indefinido       1\n",
       "Masculino    78341"
      ]
     },
     "execution_count": 37,
     "metadata": {},
     "output_type": "execute_result"
    }
   ],
   "source": [
    "gf4 = dfPendientes.groupby(['sexo']).count()\n",
    "gf4 = gf4.iloc[:,:1]\n",
    "gf4"
   ]
  },
  {
   "cell_type": "code",
   "execution_count": 38,
   "id": "fdecb073",
   "metadata": {
    "scrolled": true
   },
   "outputs": [
    {
     "data": {
      "image/png": "[encoded data removed]",
      "text/plain": [
       "<Figure size 720x360 with 1 Axes>"
      ]
     },
     "metadata": {
      "needs_background": "light"
     },
     "output_type": "display_data"
    }
   ],
   "source": [
    "eje_x = gf4.index.tolist()\n",
    "eje_y = gf4['idUtle'].tolist()\n",
    "\n",
    "plt.figure(figsize=(10,5))\n",
    "##Creamos la Grafica\n",
    "plt.bar(eje_x, eje_y)\n",
    "\n",
    "##Leyenda en el eje y\n",
    "plt.ylabel('Cantidad de personas')\n",
    "\n",
    "##Leyenda en el eje x\n",
    "plt.xlabel(\"Categoria\")\n",
    "\n",
    "##Titulo del Grafico\n",
    "plt.title(\"Cantidad de Personas según sexo\")\n",
    "\n",
    "plt.show()"
   ]
  },
  {
   "cell_type": "markdown",
   "id": "aee17a44",
   "metadata": {},
   "source": [
    "<h3 style=\"color: #8FBC8F\">4.5 Cantidad de casos según especialidad</h3>\n",
    "\n",
    "<p>El obtener la cantidad de casos según especialidad en la lista de espera, permitirá identificar las especialidades que mayor demanda tienen, lo cual tendrá una relación con el plazo de espera, en razón del volumen de personas que conforman la lista de esa especialidad</p>"
   ]
  },
  {
   "cell_type": "code",
   "execution_count": 39,
   "id": "7aa4949a",
   "metadata": {},
   "outputs": [
    {
     "data": {
      "text/html": [
       "<div>\n",
       "<style scoped>\n",
       "    .dataframe tbody tr th:only-of-type {\n",
       "        vertical-align: middle;\n",
       "    }\n",
       "\n",
       "    .dataframe tbody tr th {\n",
       "        vertical-align: top;\n",
       "    }\n",
       "\n",
       "    .dataframe thead th {\n",
       "        text-align: right;\n",
       "    }\n",
       "</style>\n",
       "<table border=\"1\" class=\"dataframe\">\n",
       "  <thead>\n",
       "    <tr style=\"text-align: right;\">\n",
       "      <th></th>\n",
       "      <th>idUtle</th>\n",
       "    </tr>\n",
       "    <tr>\n",
       "      <th>especialidad</th>\n",
       "      <th></th>\n",
       "    </tr>\n",
       "  </thead>\n",
       "  <tbody>\n",
       "    <tr>\n",
       "      <th>Medicina Interna</th>\n",
       "      <td>1</td>\n",
       "    </tr>\n",
       "    <tr>\n",
       "      <th>Unidad de quemados</th>\n",
       "      <td>1</td>\n",
       "    </tr>\n",
       "    <tr>\n",
       "      <th>Medicina General</th>\n",
       "      <td>1</td>\n",
       "    </tr>\n",
       "    <tr>\n",
       "      <th>Endocrinología</th>\n",
       "      <td>1</td>\n",
       "    </tr>\n",
       "    <tr>\n",
       "      <th>Gastroenterología</th>\n",
       "      <td>1</td>\n",
       "    </tr>\n",
       "    <tr>\n",
       "      <th>Neumología</th>\n",
       "      <td>2</td>\n",
       "    </tr>\n",
       "    <tr>\n",
       "      <th>Unidad Urgencias Quirúrgicas</th>\n",
       "      <td>3</td>\n",
       "    </tr>\n",
       "    <tr>\n",
       "      <th>Odontología General</th>\n",
       "      <td>6</td>\n",
       "    </tr>\n",
       "    <tr>\n",
       "      <th>Oncología Médica</th>\n",
       "      <td>8</td>\n",
       "    </tr>\n",
       "    <tr>\n",
       "      <th>Medicina Paliativa</th>\n",
       "      <td>10</td>\n",
       "    </tr>\n",
       "    <tr>\n",
       "      <th>Dermatología</th>\n",
       "      <td>27</td>\n",
       "    </tr>\n",
       "    <tr>\n",
       "      <th>Cirugía Bucodentomaxilar</th>\n",
       "      <td>60</td>\n",
       "    </tr>\n",
       "    <tr>\n",
       "      <th>Labio y paladar</th>\n",
       "      <td>74</td>\n",
       "    </tr>\n",
       "    <tr>\n",
       "      <th>Anestesiología</th>\n",
       "      <td>162</td>\n",
       "    </tr>\n",
       "    <tr>\n",
       "      <th>Cirugía Craneomaxilofacial</th>\n",
       "      <td>413</td>\n",
       "    </tr>\n",
       "    <tr>\n",
       "      <th>Cirugía Cardiovascular</th>\n",
       "      <td>497</td>\n",
       "    </tr>\n",
       "    <tr>\n",
       "      <th>Obstetricia</th>\n",
       "      <td>534</td>\n",
       "    </tr>\n",
       "    <tr>\n",
       "      <th>Cirugía Toráxica</th>\n",
       "      <td>788</td>\n",
       "    </tr>\n",
       "    <tr>\n",
       "      <th>Odontología General Avanzada</th>\n",
       "      <td>1177</td>\n",
       "    </tr>\n",
       "    <tr>\n",
       "      <th>Oncología Quirúrgica</th>\n",
       "      <td>1430</td>\n",
       "    </tr>\n",
       "    <tr>\n",
       "      <th>Cirugía Reconstructiva</th>\n",
       "      <td>1909</td>\n",
       "    </tr>\n",
       "    <tr>\n",
       "      <th>Cirugía General Infantil</th>\n",
       "      <td>2192</td>\n",
       "    </tr>\n",
       "    <tr>\n",
       "      <th>Cardiología</th>\n",
       "      <td>2194</td>\n",
       "    </tr>\n",
       "    <tr>\n",
       "      <th>Neurocirugía</th>\n",
       "      <td>4079</td>\n",
       "    </tr>\n",
       "    <tr>\n",
       "      <th>Vascular Periférica</th>\n",
       "      <td>8101</td>\n",
       "    </tr>\n",
       "    <tr>\n",
       "      <th>Otorrinolaringología</th>\n",
       "      <td>12598</td>\n",
       "    </tr>\n",
       "    <tr>\n",
       "      <th>Urología</th>\n",
       "      <td>15824</td>\n",
       "    </tr>\n",
       "    <tr>\n",
       "      <th>Ginecología</th>\n",
       "      <td>19165</td>\n",
       "    </tr>\n",
       "    <tr>\n",
       "      <th>Ortopedia</th>\n",
       "      <td>32098</td>\n",
       "    </tr>\n",
       "    <tr>\n",
       "      <th>Oftalmología</th>\n",
       "      <td>32854</td>\n",
       "    </tr>\n",
       "    <tr>\n",
       "      <th>Cirugía General</th>\n",
       "      <td>41351</td>\n",
       "    </tr>\n",
       "  </tbody>\n",
       "</table>\n",
       "</div>"
      ],
      "text/plain": [
       "                              idUtle\n",
       "especialidad                        \n",
       "Medicina Interna                   1\n",
       "Unidad de quemados                 1\n",
       "Medicina General                   1\n",
       "Endocrinología                     1\n",
       "Gastroenterología                  1\n",
       "Neumología                         2\n",
       "Unidad Urgencias Quirúrgicas       3\n",
       "Odontología General                6\n",
       "Oncología Médica                   8\n",
       "Medicina Paliativa                10\n",
       "Dermatología                      27\n",
       "Cirugía Bucodentomaxilar          60\n",
       "Labio y paladar                   74\n",
       "Anestesiología                   162\n",
       "Cirugía Craneomaxilofacial       413\n",
       "Cirugía Cardiovascular           497\n",
       "Obstetricia                      534\n",
       "Cirugía Toráxica                 788\n",
       "Odontología General Avanzada    1177\n",
       "Oncología Quirúrgica            1430\n",
       "Cirugía Reconstructiva          1909\n",
       "Cirugía General Infantil        2192\n",
       "Cardiología                     2194\n",
       "Neurocirugía                    4079\n",
       "Vascular Periférica             8101\n",
       "Otorrinolaringología           12598\n",
       "Urología                       15824\n",
       "Ginecología                    19165\n",
       "Ortopedia                      32098\n",
       "Oftalmología                   32854\n",
       "Cirugía General                41351"
      ]
     },
     "execution_count": 39,
     "metadata": {},
     "output_type": "execute_result"
    }
   ],
   "source": [
    "gf5 = dfPendientes.groupby(['especialidad']).count()\n",
    "gf5 = gf5.iloc[:,:1]\n",
    "tempGF5 = gf5.sort_values('idUtle',ascending=True)\n",
    "tempGF5"
   ]
  },
  {
   "cell_type": "code",
   "execution_count": 40,
   "id": "42e9e210",
   "metadata": {},
   "outputs": [
    {
     "data": {
      "image/png": "[encoded data removed]",
      "text/plain": [
       "<Figure size 1080x720 with 1 Axes>"
      ]
     },
     "metadata": {
      "needs_background": "light"
     },
     "output_type": "display_data"
    }
   ],
   "source": [
    "eje_x = tempGF5.index.tolist()\n",
    "eje_y = tempGF5['idUtle'].tolist()\n",
    "\n",
    "\n",
    "plt.figure(figsize=(15,10))\n",
    "##Creamos la Grafica\n",
    "plt.barh(eje_x, eje_y)\n",
    "         \n",
    "\n",
    "##Leyenda en el eje y\n",
    "plt.ylabel('Cantidad de personas')\n",
    "\n",
    "##Leyenda en el eje x\n",
    "plt.xlabel(\"Especialidad\")\n",
    "\n",
    "##Titulo del Grafico\n",
    "plt.title(\"Cantidad de Personas según especialidad\")\n",
    "\n",
    "plt.show()"
   ]
  },
  {
   "cell_type": "markdown",
   "id": "6801580e",
   "metadata": {},
   "source": [
    "<h3 style=\"color: #8FBC8F\">4.6 Cantidad de casos según región</h3>\n",
    "\n",
    "<p>Otro elemento para considerar es la cantidad de casos según región, de manera que se determina donde esta la mayor concentración de personas en la lista de espera quierugica.</p>"
   ]
  },
  {
   "cell_type": "code",
   "execution_count": 41,
   "id": "fb5da5cc",
   "metadata": {},
   "outputs": [
    {
     "data": {
      "text/html": [
       "<div>\n",
       "<style scoped>\n",
       "    .dataframe tbody tr th:only-of-type {\n",
       "        vertical-align: middle;\n",
       "    }\n",
       "\n",
       "    .dataframe tbody tr th {\n",
       "        vertical-align: top;\n",
       "    }\n",
       "\n",
       "    .dataframe thead th {\n",
       "        text-align: right;\n",
       "    }\n",
       "</style>\n",
       "<table border=\"1\" class=\"dataframe\">\n",
       "  <thead>\n",
       "    <tr style=\"text-align: right;\">\n",
       "      <th></th>\n",
       "      <th>idUtle</th>\n",
       "    </tr>\n",
       "    <tr>\n",
       "      <th>region</th>\n",
       "      <th></th>\n",
       "    </tr>\n",
       "  </thead>\n",
       "  <tbody>\n",
       "    <tr>\n",
       "      <th>BRUNCA</th>\n",
       "      <td>16616</td>\n",
       "    </tr>\n",
       "    <tr>\n",
       "      <th>CENTRAL NORTE</th>\n",
       "      <td>35854</td>\n",
       "    </tr>\n",
       "    <tr>\n",
       "      <th>CENTRAL SUR</th>\n",
       "      <td>19421</td>\n",
       "    </tr>\n",
       "    <tr>\n",
       "      <th>CHOROTEGA</th>\n",
       "      <td>17460</td>\n",
       "    </tr>\n",
       "    <tr>\n",
       "      <th>GAM</th>\n",
       "      <td>65323</td>\n",
       "    </tr>\n",
       "    <tr>\n",
       "      <th>HUETAR ALTLANTICA</th>\n",
       "      <td>8304</td>\n",
       "    </tr>\n",
       "    <tr>\n",
       "      <th>HUETAR NORTE</th>\n",
       "      <td>6116</td>\n",
       "    </tr>\n",
       "    <tr>\n",
       "      <th>PACIFICO CENTRAL</th>\n",
       "      <td>8467</td>\n",
       "    </tr>\n",
       "  </tbody>\n",
       "</table>\n",
       "</div>"
      ],
      "text/plain": [
       "                   idUtle\n",
       "region                   \n",
       "BRUNCA              16616\n",
       "CENTRAL NORTE       35854\n",
       "CENTRAL SUR         19421\n",
       "CHOROTEGA           17460\n",
       "GAM                 65323\n",
       "HUETAR ALTLANTICA    8304\n",
       "HUETAR NORTE         6116\n",
       "PACIFICO CENTRAL     8467"
      ]
     },
     "execution_count": 41,
     "metadata": {},
     "output_type": "execute_result"
    }
   ],
   "source": [
    "gf6 = dfPendientes.groupby(['region']).count()\n",
    "gf6 = gf6.iloc[:,:1]\n",
    "gf6"
   ]
  },
  {
   "cell_type": "code",
   "execution_count": 42,
   "id": "1f0912d4",
   "metadata": {},
   "outputs": [
    {
     "data": {
      "text/plain": [
       "<Figure size 720x1440 with 0 Axes>"
      ]
     },
     "metadata": {},
     "output_type": "display_data"
    },
    {
     "data": {
      "image/png": "[encoded data removed]",
      "text/plain": [
       "<Figure size 432x288 with 1 Axes>"
      ]
     },
     "metadata": {
      "needs_background": "light"
     },
     "output_type": "display_data"
    }
   ],
   "source": [
    "eje_x = gf6.index.tolist()\n",
    "eje_y = gf6['idUtle'].tolist()\n",
    "\n",
    "plt.figure(figsize=(10,20))\n",
    "fig, ax = plt.subplots()\n",
    "\n",
    "\n",
    "bar_colors = ['#FF9E17', '#E3423B', '#B54DFA', '#3B7FE3', '#2DAD78']\n",
    "\n",
    "ax.barh(eje_x, eje_y,  color=bar_colors)\n",
    "\n",
    "ax.set_title('Cantidad de Casos según Region')\n",
    "ax.set_xlabel('Catnidad de Personas')\n",
    "\n",
    "plt.show()"
   ]
  },
  {
   "cell_type": "markdown",
   "id": "2b68fa37",
   "metadata": {},
   "source": [
    "<h3 style=\"color: #8FBC8F\">4.7 Cantidad de casos según diagnóstico</h3>\n",
    "\n",
    "<p>Se han identificado 2180 diagnósticos registrados en la lista de espera, sin embargo, ante el volumen se debe considerar los 10 primeros diagnósticos de la Lista de Espera, siendo que ante su complejidad, volumen y ubicación podrían gestionarse estratégias especificas a nivel nacional y según región</p>"
   ]
  },
  {
   "cell_type": "code",
   "execution_count": 43,
   "id": "a0feabff",
   "metadata": {},
   "outputs": [
    {
     "data": {
      "text/html": [
       "<div>\n",
       "<style scoped>\n",
       "    .dataframe tbody tr th:only-of-type {\n",
       "        vertical-align: middle;\n",
       "    }\n",
       "\n",
       "    .dataframe tbody tr th {\n",
       "        vertical-align: top;\n",
       "    }\n",
       "\n",
       "    .dataframe thead th {\n",
       "        text-align: right;\n",
       "    }\n",
       "</style>\n",
       "<table border=\"1\" class=\"dataframe\">\n",
       "  <thead>\n",
       "    <tr style=\"text-align: right;\">\n",
       "      <th></th>\n",
       "      <th>idUtle</th>\n",
       "    </tr>\n",
       "    <tr>\n",
       "      <th>dscDiagnostico</th>\n",
       "      <th></th>\n",
       "    </tr>\n",
       "  </thead>\n",
       "  <tbody>\n",
       "    <tr>\n",
       "      <th>Esterilización</th>\n",
       "      <td>13522</td>\n",
       "    </tr>\n",
       "    <tr>\n",
       "      <th>Calculo de la vesicula biliar sin colecistitis</th>\n",
       "      <td>10827</td>\n",
       "    </tr>\n",
       "    <tr>\n",
       "      <th>Catarata, no especificada</th>\n",
       "      <td>8383</td>\n",
       "    </tr>\n",
       "    <tr>\n",
       "      <th>Pterigion</th>\n",
       "      <td>7556</td>\n",
       "    </tr>\n",
       "    <tr>\n",
       "      <th>Catarata senil nuclear</th>\n",
       "      <td>7387</td>\n",
       "    </tr>\n",
       "    <tr>\n",
       "      <th>...</th>\n",
       "      <td>...</td>\n",
       "    </tr>\n",
       "    <tr>\n",
       "      <th>Encefalitis aguda diseminada</th>\n",
       "      <td>1</td>\n",
       "    </tr>\n",
       "    <tr>\n",
       "      <th>Callos y callosidades</th>\n",
       "      <td>0</td>\n",
       "    </tr>\n",
       "    <tr>\n",
       "      <th>Tumor benigno de la piel del miembro inferior, incluida la cadera</th>\n",
       "      <td>0</td>\n",
       "    </tr>\n",
       "    <tr>\n",
       "      <th>Dispareunia no organica</th>\n",
       "      <td>0</td>\n",
       "    </tr>\n",
       "    <tr>\n",
       "      <th>Erosión y ectropión del cuello del útero</th>\n",
       "      <td>0</td>\n",
       "    </tr>\n",
       "  </tbody>\n",
       "</table>\n",
       "<p>2918 rows × 1 columns</p>\n",
       "</div>"
      ],
      "text/plain": [
       "                                                    idUtle\n",
       "dscDiagnostico                                            \n",
       "Esterilización                                       13522\n",
       "Calculo de la vesicula biliar sin colecistitis       10827\n",
       "Catarata, no especificada                             8383\n",
       "Pterigion                                             7556\n",
       "Catarata senil nuclear                                7387\n",
       "...                                                    ...\n",
       "Encefalitis aguda diseminada                             1\n",
       "Callos y callosidades                                    0\n",
       "Tumor benigno de la piel del miembro inferior, ...       0\n",
       "Dispareunia no organica                                  0\n",
       "Erosión y ectropión del cuello del útero                 0\n",
       "\n",
       "[2918 rows x 1 columns]"
      ]
     },
     "execution_count": 43,
     "metadata": {},
     "output_type": "execute_result"
    }
   ],
   "source": [
    "gf7 = dfPendientes.groupby(['dscDiagnostico']).count()\n",
    "gf7 = gf7.iloc[:,:1]\n",
    "tempGF7 = gf7.sort_values('idUtle',ascending=False)\n",
    "tempGF7"
   ]
  },
  {
   "cell_type": "code",
   "execution_count": 44,
   "id": "7dee2f35",
   "metadata": {},
   "outputs": [
    {
     "data": {
      "text/html": [
       "<div>\n",
       "<style scoped>\n",
       "    .dataframe tbody tr th:only-of-type {\n",
       "        vertical-align: middle;\n",
       "    }\n",
       "\n",
       "    .dataframe tbody tr th {\n",
       "        vertical-align: top;\n",
       "    }\n",
       "\n",
       "    .dataframe thead th {\n",
       "        text-align: right;\n",
       "    }\n",
       "</style>\n",
       "<table border=\"1\" class=\"dataframe\">\n",
       "  <thead>\n",
       "    <tr style=\"text-align: right;\">\n",
       "      <th></th>\n",
       "      <th>idUtle</th>\n",
       "    </tr>\n",
       "    <tr>\n",
       "      <th>dscDiagnostico</th>\n",
       "      <th></th>\n",
       "    </tr>\n",
       "  </thead>\n",
       "  <tbody>\n",
       "    <tr>\n",
       "      <th>Esterilización</th>\n",
       "      <td>13522</td>\n",
       "    </tr>\n",
       "    <tr>\n",
       "      <th>Calculo de la vesicula biliar sin colecistitis</th>\n",
       "      <td>10827</td>\n",
       "    </tr>\n",
       "    <tr>\n",
       "      <th>Catarata, no especificada</th>\n",
       "      <td>8383</td>\n",
       "    </tr>\n",
       "    <tr>\n",
       "      <th>Pterigion</th>\n",
       "      <td>7556</td>\n",
       "    </tr>\n",
       "    <tr>\n",
       "      <th>Catarata senil nuclear</th>\n",
       "      <td>7387</td>\n",
       "    </tr>\n",
       "    <tr>\n",
       "      <th>Hernia inguinal unilateral o no especificada, sin obstruccion ni gangrena</th>\n",
       "      <td>6875</td>\n",
       "    </tr>\n",
       "    <tr>\n",
       "      <th>Hernia umbilical sin obstruccion ni gangrena</th>\n",
       "      <td>4391</td>\n",
       "    </tr>\n",
       "    <tr>\n",
       "      <th>Hiperplasia de la prostata</th>\n",
       "      <td>4342</td>\n",
       "    </tr>\n",
       "    <tr>\n",
       "      <th>Gonartrosis, no especificada</th>\n",
       "      <td>3961</td>\n",
       "    </tr>\n",
       "    <tr>\n",
       "      <th>Desviacion del tabique nasal</th>\n",
       "      <td>3587</td>\n",
       "    </tr>\n",
       "  </tbody>\n",
       "</table>\n",
       "</div>"
      ],
      "text/plain": [
       "                                                    idUtle\n",
       "dscDiagnostico                                            \n",
       "Esterilización                                       13522\n",
       "Calculo de la vesicula biliar sin colecistitis       10827\n",
       "Catarata, no especificada                             8383\n",
       "Pterigion                                             7556\n",
       "Catarata senil nuclear                                7387\n",
       "Hernia inguinal unilateral o no especificada, s...    6875\n",
       "Hernia umbilical sin obstruccion ni gangrena          4391\n",
       "Hiperplasia de la prostata                            4342\n",
       "Gonartrosis, no especificada                          3961\n",
       "Desviacion del tabique nasal                          3587"
      ]
     },
     "execution_count": 44,
     "metadata": {},
     "output_type": "execute_result"
    }
   ],
   "source": [
    "top10Dx = tempGF7.head(10)\n",
    "top10Dx"
   ]
  },
  {
   "cell_type": "code",
   "execution_count": 45,
   "id": "5eaa78eb",
   "metadata": {},
   "outputs": [
    {
     "data": {
      "text/plain": [
       "<Figure size 720x1440 with 0 Axes>"
      ]
     },
     "metadata": {},
     "output_type": "display_data"
    },
    {
     "data": {
      "image/png": "[encoded data removed]",
      "text/plain": [
       "<Figure size 432x288 with 1 Axes>"
      ]
     },
     "metadata": {
      "needs_background": "light"
     },
     "output_type": "display_data"
    }
   ],
   "source": [
    "eje_x = top10Dx.index.tolist()\n",
    "eje_y = top10Dx['idUtle'].tolist()\n",
    "\n",
    "plt.figure(figsize=(10,20))\n",
    "fig, ax = plt.subplots()\n",
    "\n",
    "\n",
    "bar_colors = ['#FF9E17', '#E3423B', '#B54DFA', '#3B7FE3', '#2DAD78']\n",
    "\n",
    "ax.barh(eje_x, eje_y,  color=bar_colors)\n",
    "\n",
    "ax.set_title('Cantidad de Casos según Region')\n",
    "ax.set_xlabel('Catnidad de Personas')\n",
    "\n",
    "plt.show()"
   ]
  },
  {
   "cell_type": "markdown",
   "id": "975af544",
   "metadata": {},
   "source": [
    "\n",
    "<p>Considerando que el diagnóstico de esterilización es el de mayor relevancia en la lista de espera quirurgica, se procederá a identificar cuantos de esos corresponden a hombres y mujeres, asimismo, cual es plazo promedio de espera para dicha operación y cuales hospitales concentran la mayor poblacion con ese diagnótico</p>\n",
    "\n",
    "<h3 style=\"color: #5c272e\">4.7.1 Filtrado por diagnóstico de Esterlización</h3>"
   ]
  },
  {
   "cell_type": "code",
   "execution_count": 46,
   "id": "2fa1e644",
   "metadata": {},
   "outputs": [
    {
     "data": {
      "text/plain": [
       "(13522, 24)"
      ]
     },
     "execution_count": 46,
     "metadata": {},
     "output_type": "execute_result"
    }
   ],
   "source": [
    "in_esterilizacion = dfPendientes['dscDiagnostico'] == 'Esterilización'\n",
    "in_esterilizacion1 = dfPendientes[in_esterilizacion]\n",
    "in_esterilizacion1.shape"
   ]
  },
  {
   "cell_type": "code",
   "execution_count": 47,
   "id": "8dd9b5e2",
   "metadata": {},
   "outputs": [
    {
     "data": {
      "text/html": [
       "<div>\n",
       "<style scoped>\n",
       "    .dataframe tbody tr th:only-of-type {\n",
       "        vertical-align: middle;\n",
       "    }\n",
       "\n",
       "    .dataframe tbody tr th {\n",
       "        vertical-align: top;\n",
       "    }\n",
       "\n",
       "    .dataframe thead th {\n",
       "        text-align: right;\n",
       "    }\n",
       "</style>\n",
       "<table border=\"1\" class=\"dataframe\">\n",
       "  <thead>\n",
       "    <tr style=\"text-align: right;\">\n",
       "      <th></th>\n",
       "      <th>idUtle</th>\n",
       "    </tr>\n",
       "    <tr>\n",
       "      <th>sexo</th>\n",
       "      <th></th>\n",
       "    </tr>\n",
       "  </thead>\n",
       "  <tbody>\n",
       "    <tr>\n",
       "      <th>Femenino</th>\n",
       "      <td>10320</td>\n",
       "    </tr>\n",
       "    <tr>\n",
       "      <th>Masculino</th>\n",
       "      <td>3202</td>\n",
       "    </tr>\n",
       "  </tbody>\n",
       "</table>\n",
       "</div>"
      ],
      "text/plain": [
       "           idUtle\n",
       "sexo             \n",
       "Femenino    10320\n",
       "Masculino    3202"
      ]
     },
     "execution_count": 47,
     "metadata": {},
     "output_type": "execute_result"
    }
   ],
   "source": [
    "gf7a = in_esterilizacion1.groupby(['sexo']).count()\n",
    "gf7a = gf7a.iloc[:,:1]\n",
    "gf7a"
   ]
  },
  {
   "cell_type": "markdown",
   "id": "b3b9456c",
   "metadata": {},
   "source": [
    "<h4 style=\"color: #a75846\">4.7.2 Cantidad de Personas según diagnóstico y sexo</h4>\n",
    "\n",
    "\n",
    "<p>Con el propósito de conocer la cantidad de personas que aguardan por una ciguría de esterilización, se procede a agrupar los datos según sexo, permitiendo identificar que 10 mil pesonas son mujeres y 3 mil son hombres.</p>"
   ]
  },
  {
   "cell_type": "code",
   "execution_count": 48,
   "id": "da3d3a0a",
   "metadata": {},
   "outputs": [
    {
     "data": {
      "image/png": "[encoded data removed]",
      "text/plain": [
       "<Figure size 432x288 with 1 Axes>"
      ]
     },
     "metadata": {},
     "output_type": "display_data"
    }
   ],
   "source": [
    "# list of name of students\n",
    "names = ['Femenino', 'Masculino']\n",
    "  \n",
    "# list of their respective marks\n",
    "marks = gf7a['idUtle'].tolist()\n",
    "  \n",
    "# Create a circle at the center of\n",
    "# the plot\n",
    "my_circle = plt.Circle((0, 0), 0.7, color='white')\n",
    "  \n",
    "# Give color names\n",
    "plt.pie(marks, labels=names, autopct='%1.1f%%',\n",
    "        colors=['#20b4d8', '#84e882'])\n",
    "  \n",
    "p = plt.gcf()\n",
    "p.gca().add_artist(my_circle)\n",
    "  \n",
    "# Show the graph\n",
    "plt.show()"
   ]
  },
  {
   "cell_type": "markdown",
   "id": "c5896de0",
   "metadata": {},
   "source": [
    "<h4 style=\"color: #a75846\">4.7.3 Cantidad de Personas según diagnóstico y Centro Médico</h4>\n",
    "\n",
    "\n",
    "<p>Se han agrupado los datos por establecimiento de salud, con el propósito de conocer la distribución de las personas por unidad programatica, esto podría permitir definir estratégias de atención.</p>"
   ]
  },
  {
   "cell_type": "code",
   "execution_count": 49,
   "id": "a3d2bf18",
   "metadata": {},
   "outputs": [
    {
     "data": {
      "text/html": [
       "<div>\n",
       "<style scoped>\n",
       "    .dataframe tbody tr th:only-of-type {\n",
       "        vertical-align: middle;\n",
       "    }\n",
       "\n",
       "    .dataframe tbody tr th {\n",
       "        vertical-align: top;\n",
       "    }\n",
       "\n",
       "    .dataframe thead th {\n",
       "        text-align: right;\n",
       "    }\n",
       "</style>\n",
       "<table border=\"1\" class=\"dataframe\">\n",
       "  <thead>\n",
       "    <tr style=\"text-align: right;\">\n",
       "      <th></th>\n",
       "      <th>idUtle</th>\n",
       "    </tr>\n",
       "    <tr>\n",
       "      <th>centroMedico</th>\n",
       "      <th></th>\n",
       "    </tr>\n",
       "  </thead>\n",
       "  <tbody>\n",
       "    <tr>\n",
       "      <th>H. SAN JUAN DE DIOS</th>\n",
       "      <td>2953</td>\n",
       "    </tr>\n",
       "    <tr>\n",
       "      <th>CAIS CAÑAS</th>\n",
       "      <td>1522</td>\n",
       "    </tr>\n",
       "    <tr>\n",
       "      <th>H. MAX PERALTA</th>\n",
       "      <td>1291</td>\n",
       "    </tr>\n",
       "    <tr>\n",
       "      <th>H. SAN VICENTE PAUL</th>\n",
       "      <td>1186</td>\n",
       "    </tr>\n",
       "    <tr>\n",
       "      <th>CARIT</th>\n",
       "      <td>1078</td>\n",
       "    </tr>\n",
       "    <tr>\n",
       "      <th>H. LA ANEXION</th>\n",
       "      <td>777</td>\n",
       "    </tr>\n",
       "    <tr>\n",
       "      <th>H. ESCALANTE PRADILLA</th>\n",
       "      <td>676</td>\n",
       "    </tr>\n",
       "    <tr>\n",
       "      <th>H. MONSEÑOR SANABRIA</th>\n",
       "      <td>673</td>\n",
       "    </tr>\n",
       "    <tr>\n",
       "      <th>H. MEXICO</th>\n",
       "      <td>473</td>\n",
       "    </tr>\n",
       "    <tr>\n",
       "      <th>H. GUAPILES</th>\n",
       "      <td>439</td>\n",
       "    </tr>\n",
       "    <tr>\n",
       "      <th>H. SAN RAMON</th>\n",
       "      <td>408</td>\n",
       "    </tr>\n",
       "    <tr>\n",
       "      <th>H. TONY FACIO</th>\n",
       "      <td>371</td>\n",
       "    </tr>\n",
       "    <tr>\n",
       "      <th>H. SAN CARLOS</th>\n",
       "      <td>323</td>\n",
       "    </tr>\n",
       "    <tr>\n",
       "      <th>H. SAN RAFAEL ALAJUELA</th>\n",
       "      <td>247</td>\n",
       "    </tr>\n",
       "    <tr>\n",
       "      <th>H. CALDERON GUARDIA</th>\n",
       "      <td>213</td>\n",
       "    </tr>\n",
       "    <tr>\n",
       "      <th>H. MAX TERAN VALLS</th>\n",
       "      <td>184</td>\n",
       "    </tr>\n",
       "    <tr>\n",
       "      <th>A.S SIQUIRRES</th>\n",
       "      <td>167</td>\n",
       "    </tr>\n",
       "    <tr>\n",
       "      <th>H. WILLIAN ALLEN</th>\n",
       "      <td>97</td>\n",
       "    </tr>\n",
       "    <tr>\n",
       "      <th>H. LOS CHILES</th>\n",
       "      <td>93</td>\n",
       "    </tr>\n",
       "    <tr>\n",
       "      <th>H. SAN VITO</th>\n",
       "      <td>80</td>\n",
       "    </tr>\n",
       "    <tr>\n",
       "      <th>H. CIUDAD NEILY</th>\n",
       "      <td>78</td>\n",
       "    </tr>\n",
       "    <tr>\n",
       "      <th>CAIS PURISCAL</th>\n",
       "      <td>59</td>\n",
       "    </tr>\n",
       "    <tr>\n",
       "      <th>H. GOLFITO</th>\n",
       "      <td>43</td>\n",
       "    </tr>\n",
       "    <tr>\n",
       "      <th>CL. MARCIAL FALLAS</th>\n",
       "      <td>36</td>\n",
       "    </tr>\n",
       "    <tr>\n",
       "      <th>H. UPALA</th>\n",
       "      <td>19</td>\n",
       "    </tr>\n",
       "    <tr>\n",
       "      <th>H. ENRIQUE BALTODANO</th>\n",
       "      <td>17</td>\n",
       "    </tr>\n",
       "    <tr>\n",
       "      <th>H. SAN FRANCISCO DE ASIS</th>\n",
       "      <td>11</td>\n",
       "    </tr>\n",
       "    <tr>\n",
       "      <th>CENARE</th>\n",
       "      <td>6</td>\n",
       "    </tr>\n",
       "    <tr>\n",
       "      <th>H. TOMAS CASAS</th>\n",
       "      <td>2</td>\n",
       "    </tr>\n",
       "  </tbody>\n",
       "</table>\n",
       "</div>"
      ],
      "text/plain": [
       "                          idUtle\n",
       "centroMedico                    \n",
       "H. SAN JUAN DE DIOS         2953\n",
       "CAIS CAÑAS                  1522\n",
       "H. MAX PERALTA              1291\n",
       "H. SAN VICENTE PAUL         1186\n",
       "CARIT                       1078\n",
       "H. LA ANEXION                777\n",
       "H. ESCALANTE PRADILLA        676\n",
       "H. MONSEÑOR SANABRIA         673\n",
       "H. MEXICO                    473\n",
       "H. GUAPILES                  439\n",
       "H. SAN RAMON                 408\n",
       "H. TONY FACIO                371\n",
       "H. SAN CARLOS                323\n",
       "H. SAN RAFAEL ALAJUELA       247\n",
       "H. CALDERON GUARDIA          213\n",
       "H. MAX TERAN VALLS           184\n",
       "A.S SIQUIRRES                167\n",
       "H. WILLIAN ALLEN              97\n",
       "H. LOS CHILES                 93\n",
       "H. SAN VITO                   80\n",
       "H. CIUDAD NEILY               78\n",
       "CAIS PURISCAL                 59\n",
       "H. GOLFITO                    43\n",
       "CL. MARCIAL FALLAS            36\n",
       "H. UPALA                      19\n",
       "H. ENRIQUE BALTODANO          17\n",
       "H. SAN FRANCISCO DE ASIS      11\n",
       "CENARE                         6\n",
       "H. TOMAS CASAS                 2"
      ]
     },
     "execution_count": 49,
     "metadata": {},
     "output_type": "execute_result"
    }
   ],
   "source": [
    "gf7b = in_esterilizacion1.groupby(['centroMedico']).count()\n",
    "gf7b = gf7b.iloc[:,:1]\n",
    "tempGF7b = gf7b.sort_values('idUtle',ascending=False)\n",
    "tempGF7b"
   ]
  },
  {
   "cell_type": "code",
   "execution_count": 50,
   "id": "f000c22d",
   "metadata": {},
   "outputs": [
    {
     "data": {
      "image/png": "[encoded data removed]",
      "text/plain": [
       "<Figure size 720x720 with 1 Axes>"
      ]
     },
     "metadata": {
      "needs_background": "light"
     },
     "output_type": "display_data"
    }
   ],
   "source": [
    "eje_x = tempGF7b.index.tolist()\n",
    "eje_y = tempGF7b['idUtle'].tolist()\n",
    "\n",
    "plt.figure(figsize=(10,10))\n",
    "##Creamos la Grafica\n",
    "bar_colors = ['#20b4d8']\n",
    "plt.barh(eje_x, eje_y,color=bar_colors)\n",
    "         \n",
    "\n",
    "##Leyenda en el eje y\n",
    "plt.ylabel('Centro Médico')\n",
    "\n",
    "##Leyenda en el eje x\n",
    "plt.xlabel(\"Cantidad de personas\")\n",
    "\n",
    "##Titulo del Grafico\n",
    "plt.title(\"Cantidad de Personas según Centro Médico\")\n",
    "\n",
    "plt.show()"
   ]
  },
  {
   "cell_type": "markdown",
   "id": "f05219d1",
   "metadata": {},
   "source": [
    "<h3 style=\"color: #8FBC8F\">4.8 Cantidad de casos según diagnóstico</h3>\n",
    "\n",
    "<p>Se han identificado 2180 diagnósticos registrados en la lista de espera, sin embargo, ante el volumen se debe considerar los 10 últimos diagnósticos de la Lista de Espera, siendo que ante su complejidad, volumen y ubicación podrían gestionarse estratégias especificas a nivel nacional y según región.</p>"
   ]
  },
  {
   "cell_type": "code",
   "execution_count": 51,
   "id": "72d3c74f",
   "metadata": {},
   "outputs": [
    {
     "data": {
      "text/html": [
       "<div>\n",
       "<style scoped>\n",
       "    .dataframe tbody tr th:only-of-type {\n",
       "        vertical-align: middle;\n",
       "    }\n",
       "\n",
       "    .dataframe tbody tr th {\n",
       "        vertical-align: top;\n",
       "    }\n",
       "\n",
       "    .dataframe thead th {\n",
       "        text-align: right;\n",
       "    }\n",
       "</style>\n",
       "<table border=\"1\" class=\"dataframe\">\n",
       "  <thead>\n",
       "    <tr style=\"text-align: right;\">\n",
       "      <th></th>\n",
       "      <th>idUtle</th>\n",
       "    </tr>\n",
       "    <tr>\n",
       "      <th>dscDiagnostico</th>\n",
       "      <th></th>\n",
       "    </tr>\n",
       "  </thead>\n",
       "  <tbody>\n",
       "    <tr>\n",
       "      <th>Dispareunia no organica</th>\n",
       "      <td>0</td>\n",
       "    </tr>\n",
       "    <tr>\n",
       "      <th>Callos y callosidades</th>\n",
       "      <td>0</td>\n",
       "    </tr>\n",
       "    <tr>\n",
       "      <th>Tumor benigno de la piel del miembro inferior, incluida la cadera</th>\n",
       "      <td>0</td>\n",
       "    </tr>\n",
       "    <tr>\n",
       "      <th>Erosión y ectropión del cuello del útero</th>\n",
       "      <td>0</td>\n",
       "    </tr>\n",
       "    <tr>\n",
       "      <th>Melanoma maligno de sitios contiguos de la piel</th>\n",
       "      <td>1</td>\n",
       "    </tr>\n",
       "    <tr>\n",
       "      <th>Meningoencefalitis y meningomielitis bacterianas, no clasificadas en otra parte</th>\n",
       "      <td>1</td>\n",
       "    </tr>\n",
       "    <tr>\n",
       "      <th>Miasis nasofaringea</th>\n",
       "      <td>1</td>\n",
       "    </tr>\n",
       "    <tr>\n",
       "      <th>Microcefalia</th>\n",
       "      <td>1</td>\n",
       "    </tr>\n",
       "    <tr>\n",
       "      <th>Mielopatia en enfermedades clasificadas en otra parte</th>\n",
       "      <td>1</td>\n",
       "    </tr>\n",
       "    <tr>\n",
       "      <th>Monoplejia, no especificada</th>\n",
       "      <td>1</td>\n",
       "    </tr>\n",
       "    <tr>\n",
       "      <th>Miopatia mitocondrica, no clasificada en otra parte</th>\n",
       "      <td>1</td>\n",
       "    </tr>\n",
       "    <tr>\n",
       "      <th>Miopatia, no especificada</th>\n",
       "      <td>1</td>\n",
       "    </tr>\n",
       "    <tr>\n",
       "      <th>Melanoma in situ del miembro inferior, incluida la cadera</th>\n",
       "      <td>1</td>\n",
       "    </tr>\n",
       "    <tr>\n",
       "      <th>Miositis osificante progresiva</th>\n",
       "      <td>1</td>\n",
       "    </tr>\n",
       "    <tr>\n",
       "      <th>Miringitis aguda</th>\n",
       "      <td>1</td>\n",
       "    </tr>\n",
       "  </tbody>\n",
       "</table>\n",
       "</div>"
      ],
      "text/plain": [
       "                                                    idUtle\n",
       "dscDiagnostico                                            \n",
       "Dispareunia no organica                                  0\n",
       "Callos y callosidades                                    0\n",
       "Tumor benigno de la piel del miembro inferior, ...       0\n",
       "Erosión y ectropión del cuello del útero                 0\n",
       "Melanoma maligno de sitios contiguos de la piel          1\n",
       "Meningoencefalitis y meningomielitis bacteriana...       1\n",
       "Miasis nasofaringea                                      1\n",
       "Microcefalia                                             1\n",
       "Mielopatia en enfermedades clasificadas en otra...       1\n",
       "Monoplejia, no especificada                              1\n",
       "Miopatia mitocondrica, no clasificada en otra p...       1\n",
       "Miopatia, no especificada                                1\n",
       "Melanoma in situ del miembro inferior, incluida...       1\n",
       "Miositis osificante progresiva                           1\n",
       "Miringitis aguda                                         1"
      ]
     },
     "execution_count": 51,
     "metadata": {},
     "output_type": "execute_result"
    }
   ],
   "source": [
    "gf8 = dfPendientes.groupby(['dscDiagnostico']).count()\n",
    "gf8 = gf8.iloc[:,:1]\n",
    "tempGF8 = gf8.sort_values('idUtle',ascending=True)\n",
    "tail10Dx = tempGF8.head(15)\n",
    "tail10Dx"
   ]
  },
  {
   "cell_type": "markdown",
   "id": "9c091e02",
   "metadata": {},
   "source": [
    "<h3 style=\"color: #ff4e51\">4.2 Analisis Regional de la Lista de Espera</h3>\n",
    "\n",
    "<p>Considerando el análisis realizado sobre las generalidades se procede a efectuar un analisis macro de las regiones, considerando las mismas variables antes observadas, solo que con un enfoque regional, esto para conocer el estado de cada una de las unidades.</p>\n",
    "</br>\n",
    "<img src=\"DRIPS.png\">"
   ]
  },
  {
   "cell_type": "code",
   "execution_count": 52,
   "id": "d4933322",
   "metadata": {},
   "outputs": [
    {
     "data": {
      "text/html": [
       "<div>\n",
       "<style scoped>\n",
       "    .dataframe tbody tr th:only-of-type {\n",
       "        vertical-align: middle;\n",
       "    }\n",
       "\n",
       "    .dataframe tbody tr th {\n",
       "        vertical-align: top;\n",
       "    }\n",
       "\n",
       "    .dataframe thead th {\n",
       "        text-align: right;\n",
       "    }\n",
       "</style>\n",
       "<table border=\"1\" class=\"dataframe\">\n",
       "  <thead>\n",
       "    <tr style=\"text-align: right;\">\n",
       "      <th></th>\n",
       "      <th>idUtle</th>\n",
       "      <th>up</th>\n",
       "      <th>centroMedico</th>\n",
       "      <th>region</th>\n",
       "      <th>fechaRegistro</th>\n",
       "      <th>anoRegistro</th>\n",
       "      <th>mesRegistro</th>\n",
       "      <th>diaRegistro</th>\n",
       "      <th>servicio</th>\n",
       "      <th>especialidad</th>\n",
       "      <th>...</th>\n",
       "      <th>codDiagnostico</th>\n",
       "      <th>dscDiagnostico</th>\n",
       "      <th>fechaNacimiento</th>\n",
       "      <th>provincia</th>\n",
       "      <th>canton</th>\n",
       "      <th>lateralidad</th>\n",
       "      <th>sexo</th>\n",
       "      <th>origen</th>\n",
       "      <th>Edad</th>\n",
       "      <th>bin_PlazoEspera</th>\n",
       "    </tr>\n",
       "  </thead>\n",
       "  <tbody>\n",
       "    <tr>\n",
       "      <th>0</th>\n",
       "      <td>1.0</td>\n",
       "      <td>2802</td>\n",
       "      <td>OFTALMOLOGICA</td>\n",
       "      <td>GAM</td>\n",
       "      <td>2022-05-02</td>\n",
       "      <td>2022</td>\n",
       "      <td>5</td>\n",
       "      <td>2</td>\n",
       "      <td>Cirugía Ambulatoria</td>\n",
       "      <td>Oftalmología</td>\n",
       "      <td>...</td>\n",
       "      <td>H262</td>\n",
       "      <td>Catarata complicada</td>\n",
       "      <td>1944-04-14</td>\n",
       "      <td>Alajuela</td>\n",
       "      <td>Sarchí</td>\n",
       "      <td>Derecha</td>\n",
       "      <td>Masculino</td>\n",
       "      <td>Consulta Externa</td>\n",
       "      <td>78.0</td>\n",
       "      <td>90Dias</td>\n",
       "    </tr>\n",
       "    <tr>\n",
       "      <th>1</th>\n",
       "      <td>2.0</td>\n",
       "      <td>2802</td>\n",
       "      <td>OFTALMOLOGICA</td>\n",
       "      <td>GAM</td>\n",
       "      <td>2022-05-02</td>\n",
       "      <td>2022</td>\n",
       "      <td>5</td>\n",
       "      <td>2</td>\n",
       "      <td>Cirugía Ambulatoria</td>\n",
       "      <td>Oftalmología</td>\n",
       "      <td>...</td>\n",
       "      <td>H262</td>\n",
       "      <td>Catarata complicada</td>\n",
       "      <td>1945-07-26</td>\n",
       "      <td>Cartago</td>\n",
       "      <td>Cartago</td>\n",
       "      <td>Izquierda</td>\n",
       "      <td>Masculino</td>\n",
       "      <td>Consulta Externa</td>\n",
       "      <td>77.0</td>\n",
       "      <td>90Dias</td>\n",
       "    </tr>\n",
       "    <tr>\n",
       "      <th>2</th>\n",
       "      <td>3.0</td>\n",
       "      <td>2802</td>\n",
       "      <td>OFTALMOLOGICA</td>\n",
       "      <td>GAM</td>\n",
       "      <td>2022-05-02</td>\n",
       "      <td>2022</td>\n",
       "      <td>5</td>\n",
       "      <td>2</td>\n",
       "      <td>Cirugía Ambulatoria</td>\n",
       "      <td>Oftalmología</td>\n",
       "      <td>...</td>\n",
       "      <td>H262</td>\n",
       "      <td>Catarata complicada</td>\n",
       "      <td>1948-09-27</td>\n",
       "      <td>Alajuela</td>\n",
       "      <td>Alajuela</td>\n",
       "      <td>Izquierda</td>\n",
       "      <td>Masculino</td>\n",
       "      <td>Consulta Externa</td>\n",
       "      <td>74.0</td>\n",
       "      <td>90Dias</td>\n",
       "    </tr>\n",
       "  </tbody>\n",
       "</table>\n",
       "<p>3 rows × 24 columns</p>\n",
       "</div>"
      ],
      "text/plain": [
       "   idUtle    up   centroMedico region fechaRegistro  anoRegistro  mesRegistro  \\\n",
       "0     1.0  2802  OFTALMOLOGICA    GAM    2022-05-02         2022            5   \n",
       "1     2.0  2802  OFTALMOLOGICA    GAM    2022-05-02         2022            5   \n",
       "2     3.0  2802  OFTALMOLOGICA    GAM    2022-05-02         2022            5   \n",
       "\n",
       "   diaRegistro             servicio  especialidad  ...  codDiagnostico  \\\n",
       "0            2  Cirugía Ambulatoria  Oftalmología  ...            H262   \n",
       "1            2  Cirugía Ambulatoria  Oftalmología  ...            H262   \n",
       "2            2  Cirugía Ambulatoria  Oftalmología  ...            H262   \n",
       "\n",
       "        dscDiagnostico fechaNacimiento provincia    canton lateralidad  \\\n",
       "0  Catarata complicada      1944-04-14  Alajuela    Sarchí     Derecha   \n",
       "1  Catarata complicada      1945-07-26   Cartago   Cartago   Izquierda   \n",
       "2  Catarata complicada      1948-09-27  Alajuela  Alajuela   Izquierda   \n",
       "\n",
       "        sexo            origen  Edad bin_PlazoEspera  \n",
       "0  Masculino  Consulta Externa  78.0          90Dias  \n",
       "1  Masculino  Consulta Externa  77.0          90Dias  \n",
       "2  Masculino  Consulta Externa  74.0          90Dias  \n",
       "\n",
       "[3 rows x 24 columns]"
      ]
     },
     "execution_count": 52,
     "metadata": {},
     "output_type": "execute_result"
    }
   ],
   "source": [
    "dfPendientes.head(3)"
   ]
  },
  {
   "cell_type": "markdown",
   "id": "6240d8e9",
   "metadata": {},
   "source": [
    "<h4 style=\"color:#b14f7f\">4.2.1 Lista de Espera de la Region \"GAM\"</h4>\n",
    "\n",
    "<p>Se realiza la agrupación de datos considerando únicamente los establecimientos médicos del Gran Área Metropolitana, de manera que se pueda comprender donde está la mayor concentración de casos para los establecimientos</p>"
   ]
  },
  {
   "cell_type": "code",
   "execution_count": 53,
   "id": "48d924d7",
   "metadata": {},
   "outputs": [
    {
     "data": {
      "text/plain": [
       "(65323, 24)"
      ]
     },
     "execution_count": 53,
     "metadata": {},
     "output_type": "execute_result"
    }
   ],
   "source": [
    "in_region1 = dfPendientes['region'] == 'GAM'\n",
    "in_region1 = dfPendientes[in_region1]\n",
    "in_region1.shape"
   ]
  },
  {
   "cell_type": "code",
   "execution_count": 54,
   "id": "ec181476",
   "metadata": {},
   "outputs": [
    {
     "data": {
      "text/html": [
       "<div>\n",
       "<style scoped>\n",
       "    .dataframe tbody tr th:only-of-type {\n",
       "        vertical-align: middle;\n",
       "    }\n",
       "\n",
       "    .dataframe tbody tr th {\n",
       "        vertical-align: top;\n",
       "    }\n",
       "\n",
       "    .dataframe thead th {\n",
       "        text-align: right;\n",
       "    }\n",
       "</style>\n",
       "<table border=\"1\" class=\"dataframe\">\n",
       "  <thead>\n",
       "    <tr style=\"text-align: right;\">\n",
       "      <th></th>\n",
       "      <th>idUtle</th>\n",
       "    </tr>\n",
       "    <tr>\n",
       "      <th>dscDiagnostico</th>\n",
       "      <th></th>\n",
       "    </tr>\n",
       "  </thead>\n",
       "  <tbody>\n",
       "    <tr>\n",
       "      <th>Esterilización</th>\n",
       "      <td>4723</td>\n",
       "    </tr>\n",
       "    <tr>\n",
       "      <th>Calculo de la vesicula biliar sin colecistitis</th>\n",
       "      <td>3414</td>\n",
       "    </tr>\n",
       "    <tr>\n",
       "      <th>Gonartrosis, no especificada</th>\n",
       "      <td>2439</td>\n",
       "    </tr>\n",
       "    <tr>\n",
       "      <th>Catarata, no especificada</th>\n",
       "      <td>2155</td>\n",
       "    </tr>\n",
       "    <tr>\n",
       "      <th>Obesidad debida a exceso de calorias</th>\n",
       "      <td>2016</td>\n",
       "    </tr>\n",
       "    <tr>\n",
       "      <th>Hernia inguinal unilateral o no especificada, sin obstruccion ni gangrena</th>\n",
       "      <td>1746</td>\n",
       "    </tr>\n",
       "    <tr>\n",
       "      <th>Hiperplasia de la prostata</th>\n",
       "      <td>1275</td>\n",
       "    </tr>\n",
       "    <tr>\n",
       "      <th>Venas varicosas de los miembros inferiores sin ·lcera ni inflamacion</th>\n",
       "      <td>1248</td>\n",
       "    </tr>\n",
       "    <tr>\n",
       "      <th>Catarata senil nuclear</th>\n",
       "      <td>1195</td>\n",
       "    </tr>\n",
       "    <tr>\n",
       "      <th>Insuficiencia venosa (cronica) (periferica)</th>\n",
       "      <td>1165</td>\n",
       "    </tr>\n",
       "  </tbody>\n",
       "</table>\n",
       "</div>"
      ],
      "text/plain": [
       "                                                    idUtle\n",
       "dscDiagnostico                                            \n",
       "Esterilización                                        4723\n",
       "Calculo de la vesicula biliar sin colecistitis        3414\n",
       "Gonartrosis, no especificada                          2439\n",
       "Catarata, no especificada                             2155\n",
       "Obesidad debida a exceso de calorias                  2016\n",
       "Hernia inguinal unilateral o no especificada, s...    1746\n",
       "Hiperplasia de la prostata                            1275\n",
       "Venas varicosas de los miembros inferiores sin ...    1248\n",
       "Catarata senil nuclear                                1195\n",
       "Insuficiencia venosa (cronica) (periferica)           1165"
      ]
     },
     "execution_count": 54,
     "metadata": {},
     "output_type": "execute_result"
    }
   ],
   "source": [
    "gf9 = in_region1.groupby(['dscDiagnostico']).count()\n",
    "gf9 = gf9.iloc[:,:1]\n",
    "tempGF9 = gf9.sort_values('idUtle',ascending=False)\n",
    "top10Dx = tempGF9.head(10)\n",
    "top10Dx"
   ]
  },
  {
   "cell_type": "markdown",
   "id": "e0381581",
   "metadata": {},
   "source": [
    "<h4 style=\"color: #b14f7f\">4.2.2 Concentración de la Lista de Espera según Hospital</h4>\n",
    "\n",
    "<p>Se obtiene la distribución de la lista de espera por hospital, con el propósito de conocer en cual establecimiento se concentra la mayor cantidad de listas de espera quirurgica</p>"
   ]
  },
  {
   "cell_type": "code",
   "execution_count": 55,
   "id": "1516ab62",
   "metadata": {},
   "outputs": [
    {
     "data": {
      "text/html": [
       "<div>\n",
       "<style scoped>\n",
       "    .dataframe tbody tr th:only-of-type {\n",
       "        vertical-align: middle;\n",
       "    }\n",
       "\n",
       "    .dataframe tbody tr th {\n",
       "        vertical-align: top;\n",
       "    }\n",
       "\n",
       "    .dataframe thead th {\n",
       "        text-align: right;\n",
       "    }\n",
       "</style>\n",
       "<table border=\"1\" class=\"dataframe\">\n",
       "  <thead>\n",
       "    <tr style=\"text-align: right;\">\n",
       "      <th></th>\n",
       "      <th>idUtle</th>\n",
       "    </tr>\n",
       "    <tr>\n",
       "      <th>centroMedico</th>\n",
       "      <th></th>\n",
       "    </tr>\n",
       "  </thead>\n",
       "  <tbody>\n",
       "    <tr>\n",
       "      <th>H. CALDERON GUARDIA</th>\n",
       "      <td>21518</td>\n",
       "    </tr>\n",
       "    <tr>\n",
       "      <th>H. SAN JUAN DE DIOS</th>\n",
       "      <td>19819</td>\n",
       "    </tr>\n",
       "    <tr>\n",
       "      <th>H. MEXICO</th>\n",
       "      <td>11098</td>\n",
       "    </tr>\n",
       "    <tr>\n",
       "      <th>H. NIÑOS</th>\n",
       "      <td>5817</td>\n",
       "    </tr>\n",
       "    <tr>\n",
       "      <th>CENARE</th>\n",
       "      <td>2545</td>\n",
       "    </tr>\n",
       "    <tr>\n",
       "      <th>CARIT</th>\n",
       "      <td>2402</td>\n",
       "    </tr>\n",
       "    <tr>\n",
       "      <th>OFTALMOLOGICA</th>\n",
       "      <td>1156</td>\n",
       "    </tr>\n",
       "    <tr>\n",
       "      <th>BLANCO CERVANTES</th>\n",
       "      <td>968</td>\n",
       "    </tr>\n",
       "  </tbody>\n",
       "</table>\n",
       "</div>"
      ],
      "text/plain": [
       "                     idUtle\n",
       "centroMedico               \n",
       "H. CALDERON GUARDIA   21518\n",
       "H. SAN JUAN DE DIOS   19819\n",
       "H. MEXICO             11098\n",
       "H. NIÑOS               5817\n",
       "CENARE                 2545\n",
       "CARIT                  2402\n",
       "OFTALMOLOGICA          1156\n",
       "BLANCO CERVANTES        968"
      ]
     },
     "execution_count": 55,
     "metadata": {},
     "output_type": "execute_result"
    }
   ],
   "source": [
    "gf8 = in_region1.groupby(['centroMedico']).count()\n",
    "gf8 = gf8.iloc[:,:1]\n",
    "tempGF8 = gf8.sort_values('idUtle',ascending=False)\n",
    "tempGF8"
   ]
  },
  {
   "cell_type": "code",
   "execution_count": 56,
   "id": "778951ec",
   "metadata": {},
   "outputs": [
    {
     "data": {
      "image/png": "[encoded data removed]",
      "text/plain": [
       "<Figure size 720x360 with 1 Axes>"
      ]
     },
     "metadata": {
      "needs_background": "light"
     },
     "output_type": "display_data"
    }
   ],
   "source": [
    "eje_x = tempGF8.index.tolist()\n",
    "eje_y = tempGF8['idUtle'].tolist()\n",
    "\n",
    "plt.figure(figsize=(10,5))\n",
    "##Creamos la Grafica\n",
    "bar_colors = ['#ff7195']\n",
    "plt.barh(eje_x, eje_y,color=bar_colors)\n",
    "         \n",
    "\n",
    "##Leyenda en el eje y\n",
    "plt.ylabel('Centro Médico')\n",
    "\n",
    "##Leyenda en el eje x\n",
    "plt.xlabel(\"Cantidad de personas\")\n",
    "\n",
    "##Titulo del Grafico\n",
    "plt.title(\"Cantidad de Personas según Centro Médico\")\n",
    "\n",
    "plt.show()"
   ]
  },
  {
   "cell_type": "markdown",
   "id": "30504b27",
   "metadata": {},
   "source": [
    "<h4 style=\"color: #b14f7f\">4.2.3 Plazo Promedio de Espera según Hospital</h4>\n",
    "\n",
    "<p>Se generan los plazos promedio de espera, según hospital con el propósito de conocer por plazos promedios de espera donde podríamos orientar los recursos de la región para impactar en los plazos de espera globales</p>"
   ]
  },
  {
   "cell_type": "code",
   "execution_count": 57,
   "id": "b1ba76de",
   "metadata": {},
   "outputs": [
    {
     "name": "stdout",
     "output_type": "stream",
     "text": [
      "Empty DataFrame\n",
      "Columns: [Unidad, PlazoPromedio]\n",
      "Index: []\n"
     ]
    }
   ],
   "source": [
    "dfPlazosGAM = pd.DataFrame()\n",
    "dfPlazosGAM['Unidad'] = None\n",
    "dfPlazosGAM['PlazoPromedio'] = None\n",
    "print(dfPlazosGAM)"
   ]
  },
  {
   "cell_type": "code",
   "execution_count": 58,
   "id": "bf9e8858",
   "metadata": {},
   "outputs": [
    {
     "name": "stdout",
     "output_type": "stream",
     "text": [
      "Promedio del Plazo de Espera 2101:  573.375360163584\n"
     ]
    }
   ],
   "source": [
    "in_2101 = in_region1['up'] == 2101\n",
    "in_2101 = in_region1[in_2101]\n",
    "avg_plazo_2101 = in_2101[\"plazoEspera\"].astype(\"float\").mean(axis=0)\n",
    "print (\"Promedio del Plazo de Espera 2101: \", avg_plazo_2101)"
   ]
  },
  {
   "cell_type": "code",
   "execution_count": 59,
   "id": "42c737d1",
   "metadata": {},
   "outputs": [
    {
     "name": "stdout",
     "output_type": "stream",
     "text": [
      "Promedio del Plazo de Espera 2102:  547.1481406730915\n"
     ]
    }
   ],
   "source": [
    "in_2102 = in_region1['up'] == 2102\n",
    "in_2102 = in_region1[in_2102]\n",
    "avg_plazo_2102 = in_2102[\"plazoEspera\"].astype(\"float\").mean(axis=0)\n",
    "print (\"Promedio del Plazo de Espera 2102: \", avg_plazo_2102)"
   ]
  },
  {
   "cell_type": "code",
   "execution_count": 60,
   "id": "1e38374c",
   "metadata": {},
   "outputs": [
    {
     "name": "stdout",
     "output_type": "stream",
     "text": [
      "Promedio del Plazo de Espera 2104:  533.6062353577221\n"
     ]
    }
   ],
   "source": [
    "in_2104 = in_region1['up'] == 2104\n",
    "in_2104 = in_region1[in_2104]\n",
    "avg_plazo_2104 = in_2104[\"plazoEspera\"].astype(\"float\").mean(axis=0)\n",
    "print (\"Promedio del Plazo de Espera 2104: \", avg_plazo_2104)"
   ]
  },
  {
   "cell_type": "code",
   "execution_count": 61,
   "id": "9b206ff0",
   "metadata": {},
   "outputs": [
    {
     "name": "stdout",
     "output_type": "stream",
     "text": [
      "Promedio del Plazo de Espera 2103:  514.4926938284339\n"
     ]
    }
   ],
   "source": [
    "in_2103 = in_region1['up'] == 2103\n",
    "in_2103 = in_region1[in_2103]\n",
    "avg_plazo_2103 = in_2103[\"plazoEspera\"].astype(\"float\").mean(axis=0)\n",
    "print (\"Promedio del Plazo de Espera 2103: \", avg_plazo_2103)"
   ]
  },
  {
   "cell_type": "code",
   "execution_count": 62,
   "id": "09b0e8d7",
   "metadata": {},
   "outputs": [
    {
     "name": "stdout",
     "output_type": "stream",
     "text": [
      "Promedio del Plazo de Espera 2203:  979.5854616895874\n"
     ]
    }
   ],
   "source": [
    "in_2203 = in_region1['up'] == 2203\n",
    "in_2203 = in_region1[in_2203]\n",
    "avg_plazo_2203 = in_2203[\"plazoEspera\"].astype(\"float\").mean(axis=0)\n",
    "print (\"Promedio del Plazo de Espera 2203: \", avg_plazo_2203)"
   ]
  },
  {
   "cell_type": "code",
   "execution_count": 63,
   "id": "7fab2e4f",
   "metadata": {},
   "outputs": [
    {
     "name": "stdout",
     "output_type": "stream",
     "text": [
      "Promedio del Plazo de Espera 2105:  342.0512073272273\n"
     ]
    }
   ],
   "source": [
    "in_2105 = in_region1['up'] == 2105\n",
    "in_2105 = in_region1[in_2105]\n",
    "avg_plazo_2105 = in_2105[\"plazoEspera\"].astype(\"float\").mean(axis=0)\n",
    "print (\"Promedio del Plazo de Espera 2105: \", avg_plazo_2105)"
   ]
  },
  {
   "cell_type": "code",
   "execution_count": 64,
   "id": "9487abf6",
   "metadata": {},
   "outputs": [
    {
     "name": "stdout",
     "output_type": "stream",
     "text": [
      "Promedio del Plazo de Espera 2802:  137.32698961937717\n"
     ]
    }
   ],
   "source": [
    "in_2802 = in_region1['up'] == 2802\n",
    "in_2802 = in_region1[in_2802]\n",
    "avg_plazo_2802 = in_2802[\"plazoEspera\"].astype(\"float\").mean(axis=0)\n",
    "print (\"Promedio del Plazo de Espera 2802: \", avg_plazo_2802)"
   ]
  },
  {
   "cell_type": "code",
   "execution_count": 65,
   "id": "96a94779",
   "metadata": {},
   "outputs": [
    {
     "name": "stdout",
     "output_type": "stream",
     "text": [
      "Promedio del Plazo de Espera 2202:  304.6570247933884\n"
     ]
    }
   ],
   "source": [
    "in_2202 = in_region1['up'] == 2202\n",
    "in_2202 = in_region1[in_2202]\n",
    "avg_plazo_2202 = in_2202[\"plazoEspera\"].astype(\"float\").mean(axis=0)\n",
    "print (\"Promedio del Plazo de Espera 2202: \", avg_plazo_2202)"
   ]
  },
  {
   "cell_type": "code",
   "execution_count": 66,
   "id": "d0d125c9",
   "metadata": {},
   "outputs": [
    {
     "data": {
      "text/html": [
       "<div>\n",
       "<style scoped>\n",
       "    .dataframe tbody tr th:only-of-type {\n",
       "        vertical-align: middle;\n",
       "    }\n",
       "\n",
       "    .dataframe tbody tr th {\n",
       "        vertical-align: top;\n",
       "    }\n",
       "\n",
       "    .dataframe thead th {\n",
       "        text-align: right;\n",
       "    }\n",
       "</style>\n",
       "<table border=\"1\" class=\"dataframe\">\n",
       "  <thead>\n",
       "    <tr style=\"text-align: right;\">\n",
       "      <th></th>\n",
       "      <th>Unidad</th>\n",
       "      <th>PlazoPromedio</th>\n",
       "    </tr>\n",
       "  </thead>\n",
       "  <tbody>\n",
       "    <tr>\n",
       "      <th>0</th>\n",
       "      <td>H.CALDERON GUARDIA</td>\n",
       "      <td>573.375360</td>\n",
       "    </tr>\n",
       "    <tr>\n",
       "      <th>1</th>\n",
       "      <td>SAN JUAN DE DIOS</td>\n",
       "      <td>547.148141</td>\n",
       "    </tr>\n",
       "    <tr>\n",
       "      <th>2</th>\n",
       "      <td>H. MEXICO</td>\n",
       "      <td>533.606235</td>\n",
       "    </tr>\n",
       "    <tr>\n",
       "      <th>3</th>\n",
       "      <td>H. NIÑOS</td>\n",
       "      <td>514.492694</td>\n",
       "    </tr>\n",
       "    <tr>\n",
       "      <th>4</th>\n",
       "      <td>CENARE</td>\n",
       "      <td>979.585462</td>\n",
       "    </tr>\n",
       "    <tr>\n",
       "      <th>5</th>\n",
       "      <td>H. CARIT</td>\n",
       "      <td>342.051207</td>\n",
       "    </tr>\n",
       "    <tr>\n",
       "      <th>6</th>\n",
       "      <td>OFTALMOLOGICA</td>\n",
       "      <td>137.326990</td>\n",
       "    </tr>\n",
       "    <tr>\n",
       "      <th>7</th>\n",
       "      <td>H. BLANCO CERVANTES</td>\n",
       "      <td>304.657025</td>\n",
       "    </tr>\n",
       "  </tbody>\n",
       "</table>\n",
       "</div>"
      ],
      "text/plain": [
       "                Unidad  PlazoPromedio\n",
       "0   H.CALDERON GUARDIA     573.375360\n",
       "1     SAN JUAN DE DIOS     547.148141\n",
       "2            H. MEXICO     533.606235\n",
       "3             H. NIÑOS     514.492694\n",
       "4               CENARE     979.585462\n",
       "5             H. CARIT     342.051207\n",
       "6        OFTALMOLOGICA     137.326990\n",
       "7  H. BLANCO CERVANTES     304.657025"
      ]
     },
     "execution_count": 66,
     "metadata": {},
     "output_type": "execute_result"
    }
   ],
   "source": [
    "up = ['H.CALDERON GUARDIA', 'SAN JUAN DE DIOS', 'H. MEXICO', 'H. NIÑOS', 'CENARE', 'H. CARIT', 'OFTALMOLOGICA', 'H. BLANCO CERVANTES']\n",
    "plazo = [avg_plazo_2101, avg_plazo_2102,avg_plazo_2104,avg_plazo_2103, avg_plazo_2203, avg_plazo_2105, avg_plazo_2802,avg_plazo_2202]\n",
    "\n",
    "dfPlazosGAM['Unidad'] = up\n",
    "dfPlazosGAM['PlazoPromedio'] = plazo\n",
    "\n",
    "dfPlazosGAM"
   ]
  },
  {
   "cell_type": "code",
   "execution_count": 67,
   "id": "4c46b3e7",
   "metadata": {},
   "outputs": [
    {
     "data": {
      "image/png": "[encoded data removed]",
      "text/plain": [
       "<Figure size 1440x360 with 1 Axes>"
      ]
     },
     "metadata": {
      "needs_background": "light"
     },
     "output_type": "display_data"
    }
   ],
   "source": [
    "eje_x = dfPlazosGAM['Unidad'].tolist()\n",
    "eje_y = dfPlazosGAM['PlazoPromedio'].tolist()\n",
    "\n",
    "plt.figure(figsize=(20,5))\n",
    "##Creamos la Grafica\n",
    "bar_colors = ['#ff7195']\n",
    "plt.bar(eje_x, eje_y, color = bar_colors)\n",
    "\n",
    "##Leyenda en el eje y\n",
    "plt.ylabel('Plazo Promedio Espera')\n",
    "\n",
    "##Leyenda en el eje x\n",
    "plt.xlabel(\"Centro Médico\")\n",
    "\n",
    "##Titulo del Grafico\n",
    "plt.title(\"Plazo promedio de espera por Hospital\")\n",
    "\n",
    "plt.show()"
   ]
  },
  {
   "cell_type": "markdown",
   "id": "c3e555dd",
   "metadata": {},
   "source": [
    "<h4 style=\"color: #b14f7f\">4.2.4 Diagnosticos que conforman la Lista de Espera del Cenare</h4>\n",
    "\n",
    "<p>Se optiene el top 10 de los diagnosticos que conforman la lista de espera del CENARE, con el proposito de conocer la posibilidad de establer acciones concretas en ese centro asistencial para disminuir el plazo promedio de espera</p>"
   ]
  },
  {
   "cell_type": "code",
   "execution_count": 68,
   "id": "d052b42b",
   "metadata": {},
   "outputs": [
    {
     "data": {
      "text/html": [
       "<div>\n",
       "<style scoped>\n",
       "    .dataframe tbody tr th:only-of-type {\n",
       "        vertical-align: middle;\n",
       "    }\n",
       "\n",
       "    .dataframe tbody tr th {\n",
       "        vertical-align: top;\n",
       "    }\n",
       "\n",
       "    .dataframe thead th {\n",
       "        text-align: right;\n",
       "    }\n",
       "</style>\n",
       "<table border=\"1\" class=\"dataframe\">\n",
       "  <thead>\n",
       "    <tr style=\"text-align: right;\">\n",
       "      <th></th>\n",
       "      <th>idUtle</th>\n",
       "    </tr>\n",
       "    <tr>\n",
       "      <th>dscDiagnostico</th>\n",
       "      <th></th>\n",
       "    </tr>\n",
       "  </thead>\n",
       "  <tbody>\n",
       "    <tr>\n",
       "      <th>Caries dental, no especificada</th>\n",
       "      <td>483</td>\n",
       "    </tr>\n",
       "    <tr>\n",
       "      <th>Gonartrosis, no especificada</th>\n",
       "      <td>345</td>\n",
       "    </tr>\n",
       "    <tr>\n",
       "      <th>Sindrome del t·nel carpiano</th>\n",
       "      <td>113</td>\n",
       "    </tr>\n",
       "    <tr>\n",
       "      <th>Coxartrosis, no especificada</th>\n",
       "      <td>108</td>\n",
       "    </tr>\n",
       "    <tr>\n",
       "      <th>Otros trastornos especificados de los discos intervertebrales</th>\n",
       "      <td>64</td>\n",
       "    </tr>\n",
       "    <tr>\n",
       "      <th>Dolor en articulacion</th>\n",
       "      <td>63</td>\n",
       "    </tr>\n",
       "    <tr>\n",
       "      <th>Lumbago no especificado</th>\n",
       "      <td>62</td>\n",
       "    </tr>\n",
       "    <tr>\n",
       "      <th>Depositos [acreciones] en los dientes</th>\n",
       "      <td>49</td>\n",
       "    </tr>\n",
       "    <tr>\n",
       "      <th>Deformidad en varo, no clasificada en otra parte</th>\n",
       "      <td>47</td>\n",
       "    </tr>\n",
       "    <tr>\n",
       "      <th>Otros desplazamientos especificados de disco intervertebral</th>\n",
       "      <td>46</td>\n",
       "    </tr>\n",
       "  </tbody>\n",
       "</table>\n",
       "</div>"
      ],
      "text/plain": [
       "                                                    idUtle\n",
       "dscDiagnostico                                            \n",
       "Caries dental, no especificada                         483\n",
       "Gonartrosis, no especificada                           345\n",
       "Sindrome del t·nel carpiano                            113\n",
       "Coxartrosis, no especificada                           108\n",
       "Otros trastornos especificados de los discos in...      64\n",
       "Dolor en articulacion                                   63\n",
       "Lumbago no especificado                                 62\n",
       "Depositos [acreciones] en los dientes                   49\n",
       "Deformidad en varo, no clasificada en otra parte        47\n",
       "Otros desplazamientos especificados de disco in...      46"
      ]
     },
     "execution_count": 68,
     "metadata": {},
     "output_type": "execute_result"
    }
   ],
   "source": [
    "gf10 = in_2203.groupby(['dscDiagnostico']).count()\n",
    "gf10 = gf10.iloc[:,:1]\n",
    "tempGF10 = gf10.sort_values('idUtle',ascending=False)\n",
    "top10DxCENARE = tempGF10.head(10)\n",
    "top10DxCENARE"
   ]
  },
  {
   "cell_type": "markdown",
   "id": "5f62491e",
   "metadata": {},
   "source": [
    "<h4 style=\"color: #371506\">4.2.5 Lista de Espera de la Region \"CENTRAL NORTE\"</h4>\n",
    "\n",
    "<p>Se realiza la agrupación de datos considerando únicamente los establecimientos médicos de la region central norte, de manera que se pueda comprender donde está la mayor concentración de casos para los establecimientos</p>\n",
    "</br>\n",
    "<img src=\"DRIPSCN.png\">"
   ]
  },
  {
   "cell_type": "code",
   "execution_count": 69,
   "id": "c017bbef",
   "metadata": {},
   "outputs": [
    {
     "data": {
      "text/plain": [
       "(35854, 24)"
      ]
     },
     "execution_count": 69,
     "metadata": {},
     "output_type": "execute_result"
    }
   ],
   "source": [
    "in_region2 = dfPendientes['region'] == 'CENTRAL NORTE'\n",
    "in_region2 = dfPendientes[in_region2]\n",
    "in_region2.shape"
   ]
  },
  {
   "cell_type": "code",
   "execution_count": 70,
   "id": "0ca181a2",
   "metadata": {},
   "outputs": [
    {
     "data": {
      "text/html": [
       "<div>\n",
       "<style scoped>\n",
       "    .dataframe tbody tr th:only-of-type {\n",
       "        vertical-align: middle;\n",
       "    }\n",
       "\n",
       "    .dataframe tbody tr th {\n",
       "        vertical-align: top;\n",
       "    }\n",
       "\n",
       "    .dataframe thead th {\n",
       "        text-align: right;\n",
       "    }\n",
       "</style>\n",
       "<table border=\"1\" class=\"dataframe\">\n",
       "  <thead>\n",
       "    <tr style=\"text-align: right;\">\n",
       "      <th></th>\n",
       "      <th>idUtle</th>\n",
       "    </tr>\n",
       "    <tr>\n",
       "      <th>dscDiagnostico</th>\n",
       "      <th></th>\n",
       "    </tr>\n",
       "  </thead>\n",
       "  <tbody>\n",
       "    <tr>\n",
       "      <th>Calculo de la vesicula biliar sin colecistitis</th>\n",
       "      <td>2603</td>\n",
       "    </tr>\n",
       "    <tr>\n",
       "      <th>Catarata senil nuclear</th>\n",
       "      <td>2327</td>\n",
       "    </tr>\n",
       "    <tr>\n",
       "      <th>Hernia inguinal unilateral o no especificada, sin obstruccion ni gangrena</th>\n",
       "      <td>1964</td>\n",
       "    </tr>\n",
       "    <tr>\n",
       "      <th>Esterilización</th>\n",
       "      <td>1852</td>\n",
       "    </tr>\n",
       "    <tr>\n",
       "      <th>Venas varicosas de los miembros inferiores sin ·lcera ni inflamacion</th>\n",
       "      <td>1415</td>\n",
       "    </tr>\n",
       "    <tr>\n",
       "      <th>Hiperplasia de la prostata</th>\n",
       "      <td>1245</td>\n",
       "    </tr>\n",
       "    <tr>\n",
       "      <th>Hernia umbilical sin obstruccion ni gangrena</th>\n",
       "      <td>1200</td>\n",
       "    </tr>\n",
       "    <tr>\n",
       "      <th>Catarata, no especificada</th>\n",
       "      <td>1153</td>\n",
       "    </tr>\n",
       "    <tr>\n",
       "      <th>Insuficiencia venosa (cronica) (periferica)</th>\n",
       "      <td>1108</td>\n",
       "    </tr>\n",
       "    <tr>\n",
       "      <th>Desviacion del tabique nasal</th>\n",
       "      <td>781</td>\n",
       "    </tr>\n",
       "  </tbody>\n",
       "</table>\n",
       "</div>"
      ],
      "text/plain": [
       "                                                    idUtle\n",
       "dscDiagnostico                                            \n",
       "Calculo de la vesicula biliar sin colecistitis        2603\n",
       "Catarata senil nuclear                                2327\n",
       "Hernia inguinal unilateral o no especificada, s...    1964\n",
       "Esterilización                                        1852\n",
       "Venas varicosas de los miembros inferiores sin ...    1415\n",
       "Hiperplasia de la prostata                            1245\n",
       "Hernia umbilical sin obstruccion ni gangrena          1200\n",
       "Catarata, no especificada                             1153\n",
       "Insuficiencia venosa (cronica) (periferica)           1108\n",
       "Desviacion del tabique nasal                           781"
      ]
     },
     "execution_count": 70,
     "metadata": {},
     "output_type": "execute_result"
    }
   ],
   "source": [
    "gf11 = in_region2.groupby(['dscDiagnostico']).count()\n",
    "gf11 = gf11.iloc[:,:1]\n",
    "tempGF11 = gf11.sort_values('idUtle',ascending=False)\n",
    "top10DxCN = tempGF11.head(10)\n",
    "top10DxCN"
   ]
  },
  {
   "cell_type": "markdown",
   "id": "5df817ba",
   "metadata": {},
   "source": [
    "<h4 style=\"color: #371506\">4.2.6 Concentración de la Lista de Espera según Hospital</h4>\n",
    "\n",
    "<p>Se obtiene la distribución de la lista de espera por hospital, con el propósito de conocer en cual establecimiento se concentra la mayor cantidad de listas de espera quirurgica</p>"
   ]
  },
  {
   "cell_type": "code",
   "execution_count": 71,
   "id": "2fee7340",
   "metadata": {},
   "outputs": [
    {
     "data": {
      "text/html": [
       "<div>\n",
       "<style scoped>\n",
       "    .dataframe tbody tr th:only-of-type {\n",
       "        vertical-align: middle;\n",
       "    }\n",
       "\n",
       "    .dataframe tbody tr th {\n",
       "        vertical-align: top;\n",
       "    }\n",
       "\n",
       "    .dataframe thead th {\n",
       "        text-align: right;\n",
       "    }\n",
       "</style>\n",
       "<table border=\"1\" class=\"dataframe\">\n",
       "  <thead>\n",
       "    <tr style=\"text-align: right;\">\n",
       "      <th></th>\n",
       "      <th>idUtle</th>\n",
       "    </tr>\n",
       "    <tr>\n",
       "      <th>centroMedico</th>\n",
       "      <th></th>\n",
       "    </tr>\n",
       "  </thead>\n",
       "  <tbody>\n",
       "    <tr>\n",
       "      <th>H. SAN VICENTE PAUL</th>\n",
       "      <td>15831</td>\n",
       "    </tr>\n",
       "    <tr>\n",
       "      <th>H. SAN RAFAEL ALAJUELA</th>\n",
       "      <td>12099</td>\n",
       "    </tr>\n",
       "    <tr>\n",
       "      <th>H. SAN RAMON</th>\n",
       "      <td>5444</td>\n",
       "    </tr>\n",
       "    <tr>\n",
       "      <th>H. SAN FRANCISCO DE ASIS</th>\n",
       "      <td>2356</td>\n",
       "    </tr>\n",
       "    <tr>\n",
       "      <th>CL. CLORITO PICADO</th>\n",
       "      <td>124</td>\n",
       "    </tr>\n",
       "  </tbody>\n",
       "</table>\n",
       "</div>"
      ],
      "text/plain": [
       "                          idUtle\n",
       "centroMedico                    \n",
       "H. SAN VICENTE PAUL        15831\n",
       "H. SAN RAFAEL ALAJUELA     12099\n",
       "H. SAN RAMON                5444\n",
       "H. SAN FRANCISCO DE ASIS    2356\n",
       "CL. CLORITO PICADO           124"
      ]
     },
     "execution_count": 71,
     "metadata": {},
     "output_type": "execute_result"
    }
   ],
   "source": [
    "gf12 = in_region2.groupby(['centroMedico']).count()\n",
    "gf12 = gf12.iloc[:,:1]\n",
    "tempGF12 = gf12.sort_values('idUtle',ascending=False)\n",
    "tempGF12"
   ]
  },
  {
   "cell_type": "code",
   "execution_count": 72,
   "id": "fde26163",
   "metadata": {},
   "outputs": [
    {
     "data": {
      "image/png": "[encoded data removed]",
      "text/plain": [
       "<Figure size 720x360 with 1 Axes>"
      ]
     },
     "metadata": {
      "needs_background": "light"
     },
     "output_type": "display_data"
    }
   ],
   "source": [
    "eje_x = tempGF12.index.tolist()\n",
    "eje_y = tempGF12['idUtle'].tolist()\n",
    "\n",
    "plt.figure(figsize=(10,5))\n",
    "##Creamos la Grafica\n",
    "bar_colors = ['#7a7672']\n",
    "plt.barh(eje_x, eje_y,color=bar_colors)\n",
    "         \n",
    "\n",
    "##Leyenda en el eje y\n",
    "plt.ylabel('Centro Médico')\n",
    "\n",
    "##Leyenda en el eje x\n",
    "plt.xlabel(\"Cantidad de personas\")\n",
    "\n",
    "##Titulo del Grafico\n",
    "plt.title(\"Cantidad de Personas según Centro Médico\")\n",
    "\n",
    "plt.show()"
   ]
  },
  {
   "cell_type": "markdown",
   "id": "23d68bbe",
   "metadata": {},
   "source": [
    "<h4 style=\"color: #371506\">4.2.7 Plazo Promedio de Espera según Hospital</h4>\n",
    "\n",
    "<p>Se generan los plazos promedio de espera, según hospital con el propósito de conocer por plazos promedios de espera donde podríamos orientar los recursos de la región para impactar en los plazos de espera globales</p>"
   ]
  },
  {
   "cell_type": "code",
   "execution_count": 73,
   "id": "8a3d0b88",
   "metadata": {},
   "outputs": [
    {
     "name": "stdout",
     "output_type": "stream",
     "text": [
      "Empty DataFrame\n",
      "Columns: [Unidad, PlazoPromedio]\n",
      "Index: []\n"
     ]
    }
   ],
   "source": [
    "dfPlazosCN = pd.DataFrame()\n",
    "dfPlazosCN['Unidad'] = None\n",
    "dfPlazosCN['PlazoPromedio'] = None\n",
    "print(dfPlazosCN)"
   ]
  },
  {
   "cell_type": "code",
   "execution_count": 74,
   "id": "f3457997",
   "metadata": {},
   "outputs": [
    {
     "name": "stdout",
     "output_type": "stream",
     "text": [
      "Promedio del Plazo de Espera 2208:  627.7182111047944\n"
     ]
    }
   ],
   "source": [
    "in_2208 = in_region2['up'] == 2208\n",
    "in_2208 = in_region2[in_2208]\n",
    "avg_plazo_2208 = in_2208[\"plazoEspera\"].astype(\"float\").mean(axis=0)\n",
    "print (\"Promedio del Plazo de Espera 2208: \", avg_plazo_2208)"
   ]
  },
  {
   "cell_type": "code",
   "execution_count": 75,
   "id": "376b1faa",
   "metadata": {},
   "outputs": [
    {
     "name": "stdout",
     "output_type": "stream",
     "text": [
      "Promedio del Plazo de Espera 2205:  679.0066121167039\n"
     ]
    }
   ],
   "source": [
    "in_2205 = in_region2['up'] == 2205\n",
    "in_2205 = in_region2[in_2205]\n",
    "avg_plazo_2205 = in_2205[\"plazoEspera\"].astype(\"float\").mean(axis=0)\n",
    "print (\"Promedio del Plazo de Espera 2205: \", avg_plazo_2205)"
   ]
  },
  {
   "cell_type": "code",
   "execution_count": 76,
   "id": "e0da46f1",
   "metadata": {},
   "outputs": [
    {
     "name": "stdout",
     "output_type": "stream",
     "text": [
      "Promedio del Plazo de Espera 2207:  402.3295371050698\n"
     ]
    }
   ],
   "source": [
    "in_2207 = in_region2['up'] == 2207\n",
    "in_2207 = in_region2[in_2207]\n",
    "avg_plazo_2207 = in_2207[\"plazoEspera\"].astype(\"float\").mean(axis=0)\n",
    "print (\"Promedio del Plazo de Espera 2207: \", avg_plazo_2207)"
   ]
  },
  {
   "cell_type": "code",
   "execution_count": 77,
   "id": "e8dd018a",
   "metadata": {},
   "outputs": [
    {
     "name": "stdout",
     "output_type": "stream",
     "text": [
      "Promedio del Plazo de Espera 2206:  579.5891341256366\n"
     ]
    }
   ],
   "source": [
    "in_2206 = in_region2['up'] == 2206\n",
    "in_2206 = in_region2[in_2206]\n",
    "avg_plazo_2206 = in_2206[\"plazoEspera\"].astype(\"float\").mean(axis=0)\n",
    "print (\"Promedio del Plazo de Espera 2206: \", avg_plazo_2206)"
   ]
  },
  {
   "cell_type": "code",
   "execution_count": 78,
   "id": "b67e4e69",
   "metadata": {},
   "outputs": [
    {
     "name": "stdout",
     "output_type": "stream",
     "text": [
      "Promedio del Plazo de Espera 2213:  82.05645161290323\n"
     ]
    }
   ],
   "source": [
    "in_2213 = in_region2['up'] == 2213\n",
    "in_2213 = in_region2[in_2213]\n",
    "avg_plazo_2213 = in_2213[\"plazoEspera\"].astype(\"float\").mean(axis=0)\n",
    "print (\"Promedio del Plazo de Espera 2213: \", avg_plazo_2213)"
   ]
  },
  {
   "cell_type": "code",
   "execution_count": 79,
   "id": "ed25f213",
   "metadata": {},
   "outputs": [
    {
     "data": {
      "text/html": [
       "<div>\n",
       "<style scoped>\n",
       "    .dataframe tbody tr th:only-of-type {\n",
       "        vertical-align: middle;\n",
       "    }\n",
       "\n",
       "    .dataframe tbody tr th {\n",
       "        vertical-align: top;\n",
       "    }\n",
       "\n",
       "    .dataframe thead th {\n",
       "        text-align: right;\n",
       "    }\n",
       "</style>\n",
       "<table border=\"1\" class=\"dataframe\">\n",
       "  <thead>\n",
       "    <tr style=\"text-align: right;\">\n",
       "      <th></th>\n",
       "      <th>Unidad</th>\n",
       "      <th>PlazoPromedio</th>\n",
       "    </tr>\n",
       "  </thead>\n",
       "  <tbody>\n",
       "    <tr>\n",
       "      <th>1</th>\n",
       "      <td>H. SAN RAFEL</td>\n",
       "      <td>679.006612</td>\n",
       "    </tr>\n",
       "    <tr>\n",
       "      <th>0</th>\n",
       "      <td>H.SAN VICENTE DE PAUL</td>\n",
       "      <td>627.718211</td>\n",
       "    </tr>\n",
       "    <tr>\n",
       "      <th>3</th>\n",
       "      <td>H. SAN FCO ASIS</td>\n",
       "      <td>579.589134</td>\n",
       "    </tr>\n",
       "    <tr>\n",
       "      <th>2</th>\n",
       "      <td>H. SAN RAMON</td>\n",
       "      <td>402.329537</td>\n",
       "    </tr>\n",
       "    <tr>\n",
       "      <th>4</th>\n",
       "      <td>CL. CLORITO PICADO</td>\n",
       "      <td>82.056452</td>\n",
       "    </tr>\n",
       "  </tbody>\n",
       "</table>\n",
       "</div>"
      ],
      "text/plain": [
       "                  Unidad  PlazoPromedio\n",
       "1           H. SAN RAFEL     679.006612\n",
       "0  H.SAN VICENTE DE PAUL     627.718211\n",
       "3        H. SAN FCO ASIS     579.589134\n",
       "2           H. SAN RAMON     402.329537\n",
       "4     CL. CLORITO PICADO      82.056452"
      ]
     },
     "execution_count": 79,
     "metadata": {},
     "output_type": "execute_result"
    }
   ],
   "source": [
    "up = ['H.SAN VICENTE DE PAUL', 'H. SAN RAFEL', 'H. SAN RAMON', 'H. SAN FCO ASIS', 'CL. CLORITO PICADO']\n",
    "plazo = [avg_plazo_2208, avg_plazo_2205,avg_plazo_2207,avg_plazo_2206, avg_plazo_2213]\n",
    "\n",
    "dfPlazosCN['Unidad'] = up\n",
    "dfPlazosCN['PlazoPromedio'] = plazo\n",
    "\n",
    "dfPlazosCN = dfPlazosCN.sort_values('PlazoPromedio',ascending=False)\n",
    "dfPlazosCN\n",
    "\n"
   ]
  },
  {
   "cell_type": "code",
   "execution_count": 80,
   "id": "00650d4e",
   "metadata": {},
   "outputs": [
    {
     "data": {
      "image/png": "[encoded data removed]",
      "text/plain": [
       "<Figure size 720x360 with 1 Axes>"
      ]
     },
     "metadata": {
      "needs_background": "light"
     },
     "output_type": "display_data"
    }
   ],
   "source": [
    "eje_x = dfPlazosCN['Unidad'].tolist()\n",
    "eje_y = dfPlazosCN['PlazoPromedio'].tolist()\n",
    "\n",
    "plt.figure(figsize=(10,5))\n",
    "##Creamos la Grafica\n",
    "bar_colors = ['#7a7672']\n",
    "plt.barh(eje_x, eje_y,color=bar_colors)\n",
    "         \n",
    "\n",
    "##Leyenda en el eje y\n",
    "plt.ylabel('Centro Médico')\n",
    "\n",
    "##Leyenda en el eje x\n",
    "plt.xlabel(\"Cantidad de personas\")\n",
    "\n",
    "##Titulo del Grafico\n",
    "plt.title(\"Cantidad de Personas según Centro Médico\")\n",
    "\n",
    "plt.show()"
   ]
  },
  {
   "cell_type": "markdown",
   "id": "67585684",
   "metadata": {},
   "source": [
    "<h4 style=\"color: #371506\">4.2.8 Diagnósticos que conforman la Lista de Espera del H. San Rafael</h4>\n",
    "\n",
    "<p>Se optiene el top 10 de los diagnosticos que conforman la lista de espera del SAN RAFAEL, con el proposito de conocer la posibilidad de establer acciones concretas en ese centro asistencial para disminuir el plazo promedio de espera</p>"
   ]
  },
  {
   "cell_type": "code",
   "execution_count": 81,
   "id": "574a40b3",
   "metadata": {},
   "outputs": [
    {
     "data": {
      "text/html": [
       "<div>\n",
       "<style scoped>\n",
       "    .dataframe tbody tr th:only-of-type {\n",
       "        vertical-align: middle;\n",
       "    }\n",
       "\n",
       "    .dataframe tbody tr th {\n",
       "        vertical-align: top;\n",
       "    }\n",
       "\n",
       "    .dataframe thead th {\n",
       "        text-align: right;\n",
       "    }\n",
       "</style>\n",
       "<table border=\"1\" class=\"dataframe\">\n",
       "  <thead>\n",
       "    <tr style=\"text-align: right;\">\n",
       "      <th></th>\n",
       "      <th>idUtle</th>\n",
       "    </tr>\n",
       "    <tr>\n",
       "      <th>dscDiagnostico</th>\n",
       "      <th></th>\n",
       "    </tr>\n",
       "  </thead>\n",
       "  <tbody>\n",
       "    <tr>\n",
       "      <th>Hipertrofia de las amigdalas con hipertrofia de las adenoides</th>\n",
       "      <td>367</td>\n",
       "    </tr>\n",
       "    <tr>\n",
       "      <th>Calculo de la vesicula biliar sin colecistitis</th>\n",
       "      <td>249</td>\n",
       "    </tr>\n",
       "    <tr>\n",
       "      <th>Desviacion del tabique nasal</th>\n",
       "      <td>204</td>\n",
       "    </tr>\n",
       "    <tr>\n",
       "      <th>Hernia inguinal unilateral o no especificada, sin obstruccion ni gangrena</th>\n",
       "      <td>195</td>\n",
       "    </tr>\n",
       "    <tr>\n",
       "      <th>Hernia umbilical sin obstruccion ni gangrena</th>\n",
       "      <td>115</td>\n",
       "    </tr>\n",
       "    <tr>\n",
       "      <th>Hipertrofia de los cornetes nasales</th>\n",
       "      <td>110</td>\n",
       "    </tr>\n",
       "    <tr>\n",
       "      <th>Rinitis cronica</th>\n",
       "      <td>97</td>\n",
       "    </tr>\n",
       "    <tr>\n",
       "      <th>Amigdalitis cronica</th>\n",
       "      <td>71</td>\n",
       "    </tr>\n",
       "    <tr>\n",
       "      <th>Hipertrofia de las amigdalas</th>\n",
       "      <td>49</td>\n",
       "    </tr>\n",
       "    <tr>\n",
       "      <th>HERNIA INCISIONAL SIN OBSTRUCCIÓN O GANGRENA</th>\n",
       "      <td>47</td>\n",
       "    </tr>\n",
       "  </tbody>\n",
       "</table>\n",
       "</div>"
      ],
      "text/plain": [
       "                                                    idUtle\n",
       "dscDiagnostico                                            \n",
       "Hipertrofia de las amigdalas con hipertrofia de...     367\n",
       "Calculo de la vesicula biliar sin colecistitis         249\n",
       "Desviacion del tabique nasal                           204\n",
       "Hernia inguinal unilateral o no especificada, s...     195\n",
       "Hernia umbilical sin obstruccion ni gangrena           115\n",
       "Hipertrofia de los cornetes nasales                    110\n",
       "Rinitis cronica                                         97\n",
       "Amigdalitis cronica                                     71\n",
       "Hipertrofia de las amigdalas                            49\n",
       "HERNIA INCISIONAL SIN OBSTRUCCIÓN O GANGRENA            47"
      ]
     },
     "execution_count": 81,
     "metadata": {},
     "output_type": "execute_result"
    }
   ],
   "source": [
    "gf13 = in_2206.groupby(['dscDiagnostico']).count()\n",
    "gf13 = gf13.iloc[:,:1]\n",
    "tempGF10 = gf13.sort_values('idUtle',ascending=False)\n",
    "top10DxSR = tempGF10.head(10)\n",
    "top10DxSR"
   ]
  },
  {
   "cell_type": "markdown",
   "id": "e8e1ca52",
   "metadata": {},
   "source": [
    "<h4 style=\"color:#122d75\">4.2.9 Lista de Espera de la Region \"CENTRAL SUR\"</h4>\n",
    "\n",
    "<p>Se realiza la agrupación de datos considerando únicamente los establecimientos médicos de la region central sur, de manera que se pueda comprender donde está la mayor concentración de casos para los establecimientos</p>\n",
    "</br>\n",
    "<img src=\"DRIPSCS.png\">"
   ]
  },
  {
   "cell_type": "code",
   "execution_count": 82,
   "id": "92914450",
   "metadata": {},
   "outputs": [
    {
     "data": {
      "text/plain": [
       "(19863, 24)"
      ]
     },
     "execution_count": 82,
     "metadata": {},
     "output_type": "execute_result"
    }
   ],
   "source": [
    "in_region3 = dfPendientes['region'] == 'CENTRAL SUR'\n",
    "in_region3 = dfPendientes[in_region3]\n",
    "in_region3.shape"
   ]
  },
  {
   "cell_type": "code",
   "execution_count": 83,
   "id": "6496d475",
   "metadata": {},
   "outputs": [
    {
     "data": {
      "text/html": [
       "<div>\n",
       "<style scoped>\n",
       "    .dataframe tbody tr th:only-of-type {\n",
       "        vertical-align: middle;\n",
       "    }\n",
       "\n",
       "    .dataframe tbody tr th {\n",
       "        vertical-align: top;\n",
       "    }\n",
       "\n",
       "    .dataframe thead th {\n",
       "        text-align: right;\n",
       "    }\n",
       "</style>\n",
       "<table border=\"1\" class=\"dataframe\">\n",
       "  <thead>\n",
       "    <tr style=\"text-align: right;\">\n",
       "      <th></th>\n",
       "      <th>idUtle</th>\n",
       "    </tr>\n",
       "    <tr>\n",
       "      <th>dscDiagnostico</th>\n",
       "      <th></th>\n",
       "    </tr>\n",
       "  </thead>\n",
       "  <tbody>\n",
       "    <tr>\n",
       "      <th>Pterigion</th>\n",
       "      <td>1502</td>\n",
       "    </tr>\n",
       "    <tr>\n",
       "      <th>Esterilización</th>\n",
       "      <td>1483</td>\n",
       "    </tr>\n",
       "    <tr>\n",
       "      <th>Catarata senil nuclear</th>\n",
       "      <td>1089</td>\n",
       "    </tr>\n",
       "    <tr>\n",
       "      <th>Catarata, no especificada</th>\n",
       "      <td>1087</td>\n",
       "    </tr>\n",
       "    <tr>\n",
       "      <th>Calculo de la vesicula biliar sin colecistitis</th>\n",
       "      <td>813</td>\n",
       "    </tr>\n",
       "    <tr>\n",
       "      <th>Hernia inguinal unilateral o no especificada, sin obstruccion ni gangrena</th>\n",
       "      <td>603</td>\n",
       "    </tr>\n",
       "    <tr>\n",
       "      <th>Sindrome del t·nel carpiano</th>\n",
       "      <td>540</td>\n",
       "    </tr>\n",
       "    <tr>\n",
       "      <th>Desviacion del tabique nasal</th>\n",
       "      <td>510</td>\n",
       "    </tr>\n",
       "    <tr>\n",
       "      <th>Insuficiencia venosa (cronica) (periferica)</th>\n",
       "      <td>378</td>\n",
       "    </tr>\n",
       "    <tr>\n",
       "      <th>Hernia umbilical sin obstruccion ni gangrena</th>\n",
       "      <td>372</td>\n",
       "    </tr>\n",
       "  </tbody>\n",
       "</table>\n",
       "</div>"
      ],
      "text/plain": [
       "                                                    idUtle\n",
       "dscDiagnostico                                            \n",
       "Pterigion                                             1502\n",
       "Esterilización                                        1483\n",
       "Catarata senil nuclear                                1089\n",
       "Catarata, no especificada                             1087\n",
       "Calculo de la vesicula biliar sin colecistitis         813\n",
       "Hernia inguinal unilateral o no especificada, s...     603\n",
       "Sindrome del t·nel carpiano                            540\n",
       "Desviacion del tabique nasal                           510\n",
       "Insuficiencia venosa (cronica) (periferica)            378\n",
       "Hernia umbilical sin obstruccion ni gangrena           372"
      ]
     },
     "execution_count": 83,
     "metadata": {},
     "output_type": "execute_result"
    }
   ],
   "source": [
    "gfcs01 = in_region3.groupby(['dscDiagnostico']).count()\n",
    "gfcs01 = gfcs01.iloc[:,:1]\n",
    "tempGF12 = gfcs01.sort_values('idUtle',ascending=False)\n",
    "top10DxCS = tempGF12.head(10)\n",
    "top10DxCS"
   ]
  },
  {
   "cell_type": "markdown",
   "id": "a0b18574",
   "metadata": {},
   "source": [
    "<h4 style=\"color: #122d75\">4.2.10 Concentración de la Lista de Espera según Hospital</h4>\n",
    "\n",
    "<p>Se obtiene la distribución de la lista de espera por hospital, con el propósito de conocer en cual establecimiento se concentra la mayor cantidad de listas de espera quirurgica</p>"
   ]
  },
  {
   "cell_type": "code",
   "execution_count": 84,
   "id": "afb53aa4",
   "metadata": {},
   "outputs": [
    {
     "data": {
      "text/html": [
       "<div>\n",
       "<style scoped>\n",
       "    .dataframe tbody tr th:only-of-type {\n",
       "        vertical-align: middle;\n",
       "    }\n",
       "\n",
       "    .dataframe tbody tr th {\n",
       "        vertical-align: top;\n",
       "    }\n",
       "\n",
       "    .dataframe thead th {\n",
       "        text-align: right;\n",
       "    }\n",
       "</style>\n",
       "<table border=\"1\" class=\"dataframe\">\n",
       "  <thead>\n",
       "    <tr style=\"text-align: right;\">\n",
       "      <th></th>\n",
       "      <th>idUtle</th>\n",
       "      <th>up</th>\n",
       "    </tr>\n",
       "    <tr>\n",
       "      <th>centroMedico</th>\n",
       "      <th></th>\n",
       "      <th></th>\n",
       "    </tr>\n",
       "  </thead>\n",
       "  <tbody>\n",
       "    <tr>\n",
       "      <th>H. MAX PERALTA</th>\n",
       "      <td>16220</td>\n",
       "      <td>16220</td>\n",
       "    </tr>\n",
       "    <tr>\n",
       "      <th>H. WILLIAN ALLEN</th>\n",
       "      <td>1382</td>\n",
       "      <td>1382</td>\n",
       "    </tr>\n",
       "    <tr>\n",
       "      <th>CL. MORENO CAÑAS</th>\n",
       "      <td>1061</td>\n",
       "      <td>1061</td>\n",
       "    </tr>\n",
       "    <tr>\n",
       "      <th>CL. MARCIAL FALLAS</th>\n",
       "      <td>552</td>\n",
       "      <td>552</td>\n",
       "    </tr>\n",
       "    <tr>\n",
       "      <th>CL. SOLON NUÑEZ</th>\n",
       "      <td>0</td>\n",
       "      <td>429</td>\n",
       "    </tr>\n",
       "    <tr>\n",
       "      <th>CL. CARLOS DURAN</th>\n",
       "      <td>135</td>\n",
       "      <td>135</td>\n",
       "    </tr>\n",
       "    <tr>\n",
       "      <th>CAIS PURISCAL</th>\n",
       "      <td>71</td>\n",
       "      <td>71</td>\n",
       "    </tr>\n",
       "    <tr>\n",
       "      <th>A.S CARTAGO</th>\n",
       "      <td>0</td>\n",
       "      <td>13</td>\n",
       "    </tr>\n",
       "  </tbody>\n",
       "</table>\n",
       "</div>"
      ],
      "text/plain": [
       "                    idUtle     up\n",
       "centroMedico                     \n",
       "H. MAX PERALTA       16220  16220\n",
       "H. WILLIAN ALLEN      1382   1382\n",
       "CL. MORENO CAÑAS      1061   1061\n",
       "CL. MARCIAL FALLAS     552    552\n",
       "CL. SOLON NUÑEZ          0    429\n",
       "CL. CARLOS DURAN       135    135\n",
       "CAIS PURISCAL           71     71\n",
       "A.S CARTAGO              0     13"
      ]
     },
     "execution_count": 84,
     "metadata": {},
     "output_type": "execute_result"
    }
   ],
   "source": [
    "gfcs02 = in_region3.groupby(['centroMedico']).count() #centroMedico\n",
    "gfcs02 = gfcs02.iloc[:,:2]\n",
    "tempGFCS01 = gfcs02.sort_values('up',ascending=False)\n",
    "tempGFCS01"
   ]
  },
  {
   "cell_type": "code",
   "execution_count": 85,
   "id": "ffb8ca79",
   "metadata": {},
   "outputs": [
    {
     "data": {
      "image/png": "[encoded data removed]",
      "text/plain": [
       "<Figure size 720x360 with 1 Axes>"
      ]
     },
     "metadata": {
      "needs_background": "light"
     },
     "output_type": "display_data"
    }
   ],
   "source": [
    "eje_x = tempGFCS01.index.tolist()\n",
    "eje_y = tempGFCS01['up'].tolist()\n",
    "\n",
    "plt.figure(figsize=(10,5))\n",
    "##Creamos la Grafica\n",
    "bar_colors = ['#1a78b0']\n",
    "plt.barh(eje_x, eje_y,color=bar_colors)\n",
    "         \n",
    "\n",
    "##Leyenda en el eje y\n",
    "plt.ylabel('Centro Médico')\n",
    "\n",
    "##Leyenda en el eje x\n",
    "plt.xlabel(\"Cantidad de personas\")\n",
    "\n",
    "##Titulo del Grafico\n",
    "plt.title(\"Cantidad de Personas según Centro Médico\")\n",
    "\n",
    "plt.show()"
   ]
  },
  {
   "cell_type": "markdown",
   "id": "38622bef",
   "metadata": {},
   "source": [
    "<h4 style=\"color:  #122d75\">4.2.11 Plazo Promedio de Espera según Hospital</h4>\n",
    "\n",
    "<p>Se genera la estimación del plazo promedio de espera por establecimiento de salud, con el propósito de identificar en cual establecimiento se concentra la mayor cantidad de personas, con el mayor tiempo de espera por una operación</p>"
   ]
  },
  {
   "cell_type": "code",
   "execution_count": 86,
   "id": "71781b2a",
   "metadata": {},
   "outputs": [
    {
     "name": "stdout",
     "output_type": "stream",
     "text": [
      "Empty DataFrame\n",
      "Columns: [Unidad, PlazoPromedio]\n",
      "Index: []\n"
     ]
    }
   ],
   "source": [
    "dfPlazosCS = pd.DataFrame()\n",
    "dfPlazosCS['Unidad'] = None\n",
    "dfPlazosCS['PlazoPromedio'] = None\n",
    "print(dfPlazosCS)"
   ]
  },
  {
   "cell_type": "code",
   "execution_count": 87,
   "id": "f6036832",
   "metadata": {},
   "outputs": [
    {
     "data": {
      "text/html": [
       "<div>\n",
       "<style scoped>\n",
       "    .dataframe tbody tr th:only-of-type {\n",
       "        vertical-align: middle;\n",
       "    }\n",
       "\n",
       "    .dataframe tbody tr th {\n",
       "        vertical-align: top;\n",
       "    }\n",
       "\n",
       "    .dataframe thead th {\n",
       "        text-align: right;\n",
       "    }\n",
       "</style>\n",
       "<table border=\"1\" class=\"dataframe\">\n",
       "  <thead>\n",
       "    <tr style=\"text-align: right;\">\n",
       "      <th></th>\n",
       "      <th>idUtle</th>\n",
       "      <th>centroMedico</th>\n",
       "    </tr>\n",
       "    <tr>\n",
       "      <th>up</th>\n",
       "      <th></th>\n",
       "      <th></th>\n",
       "    </tr>\n",
       "  </thead>\n",
       "  <tbody>\n",
       "    <tr>\n",
       "      <th>2306</th>\n",
       "      <td>16220</td>\n",
       "      <td>16220</td>\n",
       "    </tr>\n",
       "    <tr>\n",
       "      <th>2307</th>\n",
       "      <td>1382</td>\n",
       "      <td>1382</td>\n",
       "    </tr>\n",
       "    <tr>\n",
       "      <th>2311</th>\n",
       "      <td>1061</td>\n",
       "      <td>1061</td>\n",
       "    </tr>\n",
       "    <tr>\n",
       "      <th>2315</th>\n",
       "      <td>552</td>\n",
       "      <td>552</td>\n",
       "    </tr>\n",
       "    <tr>\n",
       "      <th>2314</th>\n",
       "      <td>135</td>\n",
       "      <td>135</td>\n",
       "    </tr>\n",
       "    <tr>\n",
       "      <th>2331</th>\n",
       "      <td>71</td>\n",
       "      <td>71</td>\n",
       "    </tr>\n",
       "    <tr>\n",
       "      <th>2312</th>\n",
       "      <td>0</td>\n",
       "      <td>429</td>\n",
       "    </tr>\n",
       "    <tr>\n",
       "      <th>2342</th>\n",
       "      <td>0</td>\n",
       "      <td>13</td>\n",
       "    </tr>\n",
       "  </tbody>\n",
       "</table>\n",
       "</div>"
      ],
      "text/plain": [
       "      idUtle  centroMedico\n",
       "up                        \n",
       "2306   16220         16220\n",
       "2307    1382          1382\n",
       "2311    1061          1061\n",
       "2315     552           552\n",
       "2314     135           135\n",
       "2331      71            71\n",
       "2312       0           429\n",
       "2342       0            13"
      ]
     },
     "execution_count": 87,
     "metadata": {},
     "output_type": "execute_result"
    }
   ],
   "source": [
    "gfcs03 = in_region3.groupby(['up']).count() #centroMedico\n",
    "gfcs03 = gfcs03.iloc[:,:2]\n",
    "tempGFcs01 = gfcs03.sort_values('idUtle',ascending=False)\n",
    "tempGFcs01"
   ]
  },
  {
   "cell_type": "code",
   "execution_count": 88,
   "id": "d4ea06db",
   "metadata": {},
   "outputs": [
    {
     "name": "stdout",
     "output_type": "stream",
     "text": [
      "Promedio del Plazo de Espera H. Max Peralta:  659.8506165228114\n"
     ]
    }
   ],
   "source": [
    "in_2306 = in_region3['up'] == 2306\n",
    "in_2306 = in_region3[in_2306]\n",
    "avg_plazo_2306 = in_2306[\"plazoEspera\"].astype(\"float\").mean(axis=0)\n",
    "print (\"Promedio del Plazo de Espera H. Max Peralta: \", avg_plazo_2306)"
   ]
  },
  {
   "cell_type": "code",
   "execution_count": 89,
   "id": "9af204a6",
   "metadata": {},
   "outputs": [
    {
     "name": "stdout",
     "output_type": "stream",
     "text": [
      "Promedio del Plazo de Espera H. Willian Allen:  222.15412445730826\n"
     ]
    }
   ],
   "source": [
    "in_2307 = in_region3['up'] == 2307\n",
    "in_2307 = in_region3[in_2307]\n",
    "avg_plazo_2307 = in_2307[\"plazoEspera\"].astype(\"float\").mean(axis=0)\n",
    "print (\"Promedio del Plazo de Espera H. Willian Allen: \", avg_plazo_2307)"
   ]
  },
  {
   "cell_type": "code",
   "execution_count": 90,
   "id": "41be8f8a",
   "metadata": {},
   "outputs": [
    {
     "name": "stdout",
     "output_type": "stream",
     "text": [
      "Promedio del Plazo de Espera CL Moreno Cañas:  656.4627709707822\n"
     ]
    }
   ],
   "source": [
    "in_2311 = in_region3['up'] == 2311\n",
    "in_2311 = in_region3[in_2311]\n",
    "avg_plazo_2311 = in_2311[\"plazoEspera\"].astype(\"float\").mean(axis=0)\n",
    "print (\"Promedio del Plazo de Espera CL Moreno Cañas: \", avg_plazo_2311)"
   ]
  },
  {
   "cell_type": "code",
   "execution_count": 91,
   "id": "00fe9150",
   "metadata": {},
   "outputs": [
    {
     "name": "stdout",
     "output_type": "stream",
     "text": [
      "Promedio del Plazo de Espera CL Marcial Fallas:  400.6014492753623\n"
     ]
    }
   ],
   "source": [
    "in_2315 = in_region3['up'] == 2315\n",
    "in_2315 = in_region3[in_2315]\n",
    "avg_plazo_2315 = in_2315[\"plazoEspera\"].astype(\"float\").mean(axis=0)\n",
    "print (\"Promedio del Plazo de Espera CL Marcial Fallas: \", avg_plazo_2315)"
   ]
  },
  {
   "cell_type": "code",
   "execution_count": 92,
   "id": "e8b40dba",
   "metadata": {},
   "outputs": [
    {
     "name": "stdout",
     "output_type": "stream",
     "text": [
      "Promedio del Plazo de Espera CL Solon Nuñez:  117.25925925925925\n"
     ]
    }
   ],
   "source": [
    "in_2314 = in_region3['up'] == 2314\n",
    "in_2314 = in_region3[in_2314]\n",
    "avg_plazo_2314 = in_2314[\"plazoEspera\"].astype(\"float\").mean(axis=0)\n",
    "print (\"Promedio del Plazo de Espera CL Solon Nuñez: \", avg_plazo_2314)"
   ]
  },
  {
   "cell_type": "code",
   "execution_count": 93,
   "id": "3e4be781",
   "metadata": {},
   "outputs": [
    {
     "name": "stdout",
     "output_type": "stream",
     "text": [
      "Promedio del Plazo de Espera Cl Carlos Duran:  228.91549295774647\n"
     ]
    }
   ],
   "source": [
    "in_2331 = in_region3['up'] == 2331\n",
    "in_2331 = in_region3[in_2331]\n",
    "avg_plazo_2331 = in_2331[\"plazoEspera\"].astype(\"float\").mean(axis=0)\n",
    "print (\"Promedio del Plazo de Espera Cl Carlos Duran: \", avg_plazo_2331)"
   ]
  },
  {
   "cell_type": "code",
   "execution_count": 94,
   "id": "34a2c6df",
   "metadata": {},
   "outputs": [
    {
     "name": "stdout",
     "output_type": "stream",
     "text": [
      "Promedio del Plazo de Espera AS Puriscal:  558.5034965034965\n"
     ]
    }
   ],
   "source": [
    "in_2312 = in_region3['up'] == 2312\n",
    "in_2312 = in_region3[in_2312]\n",
    "avg_plazo_2312 = in_2312[\"plazoEspera\"].astype(\"float\").mean(axis=0)\n",
    "print (\"Promedio del Plazo de Espera AS Puriscal: \", avg_plazo_2312)"
   ]
  },
  {
   "cell_type": "code",
   "execution_count": 95,
   "id": "1d976a2a",
   "metadata": {},
   "outputs": [
    {
     "name": "stdout",
     "output_type": "stream",
     "text": [
      "Promedio del Plazo de Espera AS Cartago:  1146.6153846153845\n"
     ]
    }
   ],
   "source": [
    "in_2342 = in_region3['up'] == 2342\n",
    "in_2342 = in_region3[in_2342]\n",
    "avg_plazo_2342 = in_2342[\"plazoEspera\"].astype(\"float\").mean(axis=0)\n",
    "print (\"Promedio del Plazo de Espera AS Cartago: \", avg_plazo_2342)"
   ]
  },
  {
   "cell_type": "code",
   "execution_count": 96,
   "id": "80623c73",
   "metadata": {},
   "outputs": [
    {
     "data": {
      "text/html": [
       "<div>\n",
       "<style scoped>\n",
       "    .dataframe tbody tr th:only-of-type {\n",
       "        vertical-align: middle;\n",
       "    }\n",
       "\n",
       "    .dataframe tbody tr th {\n",
       "        vertical-align: top;\n",
       "    }\n",
       "\n",
       "    .dataframe thead th {\n",
       "        text-align: right;\n",
       "    }\n",
       "</style>\n",
       "<table border=\"1\" class=\"dataframe\">\n",
       "  <thead>\n",
       "    <tr style=\"text-align: right;\">\n",
       "      <th></th>\n",
       "      <th>Unidad</th>\n",
       "      <th>PlazoPromedio</th>\n",
       "    </tr>\n",
       "  </thead>\n",
       "  <tbody>\n",
       "    <tr>\n",
       "      <th>7</th>\n",
       "      <td>A.S CARTAGO</td>\n",
       "      <td>1146.615385</td>\n",
       "    </tr>\n",
       "    <tr>\n",
       "      <th>0</th>\n",
       "      <td>H. MAX PERALTA</td>\n",
       "      <td>659.850617</td>\n",
       "    </tr>\n",
       "    <tr>\n",
       "      <th>2</th>\n",
       "      <td>CL. MORENO CAÑAS</td>\n",
       "      <td>656.462771</td>\n",
       "    </tr>\n",
       "    <tr>\n",
       "      <th>6</th>\n",
       "      <td>CAIS PURISCAL</td>\n",
       "      <td>558.503497</td>\n",
       "    </tr>\n",
       "    <tr>\n",
       "      <th>3</th>\n",
       "      <td>CL. MARCIAL FALLAS</td>\n",
       "      <td>400.601449</td>\n",
       "    </tr>\n",
       "    <tr>\n",
       "      <th>5</th>\n",
       "      <td>CL. CARLOS DURAN</td>\n",
       "      <td>228.915493</td>\n",
       "    </tr>\n",
       "    <tr>\n",
       "      <th>1</th>\n",
       "      <td>H. WILLIAN ALLEN</td>\n",
       "      <td>222.154124</td>\n",
       "    </tr>\n",
       "    <tr>\n",
       "      <th>4</th>\n",
       "      <td>CL. SOLON NUÑEZ</td>\n",
       "      <td>117.259259</td>\n",
       "    </tr>\n",
       "  </tbody>\n",
       "</table>\n",
       "</div>"
      ],
      "text/plain": [
       "               Unidad  PlazoPromedio\n",
       "7         A.S CARTAGO    1146.615385\n",
       "0      H. MAX PERALTA     659.850617\n",
       "2    CL. MORENO CAÑAS     656.462771\n",
       "6       CAIS PURISCAL     558.503497\n",
       "3  CL. MARCIAL FALLAS     400.601449\n",
       "5    CL. CARLOS DURAN     228.915493\n",
       "1    H. WILLIAN ALLEN     222.154124\n",
       "4     CL. SOLON NUÑEZ     117.259259"
      ]
     },
     "execution_count": 96,
     "metadata": {},
     "output_type": "execute_result"
    }
   ],
   "source": [
    "up = ['H. MAX PERALTA', 'H. WILLIAN ALLEN', 'CL. MORENO CAÑAS', 'CL. MARCIAL FALLAS', 'CL. SOLON NUÑEZ', 'CL. CARLOS DURAN', 'CAIS PURISCAL', 'A.S CARTAGO']\n",
    "plazo = [avg_plazo_2306, avg_plazo_2307,avg_plazo_2311,avg_plazo_2315, avg_plazo_2314,avg_plazo_2331, avg_plazo_2312, avg_plazo_2342 ]\n",
    "\n",
    "dfPlazosCS['Unidad'] = up\n",
    "dfPlazosCS['PlazoPromedio'] = plazo\n",
    "\n",
    "dfPlazosCS = dfPlazosCS.sort_values('PlazoPromedio',ascending=False)\n",
    "dfPlazosCS"
   ]
  },
  {
   "cell_type": "code",
   "execution_count": 97,
   "id": "d877e695",
   "metadata": {},
   "outputs": [
    {
     "data": {
      "image/png": "[encoded data removed]",
      "text/plain": [
       "<Figure size 720x360 with 1 Axes>"
      ]
     },
     "metadata": {
      "needs_background": "light"
     },
     "output_type": "display_data"
    }
   ],
   "source": [
    "eje_x = dfPlazosCS['Unidad'].tolist()\n",
    "eje_y = dfPlazosCS['PlazoPromedio'].tolist()\n",
    "\n",
    "plt.figure(figsize=(10,5))\n",
    "##Creamos la Grafica\n",
    "bar_colors = ['#1a78b0']\n",
    "plt.barh(eje_x, eje_y,color=bar_colors)\n",
    "         \n",
    "\n",
    "##Leyenda en el eje y\n",
    "plt.ylabel('Centro Médico')\n",
    "\n",
    "##Leyenda en el eje x\n",
    "plt.xlabel(\"Cantidad de personas\")\n",
    "\n",
    "##Titulo del Grafico\n",
    "plt.title(\"Cantidad de Personas según Centro Médico\")\n",
    "\n",
    "plt.show()"
   ]
  },
  {
   "cell_type": "markdown",
   "id": "c47bcd67",
   "metadata": {},
   "source": [
    "<h4 style=\"color:#122d75\">4.2.12 Lista de Espera del Área de Salud de Cartago</h4>\n",
    "\n",
    "<p>Se optiene el top 10 de los diagnosticos que conforman la lista de espera del Área de Salud de Cartago, con el proposito de conocer la posibilidad de establer acciones concretas en ese centro asistencial para disminuir el plazo promedio de espera</p>"
   ]
  },
  {
   "cell_type": "code",
   "execution_count": 98,
   "id": "f5e98cb1",
   "metadata": {},
   "outputs": [
    {
     "data": {
      "text/html": [
       "<div>\n",
       "<style scoped>\n",
       "    .dataframe tbody tr th:only-of-type {\n",
       "        vertical-align: middle;\n",
       "    }\n",
       "\n",
       "    .dataframe tbody tr th {\n",
       "        vertical-align: top;\n",
       "    }\n",
       "\n",
       "    .dataframe thead th {\n",
       "        text-align: right;\n",
       "    }\n",
       "</style>\n",
       "<table border=\"1\" class=\"dataframe\">\n",
       "  <thead>\n",
       "    <tr style=\"text-align: right;\">\n",
       "      <th></th>\n",
       "      <th>idUtle</th>\n",
       "      <th>up</th>\n",
       "    </tr>\n",
       "    <tr>\n",
       "      <th>dscDiagnostico</th>\n",
       "      <th></th>\n",
       "      <th></th>\n",
       "    </tr>\n",
       "  </thead>\n",
       "  <tbody>\n",
       "    <tr>\n",
       "      <th>Atencion materna por desproporcion debida a feto demasiado grande</th>\n",
       "      <td>0</td>\n",
       "      <td>1</td>\n",
       "    </tr>\n",
       "    <tr>\n",
       "      <th>Cistocele</th>\n",
       "      <td>0</td>\n",
       "      <td>2</td>\n",
       "    </tr>\n",
       "    <tr>\n",
       "      <th>Leiomioma intramural del ·tero</th>\n",
       "      <td>0</td>\n",
       "      <td>1</td>\n",
       "    </tr>\n",
       "    <tr>\n",
       "      <th>Otros quistes ovaricos y los no especificados</th>\n",
       "      <td>0</td>\n",
       "      <td>1</td>\n",
       "    </tr>\n",
       "    <tr>\n",
       "      <th>Polipo del cuerpo del ·tero</th>\n",
       "      <td>0</td>\n",
       "      <td>1</td>\n",
       "    </tr>\n",
       "    <tr>\n",
       "      <th>Prolapso de la c·pula vaginal despues de histerectomia</th>\n",
       "      <td>0</td>\n",
       "      <td>1</td>\n",
       "    </tr>\n",
       "    <tr>\n",
       "      <th>Prolapso uterovaginal completo</th>\n",
       "      <td>0</td>\n",
       "      <td>2</td>\n",
       "    </tr>\n",
       "    <tr>\n",
       "      <th>Quiste en desarrollo del ovario</th>\n",
       "      <td>0</td>\n",
       "      <td>1</td>\n",
       "    </tr>\n",
       "    <tr>\n",
       "      <th>Supervisión de embarazo normal no especificado</th>\n",
       "      <td>0</td>\n",
       "      <td>2</td>\n",
       "    </tr>\n",
       "    <tr>\n",
       "      <th>T. benigno del ovario</th>\n",
       "      <td>0</td>\n",
       "      <td>1</td>\n",
       "    </tr>\n",
       "  </tbody>\n",
       "</table>\n",
       "</div>"
      ],
      "text/plain": [
       "                                                    idUtle  up\n",
       "dscDiagnostico                                                \n",
       "Atencion materna por desproporcion debida a fet...       0   1\n",
       "Cistocele                                                0   2\n",
       "Leiomioma intramural del ·tero                           0   1\n",
       "Otros quistes ovaricos y los no especificados            0   1\n",
       "Polipo del cuerpo del ·tero                              0   1\n",
       "Prolapso de la c·pula vaginal despues de hister...       0   1\n",
       "Prolapso uterovaginal completo                           0   2\n",
       "Quiste en desarrollo del ovario                          0   1\n",
       "Supervisión de embarazo normal no especificado           0   2\n",
       "T. benigno del ovario                                    0   1"
      ]
     },
     "execution_count": 98,
     "metadata": {},
     "output_type": "execute_result"
    }
   ],
   "source": [
    "gfcs04 = in_2342.groupby(['dscDiagnostico']).count()\n",
    "gfcs04= gfcs04.iloc[:,:2]\n",
    "tempGFcs01=gfcs04.sort_values('idUtle',ascending=False)\n",
    "top10DxASC = tempGFcs01.head(10)\n",
    "top10DxASC"
   ]
  },
  {
   "cell_type": "markdown",
   "id": "cf981fe8",
   "metadata": {},
   "source": [
    "<h4 style=\"color: #ffa025\">4.2.9 Lista de Espera de la Region \"BRUNCA\"</h4>\n",
    "\n",
    "<p>Se realiza la agrupación de datos considerando únicamente los establecimientos médicos de la region Brunca, de manera que se pueda comprender donde está la mayor concentración de casos para los establecimientos</p>\n",
    "</br>\n",
    "<img src=\"DRIPSBRUNCA.png\">"
   ]
  },
  {
   "cell_type": "code",
   "execution_count": 99,
   "id": "fd0eb31e",
   "metadata": {},
   "outputs": [
    {
     "data": {
      "text/plain": [
       "(16616, 24)"
      ]
     },
     "execution_count": 99,
     "metadata": {},
     "output_type": "execute_result"
    }
   ],
   "source": [
    "in_region4 = dfPendientes['region'] == 'BRUNCA'\n",
    "in_region4 = dfPendientes[in_region4]\n",
    "in_region4.shape"
   ]
  },
  {
   "cell_type": "code",
   "execution_count": 100,
   "id": "eaa19661",
   "metadata": {},
   "outputs": [
    {
     "data": {
      "text/html": [
       "<div>\n",
       "<style scoped>\n",
       "    .dataframe tbody tr th:only-of-type {\n",
       "        vertical-align: middle;\n",
       "    }\n",
       "\n",
       "    .dataframe tbody tr th {\n",
       "        vertical-align: top;\n",
       "    }\n",
       "\n",
       "    .dataframe thead th {\n",
       "        text-align: right;\n",
       "    }\n",
       "</style>\n",
       "<table border=\"1\" class=\"dataframe\">\n",
       "  <thead>\n",
       "    <tr style=\"text-align: right;\">\n",
       "      <th></th>\n",
       "      <th>idUtle</th>\n",
       "    </tr>\n",
       "    <tr>\n",
       "      <th>dscDiagnostico</th>\n",
       "      <th></th>\n",
       "    </tr>\n",
       "  </thead>\n",
       "  <tbody>\n",
       "    <tr>\n",
       "      <th>Catarata, no especificada</th>\n",
       "      <td>2108</td>\n",
       "    </tr>\n",
       "    <tr>\n",
       "      <th>Pterigion</th>\n",
       "      <td>1677</td>\n",
       "    </tr>\n",
       "    <tr>\n",
       "      <th>Calculo de la vesicula biliar sin colecistitis</th>\n",
       "      <td>1200</td>\n",
       "    </tr>\n",
       "    <tr>\n",
       "      <th>Esterilización</th>\n",
       "      <td>879</td>\n",
       "    </tr>\n",
       "    <tr>\n",
       "      <th>Desviacion del tabique nasal</th>\n",
       "      <td>820</td>\n",
       "    </tr>\n",
       "    <tr>\n",
       "      <th>Hernia inguinal unilateral o no especificada, sin obstruccion ni gangrena</th>\n",
       "      <td>624</td>\n",
       "    </tr>\n",
       "    <tr>\n",
       "      <th>Trastorno interno de la rodilla, no especificado</th>\n",
       "      <td>567</td>\n",
       "    </tr>\n",
       "    <tr>\n",
       "      <th>Gonartrosis, no especificada</th>\n",
       "      <td>520</td>\n",
       "    </tr>\n",
       "    <tr>\n",
       "      <th>Hiperplasia de la prostata</th>\n",
       "      <td>433</td>\n",
       "    </tr>\n",
       "    <tr>\n",
       "      <th>Hernia umbilical sin obstruccion ni gangrena</th>\n",
       "      <td>408</td>\n",
       "    </tr>\n",
       "  </tbody>\n",
       "</table>\n",
       "</div>"
      ],
      "text/plain": [
       "                                                    idUtle\n",
       "dscDiagnostico                                            \n",
       "Catarata, no especificada                             2108\n",
       "Pterigion                                             1677\n",
       "Calculo de la vesicula biliar sin colecistitis        1200\n",
       "Esterilización                                         879\n",
       "Desviacion del tabique nasal                           820\n",
       "Hernia inguinal unilateral o no especificada, s...     624\n",
       "Trastorno interno de la rodilla, no especificado       567\n",
       "Gonartrosis, no especificada                           520\n",
       "Hiperplasia de la prostata                             433\n",
       "Hernia umbilical sin obstruccion ni gangrena           408"
      ]
     },
     "execution_count": 100,
     "metadata": {},
     "output_type": "execute_result"
    }
   ],
   "source": [
    "gfb01 = in_region4.groupby(['dscDiagnostico']).count()\n",
    "gfb01 = gfb01.iloc[:,:1]\n",
    "tempGF13 = gfb01.sort_values('idUtle',ascending=False)\n",
    "top10DxB = tempGF13.head(10)\n",
    "top10DxB"
   ]
  },
  {
   "cell_type": "markdown",
   "id": "f5da4dd1",
   "metadata": {},
   "source": [
    "<h4 style=\"color: #ffa025\">4.2.14 Concentración de la Lista de Espera según Hospital</h4>\n",
    "\n",
    "<p>Se obtiene la distribución de la lista de espera por hospital, con el propósito de conocer en cual establecimiento se concentra la mayor cantidad de listas de espera quirurgica</p>"
   ]
  },
  {
   "cell_type": "code",
   "execution_count": 101,
   "id": "be503763",
   "metadata": {},
   "outputs": [
    {
     "data": {
      "text/html": [
       "<div>\n",
       "<style scoped>\n",
       "    .dataframe tbody tr th:only-of-type {\n",
       "        vertical-align: middle;\n",
       "    }\n",
       "\n",
       "    .dataframe tbody tr th {\n",
       "        vertical-align: top;\n",
       "    }\n",
       "\n",
       "    .dataframe thead th {\n",
       "        text-align: right;\n",
       "    }\n",
       "</style>\n",
       "<table border=\"1\" class=\"dataframe\">\n",
       "  <thead>\n",
       "    <tr style=\"text-align: right;\">\n",
       "      <th></th>\n",
       "      <th>idUtle</th>\n",
       "      <th>up</th>\n",
       "    </tr>\n",
       "    <tr>\n",
       "      <th>centroMedico</th>\n",
       "      <th></th>\n",
       "      <th></th>\n",
       "    </tr>\n",
       "  </thead>\n",
       "  <tbody>\n",
       "    <tr>\n",
       "      <th>H. ESCALANTE PRADILLA</th>\n",
       "      <td>13230</td>\n",
       "      <td>13230</td>\n",
       "    </tr>\n",
       "    <tr>\n",
       "      <th>H. CIUDAD NEILY</th>\n",
       "      <td>2530</td>\n",
       "      <td>2530</td>\n",
       "    </tr>\n",
       "    <tr>\n",
       "      <th>H. GOLFITO</th>\n",
       "      <td>370</td>\n",
       "      <td>370</td>\n",
       "    </tr>\n",
       "    <tr>\n",
       "      <th>H. SAN VITO</th>\n",
       "      <td>368</td>\n",
       "      <td>368</td>\n",
       "    </tr>\n",
       "    <tr>\n",
       "      <th>H. TOMAS CASAS</th>\n",
       "      <td>118</td>\n",
       "      <td>118</td>\n",
       "    </tr>\n",
       "  </tbody>\n",
       "</table>\n",
       "</div>"
      ],
      "text/plain": [
       "                       idUtle     up\n",
       "centroMedico                        \n",
       "H. ESCALANTE PRADILLA   13230  13230\n",
       "H. CIUDAD NEILY          2530   2530\n",
       "H. GOLFITO                370    370\n",
       "H. SAN VITO               368    368\n",
       "H. TOMAS CASAS            118    118"
      ]
     },
     "execution_count": 101,
     "metadata": {},
     "output_type": "execute_result"
    }
   ],
   "source": [
    "gfb02 = in_region4.groupby(['centroMedico']).count() #centroMedico\n",
    "gfb02 = gfb02.iloc[:,:2]\n",
    "tempGFB01 = gfb02.sort_values('up',ascending=False)\n",
    "tempGFB01"
   ]
  },
  {
   "cell_type": "code",
   "execution_count": 102,
   "id": "4c764469",
   "metadata": {},
   "outputs": [
    {
     "data": {
      "image/png": "[encoded data removed]",
      "text/plain": [
       "<Figure size 720x360 with 1 Axes>"
      ]
     },
     "metadata": {
      "needs_background": "light"
     },
     "output_type": "display_data"
    }
   ],
   "source": [
    "eje_x = tempGFB01.index.tolist()\n",
    "eje_y = tempGFB01['up'].tolist()\n",
    "\n",
    "plt.figure(figsize=(10,5))\n",
    "##Creamos la Grafica\n",
    "bar_colors = ['#ffe55e']\n",
    "plt.barh(eje_x, eje_y,color=bar_colors)\n",
    "         \n",
    "\n",
    "##Leyenda en el eje y\n",
    "plt.ylabel('Centro Médico')\n",
    "\n",
    "##Leyenda en el eje x\n",
    "plt.xlabel(\"Cantidad de personas\")\n",
    "\n",
    "##Titulo del Grafico\n",
    "plt.title(\"Cantidad de Personas según Centro Médico\")\n",
    "\n",
    "plt.show()"
   ]
  },
  {
   "cell_type": "markdown",
   "id": "dfcd13d3",
   "metadata": {},
   "source": [
    "<h4 style=\"color:  #ff522e\">4.2.15 Plazo Promedio de Espera según Hospital</h4>\n",
    "\n",
    "<p>Se genera la estimación del plazo promedio de espera por establecimiento de salud, con el propósito de identificar en cual establecimiento se concentra la mayor cantidad de personas, con el mayor tiempo de espera por una operación</p>"
   ]
  },
  {
   "cell_type": "code",
   "execution_count": 103,
   "id": "d961852d",
   "metadata": {},
   "outputs": [
    {
     "data": {
      "text/html": [
       "<div>\n",
       "<style scoped>\n",
       "    .dataframe tbody tr th:only-of-type {\n",
       "        vertical-align: middle;\n",
       "    }\n",
       "\n",
       "    .dataframe tbody tr th {\n",
       "        vertical-align: top;\n",
       "    }\n",
       "\n",
       "    .dataframe thead th {\n",
       "        text-align: right;\n",
       "    }\n",
       "</style>\n",
       "<table border=\"1\" class=\"dataframe\">\n",
       "  <thead>\n",
       "    <tr style=\"text-align: right;\">\n",
       "      <th></th>\n",
       "      <th>idUtle</th>\n",
       "    </tr>\n",
       "    <tr>\n",
       "      <th>up</th>\n",
       "      <th></th>\n",
       "    </tr>\n",
       "  </thead>\n",
       "  <tbody>\n",
       "    <tr>\n",
       "      <th>2705</th>\n",
       "      <td>368</td>\n",
       "    </tr>\n",
       "    <tr>\n",
       "      <th>2704</th>\n",
       "      <td>2530</td>\n",
       "    </tr>\n",
       "    <tr>\n",
       "      <th>2703</th>\n",
       "      <td>118</td>\n",
       "    </tr>\n",
       "    <tr>\n",
       "      <th>2702</th>\n",
       "      <td>370</td>\n",
       "    </tr>\n",
       "    <tr>\n",
       "      <th>2701</th>\n",
       "      <td>13230</td>\n",
       "    </tr>\n",
       "  </tbody>\n",
       "</table>\n",
       "</div>"
      ],
      "text/plain": [
       "      idUtle\n",
       "up          \n",
       "2705     368\n",
       "2704    2530\n",
       "2703     118\n",
       "2702     370\n",
       "2701   13230"
      ]
     },
     "execution_count": 103,
     "metadata": {},
     "output_type": "execute_result"
    }
   ],
   "source": [
    "gfb03 = in_region4.groupby(['up']).count() #centroMedico\n",
    "gfb03 = gfb03.iloc[:,:1]\n",
    "tempGFB02 = gfb03.sort_values('up',ascending=False)\n",
    "tempGFB02"
   ]
  },
  {
   "cell_type": "code",
   "execution_count": 104,
   "id": "69965496",
   "metadata": {
    "scrolled": true
   },
   "outputs": [
    {
     "name": "stdout",
     "output_type": "stream",
     "text": [
      "Empty DataFrame\n",
      "Columns: [Unidad, PlazoPromedio]\n",
      "Index: []\n"
     ]
    }
   ],
   "source": [
    "dfPlazosB = pd.DataFrame()\n",
    "dfPlazosB['Unidad'] = None\n",
    "dfPlazosB['PlazoPromedio'] = None\n",
    "print(dfPlazosB)"
   ]
  },
  {
   "cell_type": "code",
   "execution_count": 105,
   "id": "613a6360",
   "metadata": {},
   "outputs": [
    {
     "name": "stdout",
     "output_type": "stream",
     "text": [
      "Promedio del Plazo de Espera H. Escalante Pradilla:  567.0733182161754\n"
     ]
    }
   ],
   "source": [
    "in_2701 = in_region4['up'] == 2701\n",
    "in_2701 = in_region4[in_2701]\n",
    "avg_plazo_2701 = in_2701[\"plazoEspera\"].astype(\"float\").mean(axis=0)\n",
    "print (\"Promedio del Plazo de Espera H. Escalante Pradilla: \", avg_plazo_2701)"
   ]
  },
  {
   "cell_type": "code",
   "execution_count": 106,
   "id": "cc2b8f82",
   "metadata": {},
   "outputs": [
    {
     "name": "stdout",
     "output_type": "stream",
     "text": [
      "Promedio del Plazo de Espera H. Ciudad Neily:  185.6292490118577\n"
     ]
    }
   ],
   "source": [
    "in_2704 = in_region4['up'] == 2704\n",
    "in_2704 = in_region4[in_2704]\n",
    "avg_plazo_2704 = in_2704[\"plazoEspera\"].astype(\"float\").mean(axis=0)\n",
    "print (\"Promedio del Plazo de Espera H. Ciudad Neily: \", avg_plazo_2704)"
   ]
  },
  {
   "cell_type": "code",
   "execution_count": 107,
   "id": "79a57491",
   "metadata": {},
   "outputs": [
    {
     "name": "stdout",
     "output_type": "stream",
     "text": [
      "Promedio del Plazo de Espera H. Gofito:  169.2945945945946\n"
     ]
    }
   ],
   "source": [
    "in_2702 = in_region4['up'] == 2702\n",
    "in_2702 = in_region4[in_2702]\n",
    "avg_plazo_2702 = in_2702[\"plazoEspera\"].astype(\"float\").mean(axis=0)\n",
    "print (\"Promedio del Plazo de Espera H. Gofito: \", avg_plazo_2702)"
   ]
  },
  {
   "cell_type": "code",
   "execution_count": 108,
   "id": "0d5a4091",
   "metadata": {},
   "outputs": [
    {
     "name": "stdout",
     "output_type": "stream",
     "text": [
      "Promedio del Plazo de Espera H. San Vito:  80.3695652173913\n"
     ]
    }
   ],
   "source": [
    "in_2705 = in_region4['up'] == 2705\n",
    "in_2705 = in_region4[in_2705]\n",
    "avg_plazo_2705 = in_2705[\"plazoEspera\"].astype(\"float\").mean(axis=0)\n",
    "print (\"Promedio del Plazo de Espera H. San Vito: \", avg_plazo_2705)"
   ]
  },
  {
   "cell_type": "code",
   "execution_count": 109,
   "id": "56ca8b75",
   "metadata": {},
   "outputs": [
    {
     "name": "stdout",
     "output_type": "stream",
     "text": [
      "Promedio del Plazo de Espera H. Tomas Casas:  654.457627118644\n"
     ]
    }
   ],
   "source": [
    "in_2703 = in_region4['up'] == 2703\n",
    "in_2703 = in_region4[in_2703]\n",
    "avg_plazo_2703 = in_2703[\"plazoEspera\"].astype(\"float\").mean(axis=0)\n",
    "print (\"Promedio del Plazo de Espera H. Tomas Casas: \", avg_plazo_2703)"
   ]
  },
  {
   "cell_type": "code",
   "execution_count": 127,
   "id": "edfa4598",
   "metadata": {},
   "outputs": [
    {
     "data": {
      "text/html": [
       "<div>\n",
       "<style scoped>\n",
       "    .dataframe tbody tr th:only-of-type {\n",
       "        vertical-align: middle;\n",
       "    }\n",
       "\n",
       "    .dataframe tbody tr th {\n",
       "        vertical-align: top;\n",
       "    }\n",
       "\n",
       "    .dataframe thead th {\n",
       "        text-align: right;\n",
       "    }\n",
       "</style>\n",
       "<table border=\"1\" class=\"dataframe\">\n",
       "  <thead>\n",
       "    <tr style=\"text-align: right;\">\n",
       "      <th></th>\n",
       "      <th>Unidad</th>\n",
       "      <th>PlazoPromedio</th>\n",
       "    </tr>\n",
       "  </thead>\n",
       "  <tbody>\n",
       "    <tr>\n",
       "      <th>4</th>\n",
       "      <td>H. TOMAS CASAS</td>\n",
       "      <td>654.457627</td>\n",
       "    </tr>\n",
       "    <tr>\n",
       "      <th>0</th>\n",
       "      <td>H. ESCALANTE PRADILLA</td>\n",
       "      <td>567.073318</td>\n",
       "    </tr>\n",
       "    <tr>\n",
       "      <th>1</th>\n",
       "      <td>H. CIUDAD NEILY</td>\n",
       "      <td>185.629249</td>\n",
       "    </tr>\n",
       "    <tr>\n",
       "      <th>2</th>\n",
       "      <td>CL. GOLFITO</td>\n",
       "      <td>169.294595</td>\n",
       "    </tr>\n",
       "    <tr>\n",
       "      <th>3</th>\n",
       "      <td>H. SAN VITO</td>\n",
       "      <td>80.369565</td>\n",
       "    </tr>\n",
       "  </tbody>\n",
       "</table>\n",
       "</div>"
      ],
      "text/plain": [
       "                  Unidad  PlazoPromedio\n",
       "4         H. TOMAS CASAS     654.457627\n",
       "0  H. ESCALANTE PRADILLA     567.073318\n",
       "1        H. CIUDAD NEILY     185.629249\n",
       "2            CL. GOLFITO     169.294595\n",
       "3            H. SAN VITO      80.369565"
      ]
     },
     "execution_count": 127,
     "metadata": {},
     "output_type": "execute_result"
    }
   ],
   "source": [
    "up = ['H. ESCALANTE PRADILLA', 'H. CIUDAD NEILY', 'CL. GOLFITO', 'H. SAN VITO', 'H. TOMAS CASAS']\n",
    "plazo = [avg_plazo_2701, avg_plazo_2704,avg_plazo_2702,avg_plazo_2705, avg_plazo_2703]\n",
    "\n",
    "dfPlazosB['Unidad'] = up\n",
    "dfPlazosB['PlazoPromedio'] = plazo\n",
    "\n",
    "dfPlazosB = dfPlazosB.sort_values('PlazoPromedio',ascending=False)\n",
    "dfPlazosB"
   ]
  },
  {
   "cell_type": "code",
   "execution_count": 128,
   "id": "dfd4b5da",
   "metadata": {},
   "outputs": [
    {
     "data": {
      "image/png": "[encoded data removed]",
      "text/plain": [
       "<Figure size 720x360 with 1 Axes>"
      ]
     },
     "metadata": {
      "needs_background": "light"
     },
     "output_type": "display_data"
    }
   ],
   "source": [
    "eje_x = dfPlazosB['Unidad'].tolist()\n",
    "eje_y = dfPlazosB['PlazoPromedio'].tolist()\n",
    "\n",
    "plt.figure(figsize=(10,5))\n",
    "##Creamos la Grafica\n",
    "bar_colors = ['#ffe55e']\n",
    "plt.barh(eje_x, eje_y,color=bar_colors)\n",
    "         \n",
    "\n",
    "##Leyenda en el eje y\n",
    "plt.ylabel('Centro Médico')\n",
    "\n",
    "##Leyenda en el eje x\n",
    "plt.xlabel(\"Cantidad de personas\")\n",
    "\n",
    "##Titulo del Grafico\n",
    "plt.title(\"Cantidad de Personas según Centro Médico\")\n",
    "\n",
    "plt.show()"
   ]
  },
  {
   "cell_type": "markdown",
   "id": "0fdc1598",
   "metadata": {},
   "source": [
    "<h4 style=\"color:  #ff522e\">4.2.16 Lista de Espera del H. Tomás Casas</h4>\n",
    "\n",
    "<p>Se genera la estimación del plazo promedio de espera por establecimiento de salud, con el propósito de identificar en cual establecimiento se concentra la mayor cantidad de personas, con el mayor tiempo de espera por una operación</p>"
   ]
  },
  {
   "cell_type": "code",
   "execution_count": 131,
   "id": "f423ca76",
   "metadata": {},
   "outputs": [
    {
     "data": {
      "text/html": [
       "<div>\n",
       "<style scoped>\n",
       "    .dataframe tbody tr th:only-of-type {\n",
       "        vertical-align: middle;\n",
       "    }\n",
       "\n",
       "    .dataframe tbody tr th {\n",
       "        vertical-align: top;\n",
       "    }\n",
       "\n",
       "    .dataframe thead th {\n",
       "        text-align: right;\n",
       "    }\n",
       "</style>\n",
       "<table border=\"1\" class=\"dataframe\">\n",
       "  <thead>\n",
       "    <tr style=\"text-align: right;\">\n",
       "      <th></th>\n",
       "      <th>idUtle</th>\n",
       "      <th>up</th>\n",
       "    </tr>\n",
       "    <tr>\n",
       "      <th>dscDiagnostico</th>\n",
       "      <th></th>\n",
       "      <th></th>\n",
       "    </tr>\n",
       "  </thead>\n",
       "  <tbody>\n",
       "    <tr>\n",
       "      <th>Calculo de la vesicula biliar sin colecistitis</th>\n",
       "      <td>29</td>\n",
       "      <td>29</td>\n",
       "    </tr>\n",
       "    <tr>\n",
       "      <th>Otras atenciones especificadas para la anticoncepción</th>\n",
       "      <td>16</td>\n",
       "      <td>16</td>\n",
       "    </tr>\n",
       "    <tr>\n",
       "      <th>Hernia inguinal unilateral o no especificada, sin obstruccion ni gangrena</th>\n",
       "      <td>12</td>\n",
       "      <td>12</td>\n",
       "    </tr>\n",
       "    <tr>\n",
       "      <th>Hernia umbilical sin obstruccion ni gangrena</th>\n",
       "      <td>8</td>\n",
       "      <td>8</td>\n",
       "    </tr>\n",
       "    <tr>\n",
       "      <th>Quiste epidermico</th>\n",
       "      <td>3</td>\n",
       "      <td>3</td>\n",
       "    </tr>\n",
       "    <tr>\n",
       "      <th>Nevo melanocitico, sitio no especificado</th>\n",
       "      <td>2</td>\n",
       "      <td>2</td>\n",
       "    </tr>\n",
       "    <tr>\n",
       "      <th>Leiomioma del ·tero, sin otra especificacion</th>\n",
       "      <td>2</td>\n",
       "      <td>2</td>\n",
       "    </tr>\n",
       "    <tr>\n",
       "      <th>Tumor benigno lipomatoso de piel y de tejido subcutaneo de cabeza, cara y cuello</th>\n",
       "      <td>2</td>\n",
       "      <td>2</td>\n",
       "    </tr>\n",
       "    <tr>\n",
       "      <th>Incontinencia urinaria, no especificada</th>\n",
       "      <td>2</td>\n",
       "      <td>2</td>\n",
       "    </tr>\n",
       "    <tr>\n",
       "      <th>Incontinencia urinaria por tension</th>\n",
       "      <td>2</td>\n",
       "      <td>2</td>\n",
       "    </tr>\n",
       "  </tbody>\n",
       "</table>\n",
       "</div>"
      ],
      "text/plain": [
       "                                                    idUtle  up\n",
       "dscDiagnostico                                                \n",
       "Calculo de la vesicula biliar sin colecistitis          29  29\n",
       "Otras atenciones especificadas para la anticonc...      16  16\n",
       "Hernia inguinal unilateral o no especificada, s...      12  12\n",
       "Hernia umbilical sin obstruccion ni gangrena             8   8\n",
       "Quiste epidermico                                        3   3\n",
       "Nevo melanocitico, sitio no especificado                 2   2\n",
       "Leiomioma del ·tero, sin otra especificacion             2   2\n",
       "Tumor benigno lipomatoso de piel y de tejido su...       2   2\n",
       "Incontinencia urinaria, no especificada                  2   2\n",
       "Incontinencia urinaria por tension                       2   2"
      ]
     },
     "execution_count": 131,
     "metadata": {},
     "output_type": "execute_result"
    }
   ],
   "source": [
    "gfB03 = in_2703.groupby(['dscDiagnostico']).count()\n",
    "gfB03= gfB03.iloc[:,:2]\n",
    "tempGFB02=gfB03.sort_values('idUtle',ascending=False)\n",
    "top10DxTC = tempGFB02.head(10)\n",
    "top10DxTC"
   ]
  },
  {
   "cell_type": "markdown",
   "id": "01fc335a",
   "metadata": {},
   "source": [
    "<h4 style=\"color: #1b9346\">4.2.17 Lista de Espera de la Region \"CHOROTEGA\"</h4>\n",
    "\n",
    "<p>Se realiza la agrupación de datos considerando únicamente los establecimientos médicos de la region Chorotega, de manera que se pueda comprender donde está la mayor concentración de casos para los establecimientos</p>\n",
    "</br>\n",
    "<img src=\"DRIPSCH.png\">"
   ]
  },
  {
   "cell_type": "code",
   "execution_count": 134,
   "id": "3e7ef0c9",
   "metadata": {},
   "outputs": [
    {
     "data": {
      "text/plain": [
       "(17460, 24)"
      ]
     },
     "execution_count": 134,
     "metadata": {},
     "output_type": "execute_result"
    }
   ],
   "source": [
    "in_region5 = dfPendientes['region'] == 'CHOROTEGA'\n",
    "in_region5 = dfPendientes[in_region5]\n",
    "in_region5.shape"
   ]
  },
  {
   "cell_type": "code",
   "execution_count": 135,
   "id": "fedc2586",
   "metadata": {},
   "outputs": [
    {
     "data": {
      "text/html": [
       "<div>\n",
       "<style scoped>\n",
       "    .dataframe tbody tr th:only-of-type {\n",
       "        vertical-align: middle;\n",
       "    }\n",
       "\n",
       "    .dataframe tbody tr th {\n",
       "        vertical-align: top;\n",
       "    }\n",
       "\n",
       "    .dataframe thead th {\n",
       "        text-align: right;\n",
       "    }\n",
       "</style>\n",
       "<table border=\"1\" class=\"dataframe\">\n",
       "  <thead>\n",
       "    <tr style=\"text-align: right;\">\n",
       "      <th></th>\n",
       "      <th>idUtle</th>\n",
       "    </tr>\n",
       "    <tr>\n",
       "      <th>dscDiagnostico</th>\n",
       "      <th></th>\n",
       "    </tr>\n",
       "  </thead>\n",
       "  <tbody>\n",
       "    <tr>\n",
       "      <th>Catarata, no especificada</th>\n",
       "      <td>2108</td>\n",
       "    </tr>\n",
       "    <tr>\n",
       "      <th>Pterigion</th>\n",
       "      <td>1677</td>\n",
       "    </tr>\n",
       "    <tr>\n",
       "      <th>Calculo de la vesicula biliar sin colecistitis</th>\n",
       "      <td>1200</td>\n",
       "    </tr>\n",
       "    <tr>\n",
       "      <th>Esterilización</th>\n",
       "      <td>879</td>\n",
       "    </tr>\n",
       "    <tr>\n",
       "      <th>Desviacion del tabique nasal</th>\n",
       "      <td>820</td>\n",
       "    </tr>\n",
       "    <tr>\n",
       "      <th>Hernia inguinal unilateral o no especificada, sin obstruccion ni gangrena</th>\n",
       "      <td>624</td>\n",
       "    </tr>\n",
       "    <tr>\n",
       "      <th>Trastorno interno de la rodilla, no especificado</th>\n",
       "      <td>567</td>\n",
       "    </tr>\n",
       "    <tr>\n",
       "      <th>Gonartrosis, no especificada</th>\n",
       "      <td>520</td>\n",
       "    </tr>\n",
       "    <tr>\n",
       "      <th>Hiperplasia de la prostata</th>\n",
       "      <td>433</td>\n",
       "    </tr>\n",
       "    <tr>\n",
       "      <th>Hernia umbilical sin obstruccion ni gangrena</th>\n",
       "      <td>408</td>\n",
       "    </tr>\n",
       "  </tbody>\n",
       "</table>\n",
       "</div>"
      ],
      "text/plain": [
       "                                                    idUtle\n",
       "dscDiagnostico                                            \n",
       "Catarata, no especificada                             2108\n",
       "Pterigion                                             1677\n",
       "Calculo de la vesicula biliar sin colecistitis        1200\n",
       "Esterilización                                         879\n",
       "Desviacion del tabique nasal                           820\n",
       "Hernia inguinal unilateral o no especificada, s...     624\n",
       "Trastorno interno de la rodilla, no especificado       567\n",
       "Gonartrosis, no especificada                           520\n",
       "Hiperplasia de la prostata                             433\n",
       "Hernia umbilical sin obstruccion ni gangrena           408"
      ]
     },
     "execution_count": 135,
     "metadata": {},
     "output_type": "execute_result"
    }
   ],
   "source": [
    "gfCH01 = in_region4.groupby(['dscDiagnostico']).count()\n",
    "gfCH01 = gfCH01.iloc[:,:1]\n",
    "tempGF14 = gfCH01.sort_values('idUtle',ascending=False)\n",
    "top10DxCH = tempGF14.head(10)\n",
    "top10DxCH"
   ]
  },
  {
   "cell_type": "markdown",
   "id": "fb023b4f",
   "metadata": {},
   "source": [
    "<h4 style=\"color: #1b9346\">4.2.18 Concentración de la Lista de Espera según Hospital</h4>\n",
    "\n",
    "<p>Se obtiene la distribución de la lista de espera por hospital, con el propósito de conocer en cual establecimiento se concentra la mayor cantidad de listas de espera quirurgica</p>"
   ]
  },
  {
   "cell_type": "code",
   "execution_count": 136,
   "id": "2481c135",
   "metadata": {},
   "outputs": [
    {
     "data": {
      "text/html": [
       "<div>\n",
       "<style scoped>\n",
       "    .dataframe tbody tr th:only-of-type {\n",
       "        vertical-align: middle;\n",
       "    }\n",
       "\n",
       "    .dataframe tbody tr th {\n",
       "        vertical-align: top;\n",
       "    }\n",
       "\n",
       "    .dataframe thead th {\n",
       "        text-align: right;\n",
       "    }\n",
       "</style>\n",
       "<table border=\"1\" class=\"dataframe\">\n",
       "  <thead>\n",
       "    <tr style=\"text-align: right;\">\n",
       "      <th></th>\n",
       "      <th>idUtle</th>\n",
       "      <th>up</th>\n",
       "    </tr>\n",
       "    <tr>\n",
       "      <th>centroMedico</th>\n",
       "      <th></th>\n",
       "      <th></th>\n",
       "    </tr>\n",
       "  </thead>\n",
       "  <tbody>\n",
       "    <tr>\n",
       "      <th>H. ENRIQUE BALTODANO</th>\n",
       "      <td>8674</td>\n",
       "      <td>8674</td>\n",
       "    </tr>\n",
       "    <tr>\n",
       "      <th>H. LA ANEXION</th>\n",
       "      <td>6915</td>\n",
       "      <td>6915</td>\n",
       "    </tr>\n",
       "    <tr>\n",
       "      <th>CAIS CAÑAS</th>\n",
       "      <td>1699</td>\n",
       "      <td>1699</td>\n",
       "    </tr>\n",
       "    <tr>\n",
       "      <th>H. UPALA</th>\n",
       "      <td>172</td>\n",
       "      <td>172</td>\n",
       "    </tr>\n",
       "  </tbody>\n",
       "</table>\n",
       "</div>"
      ],
      "text/plain": [
       "                      idUtle    up\n",
       "centroMedico                      \n",
       "H. ENRIQUE BALTODANO    8674  8674\n",
       "H. LA ANEXION           6915  6915\n",
       "CAIS CAÑAS              1699  1699\n",
       "H. UPALA                 172   172"
      ]
     },
     "execution_count": 136,
     "metadata": {},
     "output_type": "execute_result"
    }
   ],
   "source": [
    "gfCH01 = in_region5.groupby(['centroMedico']).count() #centroMedico\n",
    "gfCH01 = gfCH01.iloc[:,:2]\n",
    "tempGFCH02 = gfCH01.sort_values('up',ascending=False)\n",
    "tempGFCH02"
   ]
  },
  {
   "cell_type": "code",
   "execution_count": 137,
   "id": "b849c3d5",
   "metadata": {},
   "outputs": [
    {
     "data": {
      "image/png": "[encoded data removed]",
      "text/plain": [
       "<Figure size 720x360 with 1 Axes>"
      ]
     },
     "metadata": {
      "needs_background": "light"
     },
     "output_type": "display_data"
    }
   ],
   "source": [
    "eje_x = tempGFCH02.index.tolist()\n",
    "eje_y = tempGFCH02['up'].tolist()\n",
    "\n",
    "plt.figure(figsize=(10,5))\n",
    "##Creamos la Grafica\n",
    "bar_colors = ['#82da6e']\n",
    "plt.barh(eje_x, eje_y,color=bar_colors)\n",
    "         \n",
    "\n",
    "##Leyenda en el eje y\n",
    "plt.ylabel('Centro Médico')\n",
    "\n",
    "##Leyenda en el eje x\n",
    "plt.xlabel(\"Cantidad de personas\")\n",
    "\n",
    "##Titulo del Grafico\n",
    "plt.title(\"Cantidad de Personas según Centro Médico\")\n",
    "\n",
    "plt.show()"
   ]
  },
  {
   "cell_type": "markdown",
   "id": "16259c68",
   "metadata": {},
   "source": [
    "<h4 style=\"color:  #0e665e\">4.2.19 Plazo Promedio de Espera según Hospital</h4>\n",
    "\n",
    "<p>Se genera la estimación del plazo promedio de espera por establecimiento de salud, con el propósito de identificar en cual establecimiento se concentra la mayor cantidad de personas, con el mayor tiempo de espera por una operación</p>"
   ]
  },
  {
   "cell_type": "code",
   "execution_count": 138,
   "id": "4b68d04b",
   "metadata": {},
   "outputs": [
    {
     "data": {
      "text/html": [
       "<div>\n",
       "<style scoped>\n",
       "    .dataframe tbody tr th:only-of-type {\n",
       "        vertical-align: middle;\n",
       "    }\n",
       "\n",
       "    .dataframe tbody tr th {\n",
       "        vertical-align: top;\n",
       "    }\n",
       "\n",
       "    .dataframe thead th {\n",
       "        text-align: right;\n",
       "    }\n",
       "</style>\n",
       "<table border=\"1\" class=\"dataframe\">\n",
       "  <thead>\n",
       "    <tr style=\"text-align: right;\">\n",
       "      <th></th>\n",
       "      <th>idUtle</th>\n",
       "    </tr>\n",
       "    <tr>\n",
       "      <th>up</th>\n",
       "      <th></th>\n",
       "    </tr>\n",
       "  </thead>\n",
       "  <tbody>\n",
       "    <tr>\n",
       "      <th>2502</th>\n",
       "      <td>8674</td>\n",
       "    </tr>\n",
       "    <tr>\n",
       "      <th>2503</th>\n",
       "      <td>6915</td>\n",
       "    </tr>\n",
       "    <tr>\n",
       "      <th>2555</th>\n",
       "      <td>1699</td>\n",
       "    </tr>\n",
       "    <tr>\n",
       "      <th>2504</th>\n",
       "      <td>172</td>\n",
       "    </tr>\n",
       "  </tbody>\n",
       "</table>\n",
       "</div>"
      ],
      "text/plain": [
       "      idUtle\n",
       "up          \n",
       "2502    8674\n",
       "2503    6915\n",
       "2555    1699\n",
       "2504     172"
      ]
     },
     "execution_count": 138,
     "metadata": {},
     "output_type": "execute_result"
    }
   ],
   "source": [
    "gfch03 = in_region5.groupby(['up']).count() #centroMedico\n",
    "gfch03 = gfch03.iloc[:,:1]\n",
    "tempGFch02 = gfch03.sort_values('idUtle',ascending=False)\n",
    "tempGFch02"
   ]
  },
  {
   "cell_type": "code",
   "execution_count": 139,
   "id": "6aba0338",
   "metadata": {},
   "outputs": [
    {
     "name": "stdout",
     "output_type": "stream",
     "text": [
      "Empty DataFrame\n",
      "Columns: [Unidad, PlazoPromedio]\n",
      "Index: []\n"
     ]
    }
   ],
   "source": [
    "dfPlazosCH = pd.DataFrame()\n",
    "dfPlazosCH['Unidad'] = None\n",
    "dfPlazosCH['PlazoPromedio'] = None\n",
    "print(dfPlazosCH)"
   ]
  },
  {
   "cell_type": "code",
   "execution_count": 140,
   "id": "61c22a75",
   "metadata": {},
   "outputs": [
    {
     "name": "stdout",
     "output_type": "stream",
     "text": [
      "Promedio del Plazo de Espera H. Upala:  189.2674418604651\n"
     ]
    }
   ],
   "source": [
    "in_2504 = in_region5['up'] == 2504\n",
    "in_2504 = in_region5[in_2504]\n",
    "avg_plazo_2504 = in_2504[\"plazoEspera\"].astype(\"float\").mean(axis=0)\n",
    "print (\"Promedio del Plazo de Espera H. Upala: \", avg_plazo_2504)"
   ]
  },
  {
   "cell_type": "code",
   "execution_count": 141,
   "id": "ba811fb7",
   "metadata": {},
   "outputs": [
    {
     "name": "stdout",
     "output_type": "stream",
     "text": [
      "Promedio del Plazo de Espera CAIS Cañas:  230.49381989405532\n"
     ]
    }
   ],
   "source": [
    "in_2555 = in_region5['up'] == 2555\n",
    "in_2555 = in_region5[in_2555]\n",
    "avg_plazo_2555 = in_2555[\"plazoEspera\"].astype(\"float\").mean(axis=0)\n",
    "print (\"Promedio del Plazo de Espera CAIS Cañas: \", avg_plazo_2555)"
   ]
  },
  {
   "cell_type": "code",
   "execution_count": 142,
   "id": "32c072dd",
   "metadata": {},
   "outputs": [
    {
     "name": "stdout",
     "output_type": "stream",
     "text": [
      "Promedio del Plazo de Espera H. La Anexión:  408.51323210412147\n"
     ]
    }
   ],
   "source": [
    "in_2503 = in_region5['up'] == 2503\n",
    "in_2503 = in_region5[in_2503]\n",
    "avg_plazo_2503 = in_2503[\"plazoEspera\"].astype(\"float\").mean(axis=0)\n",
    "print (\"Promedio del Plazo de Espera H. La Anexión: \", avg_plazo_2503)"
   ]
  },
  {
   "cell_type": "code",
   "execution_count": 143,
   "id": "131278d2",
   "metadata": {},
   "outputs": [
    {
     "name": "stdout",
     "output_type": "stream",
     "text": [
      "Promedio del Plazo de Espera H. Liberia:  483.78222273460915\n"
     ]
    }
   ],
   "source": [
    "in_2502 = in_region5['up'] == 2502\n",
    "in_2502 = in_region5[in_2502]\n",
    "avg_plazo_2502 = in_2502[\"plazoEspera\"].astype(\"float\").mean(axis=0)\n",
    "print (\"Promedio del Plazo de Espera H. Liberia: \", avg_plazo_2502)"
   ]
  },
  {
   "cell_type": "code",
   "execution_count": 167,
   "id": "88c13ea2",
   "metadata": {},
   "outputs": [
    {
     "data": {
      "text/html": [
       "<div>\n",
       "<style scoped>\n",
       "    .dataframe tbody tr th:only-of-type {\n",
       "        vertical-align: middle;\n",
       "    }\n",
       "\n",
       "    .dataframe tbody tr th {\n",
       "        vertical-align: top;\n",
       "    }\n",
       "\n",
       "    .dataframe thead th {\n",
       "        text-align: right;\n",
       "    }\n",
       "</style>\n",
       "<table border=\"1\" class=\"dataframe\">\n",
       "  <thead>\n",
       "    <tr style=\"text-align: right;\">\n",
       "      <th></th>\n",
       "      <th>Unidad</th>\n",
       "      <th>PlazoPromedio</th>\n",
       "    </tr>\n",
       "  </thead>\n",
       "  <tbody>\n",
       "    <tr>\n",
       "      <th>3</th>\n",
       "      <td>H. ENRIQUE BALTODANO</td>\n",
       "      <td>483.782223</td>\n",
       "    </tr>\n",
       "    <tr>\n",
       "      <th>2</th>\n",
       "      <td>H. LA ANEXION</td>\n",
       "      <td>408.513232</td>\n",
       "    </tr>\n",
       "    <tr>\n",
       "      <th>1</th>\n",
       "      <td>CAIS CAÑAS</td>\n",
       "      <td>230.493820</td>\n",
       "    </tr>\n",
       "    <tr>\n",
       "      <th>0</th>\n",
       "      <td>H. UPALA</td>\n",
       "      <td>189.267442</td>\n",
       "    </tr>\n",
       "  </tbody>\n",
       "</table>\n",
       "</div>"
      ],
      "text/plain": [
       "                 Unidad  PlazoPromedio\n",
       "3  H. ENRIQUE BALTODANO     483.782223\n",
       "2         H. LA ANEXION     408.513232\n",
       "1            CAIS CAÑAS     230.493820\n",
       "0              H. UPALA     189.267442"
      ]
     },
     "execution_count": 167,
     "metadata": {},
     "output_type": "execute_result"
    }
   ],
   "source": [
    "up = ['H. UPALA', 'CAIS CAÑAS', 'H. LA ANEXION', 'H. ENRIQUE BALTODANO']\n",
    "plazo = [avg_plazo_2504, avg_plazo_2555,avg_plazo_2503,avg_plazo_2502]\n",
    "\n",
    "dfPlazosCH['Unidad'] = up\n",
    "dfPlazosCH['PlazoPromedio'] = plazo\n",
    "\n",
    "dfPlazosCH = dfPlazosCH.sort_values('PlazoPromedio',ascending=False)\n",
    "dfPlazosCH"
   ]
  },
  {
   "cell_type": "code",
   "execution_count": 168,
   "id": "9f16a032",
   "metadata": {},
   "outputs": [
    {
     "data": {
      "image/png": "[encoded data removed]",
      "text/plain": [
       "<Figure size 720x360 with 1 Axes>"
      ]
     },
     "metadata": {
      "needs_background": "light"
     },
     "output_type": "display_data"
    }
   ],
   "source": [
    "eje_x = dfPlazosCH['Unidad'].tolist()\n",
    "eje_y = dfPlazosCH['PlazoPromedio'].tolist()\n",
    "\n",
    "plt.figure(figsize=(10,5))\n",
    "##Creamos la Grafica\n",
    "bar_colors = ['#82da6e']\n",
    "plt.barh(eje_x, eje_y,color=bar_colors)\n",
    "         \n",
    "\n",
    "##Leyenda en el eje y\n",
    "plt.ylabel('Centro Médico')\n",
    "\n",
    "##Leyenda en el eje x\n",
    "plt.xlabel(\"Cantidad de personas\")\n",
    "\n",
    "##Titulo del Grafico\n",
    "plt.title(\"Cantidad de Personas según Centro Médico\")\n",
    "\n",
    "plt.show()"
   ]
  },
  {
   "cell_type": "markdown",
   "id": "76b5eae0",
   "metadata": {},
   "source": [
    "<h4 style=\"color:  #0e665e\">4.2.20 Lista de Espera del H. Enrique Baltodano</h4>\n",
    "\n",
    "<p>Se genera la estimación del plazo promedio de espera por establecimiento de salud, con el propósito de identificar en cual establecimiento se concentra la mayor cantidad de personas, con el mayor tiempo de espera por una operación</p>"
   ]
  },
  {
   "cell_type": "code",
   "execution_count": 146,
   "id": "91ed2910",
   "metadata": {},
   "outputs": [
    {
     "data": {
      "text/html": [
       "<div>\n",
       "<style scoped>\n",
       "    .dataframe tbody tr th:only-of-type {\n",
       "        vertical-align: middle;\n",
       "    }\n",
       "\n",
       "    .dataframe tbody tr th {\n",
       "        vertical-align: top;\n",
       "    }\n",
       "\n",
       "    .dataframe thead th {\n",
       "        text-align: right;\n",
       "    }\n",
       "</style>\n",
       "<table border=\"1\" class=\"dataframe\">\n",
       "  <thead>\n",
       "    <tr style=\"text-align: right;\">\n",
       "      <th></th>\n",
       "      <th>idUtle</th>\n",
       "      <th>up</th>\n",
       "    </tr>\n",
       "    <tr>\n",
       "      <th>dscDiagnostico</th>\n",
       "      <th></th>\n",
       "      <th></th>\n",
       "    </tr>\n",
       "  </thead>\n",
       "  <tbody>\n",
       "    <tr>\n",
       "      <th>Catarata, no especificada</th>\n",
       "      <td>709</td>\n",
       "      <td>709</td>\n",
       "    </tr>\n",
       "    <tr>\n",
       "      <th>Calculo de la vesicula biliar sin colecistitis</th>\n",
       "      <td>542</td>\n",
       "      <td>542</td>\n",
       "    </tr>\n",
       "    <tr>\n",
       "      <th>Catarata senil nuclear</th>\n",
       "      <td>512</td>\n",
       "      <td>512</td>\n",
       "    </tr>\n",
       "    <tr>\n",
       "      <th>Pterigion</th>\n",
       "      <td>463</td>\n",
       "      <td>463</td>\n",
       "    </tr>\n",
       "    <tr>\n",
       "      <th>Hiperplasia de la prostata</th>\n",
       "      <td>449</td>\n",
       "      <td>449</td>\n",
       "    </tr>\n",
       "    <tr>\n",
       "      <th>Venas varicosas de los miembros inferiores sin ·lcera ni inflamacion</th>\n",
       "      <td>403</td>\n",
       "      <td>403</td>\n",
       "    </tr>\n",
       "    <tr>\n",
       "      <th>Hernia umbilical sin obstruccion ni gangrena</th>\n",
       "      <td>325</td>\n",
       "      <td>325</td>\n",
       "    </tr>\n",
       "    <tr>\n",
       "      <th>Hernia inguinal unilateral o no especificada, sin obstruccion ni gangrena</th>\n",
       "      <td>319</td>\n",
       "      <td>319</td>\n",
       "    </tr>\n",
       "    <tr>\n",
       "      <th>Prepucio redundante, fimosis y parafimosis</th>\n",
       "      <td>171</td>\n",
       "      <td>171</td>\n",
       "    </tr>\n",
       "    <tr>\n",
       "      <th>Otras formas especificadas de catarata</th>\n",
       "      <td>135</td>\n",
       "      <td>135</td>\n",
       "    </tr>\n",
       "  </tbody>\n",
       "</table>\n",
       "</div>"
      ],
      "text/plain": [
       "                                                    idUtle   up\n",
       "dscDiagnostico                                                 \n",
       "Catarata, no especificada                              709  709\n",
       "Calculo de la vesicula biliar sin colecistitis         542  542\n",
       "Catarata senil nuclear                                 512  512\n",
       "Pterigion                                              463  463\n",
       "Hiperplasia de la prostata                             449  449\n",
       "Venas varicosas de los miembros inferiores sin ...     403  403\n",
       "Hernia umbilical sin obstruccion ni gangrena           325  325\n",
       "Hernia inguinal unilateral o no especificada, s...     319  319\n",
       "Prepucio redundante, fimosis y parafimosis             171  171\n",
       "Otras formas especificadas de catarata                 135  135"
      ]
     },
     "execution_count": 146,
     "metadata": {},
     "output_type": "execute_result"
    }
   ],
   "source": [
    "gfch04 = in_2502.groupby(['dscDiagnostico']).count()\n",
    "gfch04= gfch04.iloc[:,:2]\n",
    "tempGFch02=gfch04.sort_values('idUtle',ascending=False)\n",
    "top10DxHL = tempGFch02.head(10)\n",
    "top10DxHL"
   ]
  },
  {
   "cell_type": "markdown",
   "id": "3d4ea058",
   "metadata": {},
   "source": [
    "<h4 style=\"color: #00a0ff\">4.2.21 Lista de Espera de la Region \"HUETAR ATLANTICA\"</h4>\n",
    "\n",
    "<p>Se realiza la agrupación de datos considerando únicamente los establecimientos médicos de la region Huetar Atlantica, de manera que se pueda comprender donde está la mayor concentración de casos para los establecimientos</p>\n",
    "</br>\n",
    "<img src=\"DRIPSHA.png\">"
   ]
  },
  {
   "cell_type": "code",
   "execution_count": 147,
   "id": "9094ab81",
   "metadata": {},
   "outputs": [
    {
     "data": {
      "text/plain": [
       "(8305, 24)"
      ]
     },
     "execution_count": 147,
     "metadata": {},
     "output_type": "execute_result"
    }
   ],
   "source": [
    "in_region6 = dfPendientes['region'] == 'HUETAR ALTLANTICA'\n",
    "in_region6 = dfPendientes[in_region6]\n",
    "in_region6.shape"
   ]
  },
  {
   "cell_type": "code",
   "execution_count": 150,
   "id": "47ad05a4",
   "metadata": {},
   "outputs": [
    {
     "data": {
      "text/html": [
       "<div>\n",
       "<style scoped>\n",
       "    .dataframe tbody tr th:only-of-type {\n",
       "        vertical-align: middle;\n",
       "    }\n",
       "\n",
       "    .dataframe tbody tr th {\n",
       "        vertical-align: top;\n",
       "    }\n",
       "\n",
       "    .dataframe thead th {\n",
       "        text-align: right;\n",
       "    }\n",
       "</style>\n",
       "<table border=\"1\" class=\"dataframe\">\n",
       "  <thead>\n",
       "    <tr style=\"text-align: right;\">\n",
       "      <th></th>\n",
       "      <th>idUtle</th>\n",
       "    </tr>\n",
       "    <tr>\n",
       "      <th>dscDiagnostico</th>\n",
       "      <th></th>\n",
       "    </tr>\n",
       "  </thead>\n",
       "  <tbody>\n",
       "    <tr>\n",
       "      <th>Catarata, no especificada</th>\n",
       "      <td>2108</td>\n",
       "    </tr>\n",
       "    <tr>\n",
       "      <th>Pterigion</th>\n",
       "      <td>1677</td>\n",
       "    </tr>\n",
       "    <tr>\n",
       "      <th>Calculo de la vesicula biliar sin colecistitis</th>\n",
       "      <td>1200</td>\n",
       "    </tr>\n",
       "    <tr>\n",
       "      <th>Esterilización</th>\n",
       "      <td>879</td>\n",
       "    </tr>\n",
       "    <tr>\n",
       "      <th>Desviacion del tabique nasal</th>\n",
       "      <td>820</td>\n",
       "    </tr>\n",
       "    <tr>\n",
       "      <th>Hernia inguinal unilateral o no especificada, sin obstruccion ni gangrena</th>\n",
       "      <td>624</td>\n",
       "    </tr>\n",
       "    <tr>\n",
       "      <th>Trastorno interno de la rodilla, no especificado</th>\n",
       "      <td>567</td>\n",
       "    </tr>\n",
       "    <tr>\n",
       "      <th>Gonartrosis, no especificada</th>\n",
       "      <td>520</td>\n",
       "    </tr>\n",
       "    <tr>\n",
       "      <th>Hiperplasia de la prostata</th>\n",
       "      <td>433</td>\n",
       "    </tr>\n",
       "    <tr>\n",
       "      <th>Hernia umbilical sin obstruccion ni gangrena</th>\n",
       "      <td>408</td>\n",
       "    </tr>\n",
       "  </tbody>\n",
       "</table>\n",
       "</div>"
      ],
      "text/plain": [
       "                                                    idUtle\n",
       "dscDiagnostico                                            \n",
       "Catarata, no especificada                             2108\n",
       "Pterigion                                             1677\n",
       "Calculo de la vesicula biliar sin colecistitis        1200\n",
       "Esterilización                                         879\n",
       "Desviacion del tabique nasal                           820\n",
       "Hernia inguinal unilateral o no especificada, s...     624\n",
       "Trastorno interno de la rodilla, no especificado       567\n",
       "Gonartrosis, no especificada                           520\n",
       "Hiperplasia de la prostata                             433\n",
       "Hernia umbilical sin obstruccion ni gangrena           408"
      ]
     },
     "execution_count": 150,
     "metadata": {},
     "output_type": "execute_result"
    }
   ],
   "source": [
    "gfha01 = in_region4.groupby(['dscDiagnostico']).count()\n",
    "gfha01 = gfha01.iloc[:,:1]\n",
    "tempGFha = gfha01.sort_values('idUtle',ascending=False)\n",
    "top10Dxha = tempGFha.head(10)\n",
    "top10Dxha"
   ]
  },
  {
   "cell_type": "markdown",
   "id": "99033a87",
   "metadata": {},
   "source": [
    "<h4 style=\"color: #00a0ff\">4.2.22 Concentración de la Lista de Espera según Hospital</h4>\n",
    "\n",
    "<p>Se obtiene la distribución de la lista de espera por hospital, con el propósito de conocer en cual establecimiento se concentra la mayor cantidad de listas de espera quirurgica</p>"
   ]
  },
  {
   "cell_type": "code",
   "execution_count": 151,
   "id": "ab15a3fb",
   "metadata": {},
   "outputs": [
    {
     "data": {
      "text/html": [
       "<div>\n",
       "<style scoped>\n",
       "    .dataframe tbody tr th:only-of-type {\n",
       "        vertical-align: middle;\n",
       "    }\n",
       "\n",
       "    .dataframe tbody tr th {\n",
       "        vertical-align: top;\n",
       "    }\n",
       "\n",
       "    .dataframe thead th {\n",
       "        text-align: right;\n",
       "    }\n",
       "</style>\n",
       "<table border=\"1\" class=\"dataframe\">\n",
       "  <thead>\n",
       "    <tr style=\"text-align: right;\">\n",
       "      <th></th>\n",
       "      <th>idUtle</th>\n",
       "      <th>up</th>\n",
       "    </tr>\n",
       "    <tr>\n",
       "      <th>centroMedico</th>\n",
       "      <th></th>\n",
       "      <th></th>\n",
       "    </tr>\n",
       "  </thead>\n",
       "  <tbody>\n",
       "    <tr>\n",
       "      <th>H. TONY FACIO</th>\n",
       "      <td>4709</td>\n",
       "      <td>4709</td>\n",
       "    </tr>\n",
       "    <tr>\n",
       "      <th>H. GUAPILES</th>\n",
       "      <td>3149</td>\n",
       "      <td>3149</td>\n",
       "    </tr>\n",
       "    <tr>\n",
       "      <th>A.S SIQUIRRES</th>\n",
       "      <td>446</td>\n",
       "      <td>447</td>\n",
       "    </tr>\n",
       "  </tbody>\n",
       "</table>\n",
       "</div>"
      ],
      "text/plain": [
       "               idUtle    up\n",
       "centroMedico               \n",
       "H. TONY FACIO    4709  4709\n",
       "H. GUAPILES      3149  3149\n",
       "A.S SIQUIRRES     446   447"
      ]
     },
     "execution_count": 151,
     "metadata": {},
     "output_type": "execute_result"
    }
   ],
   "source": [
    "gfha02 = in_region6.groupby(['centroMedico']).count() #centroMedico\n",
    "gfha02 = gfha02.iloc[:,:2]\n",
    "tempGFha1 = gfha02.sort_values('up',ascending=False)\n",
    "tempGFha1"
   ]
  },
  {
   "cell_type": "code",
   "execution_count": 152,
   "id": "21deb9bf",
   "metadata": {},
   "outputs": [
    {
     "data": {
      "image/png": "[encoded data removed]",
      "text/plain": [
       "<Figure size 720x360 with 1 Axes>"
      ]
     },
     "metadata": {
      "needs_background": "light"
     },
     "output_type": "display_data"
    }
   ],
   "source": [
    "eje_x = tempGFha1.index.tolist()\n",
    "eje_y = tempGFha1['up'].tolist()\n",
    "\n",
    "plt.figure(figsize=(10,5))\n",
    "##Creamos la Grafica\n",
    "bar_colors = ['#a6dbff']\n",
    "plt.barh(eje_x, eje_y,color=bar_colors)\n",
    "         \n",
    "\n",
    "##Leyenda en el eje y\n",
    "plt.ylabel('Centro Médico')\n",
    "\n",
    "##Leyenda en el eje x\n",
    "plt.xlabel(\"Cantidad de personas\")\n",
    "\n",
    "##Titulo del Grafico\n",
    "plt.title(\"Cantidad de Personas según Centro Médico\")\n",
    "\n",
    "plt.show()"
   ]
  },
  {
   "cell_type": "markdown",
   "id": "17baca64",
   "metadata": {},
   "source": [
    "<h4 style=\"color:  #00a0ff\">4.2.23 Plazo Promedio de Espera según Hospital</h4>\n",
    "\n",
    "<p>Se genera la estimación del plazo promedio de espera por establecimiento de salud, con el propósito de identificar en cual establecimiento se concentra la mayor cantidad de personas, con el mayor tiempo de espera por una operación</p>"
   ]
  },
  {
   "cell_type": "code",
   "execution_count": 153,
   "id": "28ff70b1",
   "metadata": {},
   "outputs": [
    {
     "name": "stdout",
     "output_type": "stream",
     "text": [
      "Empty DataFrame\n",
      "Columns: [Unidad, PlazoPromedio]\n",
      "Index: []\n"
     ]
    }
   ],
   "source": [
    "dfPlazosHA = pd.DataFrame()\n",
    "dfPlazosHA['Unidad'] = None\n",
    "dfPlazosHA['PlazoPromedio'] = None\n",
    "print(dfPlazosHA)"
   ]
  },
  {
   "cell_type": "code",
   "execution_count": 156,
   "id": "e01f0ca4",
   "metadata": {},
   "outputs": [
    {
     "data": {
      "text/html": [
       "<div>\n",
       "<style scoped>\n",
       "    .dataframe tbody tr th:only-of-type {\n",
       "        vertical-align: middle;\n",
       "    }\n",
       "\n",
       "    .dataframe tbody tr th {\n",
       "        vertical-align: top;\n",
       "    }\n",
       "\n",
       "    .dataframe thead th {\n",
       "        text-align: right;\n",
       "    }\n",
       "</style>\n",
       "<table border=\"1\" class=\"dataframe\">\n",
       "  <thead>\n",
       "    <tr style=\"text-align: right;\">\n",
       "      <th></th>\n",
       "      <th>idUtle</th>\n",
       "    </tr>\n",
       "    <tr>\n",
       "      <th>up</th>\n",
       "      <th></th>\n",
       "    </tr>\n",
       "  </thead>\n",
       "  <tbody>\n",
       "    <tr>\n",
       "      <th>2601</th>\n",
       "      <td>4709</td>\n",
       "    </tr>\n",
       "    <tr>\n",
       "      <th>2602</th>\n",
       "      <td>3149</td>\n",
       "    </tr>\n",
       "    <tr>\n",
       "      <th>2631</th>\n",
       "      <td>446</td>\n",
       "    </tr>\n",
       "  </tbody>\n",
       "</table>\n",
       "</div>"
      ],
      "text/plain": [
       "      idUtle\n",
       "up          \n",
       "2601    4709\n",
       "2602    3149\n",
       "2631     446"
      ]
     },
     "execution_count": 156,
     "metadata": {},
     "output_type": "execute_result"
    }
   ],
   "source": [
    "gfha03 = in_region6.groupby(['up']).count() #centroMedico\n",
    "gfha03 = gfha03.iloc[:,:1]\n",
    "tempGFHA02 = gfha03.sort_values('idUtle',ascending=False)\n",
    "tempGFHA02"
   ]
  },
  {
   "cell_type": "code",
   "execution_count": 158,
   "id": "5a785f5c",
   "metadata": {},
   "outputs": [
    {
     "name": "stdout",
     "output_type": "stream",
     "text": [
      "Promedio del Plazo de Espera H. Tony Facio:  424.6604374601826\n"
     ]
    }
   ],
   "source": [
    "in_2601 = in_region6['up'] == 2601\n",
    "in_2601 = in_region6[in_2601]\n",
    "avg_plazo_2601 = in_2601[\"plazoEspera\"].astype(\"float\").mean(axis=0)\n",
    "print (\"Promedio del Plazo de Espera H. Tony Facio: \", avg_plazo_2601)"
   ]
  },
  {
   "cell_type": "code",
   "execution_count": 159,
   "id": "5830d4c3",
   "metadata": {},
   "outputs": [
    {
     "name": "stdout",
     "output_type": "stream",
     "text": [
      "Promedio del Plazo de Espera H. de Guapiles:  392.02762781835503\n"
     ]
    }
   ],
   "source": [
    "in_2602 = in_region6['up'] == 2602\n",
    "in_2602 = in_region6[in_2602]\n",
    "avg_plazo_2602 = in_2602[\"plazoEspera\"].astype(\"float\").mean(axis=0)\n",
    "print (\"Promedio del Plazo de Espera H. de Guapiles: \", avg_plazo_2602)"
   ]
  },
  {
   "cell_type": "code",
   "execution_count": 161,
   "id": "2907e767",
   "metadata": {},
   "outputs": [
    {
     "name": "stdout",
     "output_type": "stream",
     "text": [
      "Promedio del Plazo de Espera H. de Guapiles:  111.02460850111856\n"
     ]
    }
   ],
   "source": [
    "in_2631 = in_region6['up'] == 2631\n",
    "in_2631 = in_region6[in_2631]\n",
    "avg_plazo_2631 = in_2631[\"plazoEspera\"].astype(\"float\").mean(axis=0)\n",
    "print (\"Promedio del Plazo de Espera H. de Guapiles: \", avg_plazo_2631)"
   ]
  },
  {
   "cell_type": "code",
   "execution_count": 165,
   "id": "0941c21c",
   "metadata": {},
   "outputs": [
    {
     "data": {
      "text/html": [
       "<div>\n",
       "<style scoped>\n",
       "    .dataframe tbody tr th:only-of-type {\n",
       "        vertical-align: middle;\n",
       "    }\n",
       "\n",
       "    .dataframe tbody tr th {\n",
       "        vertical-align: top;\n",
       "    }\n",
       "\n",
       "    .dataframe thead th {\n",
       "        text-align: right;\n",
       "    }\n",
       "</style>\n",
       "<table border=\"1\" class=\"dataframe\">\n",
       "  <thead>\n",
       "    <tr style=\"text-align: right;\">\n",
       "      <th></th>\n",
       "      <th>Unidad</th>\n",
       "      <th>PlazoPromedio</th>\n",
       "    </tr>\n",
       "  </thead>\n",
       "  <tbody>\n",
       "    <tr>\n",
       "      <th>0</th>\n",
       "      <td>H. TONY FACIO</td>\n",
       "      <td>424.660437</td>\n",
       "    </tr>\n",
       "    <tr>\n",
       "      <th>1</th>\n",
       "      <td>H. GUAPILES</td>\n",
       "      <td>392.027628</td>\n",
       "    </tr>\n",
       "    <tr>\n",
       "      <th>2</th>\n",
       "      <td>CAIS SIQUIRRES</td>\n",
       "      <td>111.024609</td>\n",
       "    </tr>\n",
       "  </tbody>\n",
       "</table>\n",
       "</div>"
      ],
      "text/plain": [
       "           Unidad  PlazoPromedio\n",
       "0   H. TONY FACIO     424.660437\n",
       "1     H. GUAPILES     392.027628\n",
       "2  CAIS SIQUIRRES     111.024609"
      ]
     },
     "execution_count": 165,
     "metadata": {},
     "output_type": "execute_result"
    }
   ],
   "source": [
    "up = ['H. TONY FACIO', 'H. GUAPILES', 'CAIS SIQUIRRES']\n",
    "plazo = [avg_plazo_2601, avg_plazo_2602, avg_plazo_2631]\n",
    "\n",
    "dfPlazosHA['Unidad'] = up\n",
    "dfPlazosHA['PlazoPromedio'] = plazo\n",
    "\n",
    "dfPlazosHA  = dfPlazosHA.sort_values('PlazoPromedio',ascending=False)\n",
    "dfPlazosHA"
   ]
  },
  {
   "cell_type": "code",
   "execution_count": 166,
   "id": "0abd97de",
   "metadata": {},
   "outputs": [
    {
     "data": {
      "image/png": "[encoded data removed]",
      "text/plain": [
       "<Figure size 720x360 with 1 Axes>"
      ]
     },
     "metadata": {
      "needs_background": "light"
     },
     "output_type": "display_data"
    }
   ],
   "source": [
    "eje_x = dfPlazosHA['Unidad'].tolist()\n",
    "eje_y = dfPlazosHA['PlazoPromedio'].tolist()\n",
    "\n",
    "plt.figure(figsize=(10,5))\n",
    "##Creamos la Grafica\n",
    "bar_colors = ['#a6dbff']\n",
    "plt.barh(eje_x, eje_y,color=bar_colors)\n",
    "         \n",
    "\n",
    "##Leyenda en el eje y\n",
    "plt.ylabel('Centro Médico')\n",
    "\n",
    "##Leyenda en el eje x\n",
    "plt.xlabel(\"Cantidad de personas\")\n",
    "\n",
    "##Titulo del Grafico\n",
    "plt.title(\"Cantidad de Personas según Centro Médico\")\n",
    "\n",
    "plt.show()"
   ]
  },
  {
   "cell_type": "markdown",
   "id": "94621a75",
   "metadata": {},
   "source": [
    "<h4 style=\"color:  #00a0ff\">4.2.20 Lista de Espera del H. Tony Facio</h4>\n",
    "\n",
    "<p>Se genera la estimación del plazo promedio de espera por establecimiento de salud, con el propósito de identificar en cual establecimiento se concentra la mayor cantidad de personas, con el mayor tiempo de espera por una operación</p>"
   ]
  },
  {
   "cell_type": "code",
   "execution_count": 172,
   "id": "d0c119bc",
   "metadata": {},
   "outputs": [
    {
     "data": {
      "text/html": [
       "<div>\n",
       "<style scoped>\n",
       "    .dataframe tbody tr th:only-of-type {\n",
       "        vertical-align: middle;\n",
       "    }\n",
       "\n",
       "    .dataframe tbody tr th {\n",
       "        vertical-align: top;\n",
       "    }\n",
       "\n",
       "    .dataframe thead th {\n",
       "        text-align: right;\n",
       "    }\n",
       "</style>\n",
       "<table border=\"1\" class=\"dataframe\">\n",
       "  <thead>\n",
       "    <tr style=\"text-align: right;\">\n",
       "      <th></th>\n",
       "      <th>idUtle</th>\n",
       "      <th>up</th>\n",
       "    </tr>\n",
       "    <tr>\n",
       "      <th>dscDiagnostico</th>\n",
       "      <th></th>\n",
       "      <th></th>\n",
       "    </tr>\n",
       "  </thead>\n",
       "  <tbody>\n",
       "    <tr>\n",
       "      <th>Catarata, no especificada</th>\n",
       "      <td>405</td>\n",
       "      <td>405</td>\n",
       "    </tr>\n",
       "    <tr>\n",
       "      <th>Calculo de la vesicula biliar sin colecistitis</th>\n",
       "      <td>380</td>\n",
       "      <td>380</td>\n",
       "    </tr>\n",
       "    <tr>\n",
       "      <th>Esterilización</th>\n",
       "      <td>371</td>\n",
       "      <td>371</td>\n",
       "    </tr>\n",
       "    <tr>\n",
       "      <th>Pterigion</th>\n",
       "      <td>368</td>\n",
       "      <td>368</td>\n",
       "    </tr>\n",
       "    <tr>\n",
       "      <th>Hernia inguinal unilateral o no especificada, sin obstruccion ni gangrena</th>\n",
       "      <td>271</td>\n",
       "      <td>271</td>\n",
       "    </tr>\n",
       "    <tr>\n",
       "      <th>Hiperplasia de la prostata</th>\n",
       "      <td>237</td>\n",
       "      <td>237</td>\n",
       "    </tr>\n",
       "    <tr>\n",
       "      <th>Hernia umbilical sin obstruccion ni gangrena</th>\n",
       "      <td>204</td>\n",
       "      <td>204</td>\n",
       "    </tr>\n",
       "    <tr>\n",
       "      <th>Catarata senil nuclear</th>\n",
       "      <td>199</td>\n",
       "      <td>199</td>\n",
       "    </tr>\n",
       "    <tr>\n",
       "      <th>Leiomioma del ·tero, sin otra especificacion</th>\n",
       "      <td>141</td>\n",
       "      <td>141</td>\n",
       "    </tr>\n",
       "    <tr>\n",
       "      <th>Prepucio redundante, fimosis y parafimosis</th>\n",
       "      <td>117</td>\n",
       "      <td>117</td>\n",
       "    </tr>\n",
       "  </tbody>\n",
       "</table>\n",
       "</div>"
      ],
      "text/plain": [
       "                                                    idUtle   up\n",
       "dscDiagnostico                                                 \n",
       "Catarata, no especificada                              405  405\n",
       "Calculo de la vesicula biliar sin colecistitis         380  380\n",
       "Esterilización                                         371  371\n",
       "Pterigion                                              368  368\n",
       "Hernia inguinal unilateral o no especificada, s...     271  271\n",
       "Hiperplasia de la prostata                             237  237\n",
       "Hernia umbilical sin obstruccion ni gangrena           204  204\n",
       "Catarata senil nuclear                                 199  199\n",
       "Leiomioma del ·tero, sin otra especificacion           141  141\n",
       "Prepucio redundante, fimosis y parafimosis             117  117"
      ]
     },
     "execution_count": 172,
     "metadata": {},
     "output_type": "execute_result"
    }
   ],
   "source": [
    "gfha04     = in_2601.groupby(['dscDiagnostico']).count()\n",
    "gfha04     =  gfha04.iloc[:,:2]\n",
    "tempGFha02 =  gfha04.sort_values('idUtle',ascending=False)\n",
    "top10DxHTF = tempGFha02.head(10)\n",
    "top10DxHTF"
   ]
  },
  {
   "cell_type": "markdown",
   "id": "5b0602a9",
   "metadata": {},
   "source": [
    "<h4 style=\"color: #171934\">4.2.25 Lista de Espera de la Region \"HUETAR NORTE\"</h4>\n",
    "\n",
    "<p>Se realiza la agrupación de datos considerando únicamente los establecimientos médicos de la region Huetar Norte, de manera que se pueda comprender donde está la mayor concentración de casos para los establecimientos</p>\n",
    "</br>\n",
    "<img src=\"DRIPSHN.png\">\n"
   ]
  },
  {
   "cell_type": "code",
   "execution_count": 173,
   "id": "7f91dc1c",
   "metadata": {},
   "outputs": [
    {
     "data": {
      "text/plain": [
       "(6116, 24)"
      ]
     },
     "execution_count": 173,
     "metadata": {},
     "output_type": "execute_result"
    }
   ],
   "source": [
    "in_region7 = dfPendientes['region'] == 'HUETAR NORTE'\n",
    "in_region7 = dfPendientes[in_region7]\n",
    "in_region7.shape"
   ]
  },
  {
   "cell_type": "code",
   "execution_count": 174,
   "id": "35112116",
   "metadata": {},
   "outputs": [
    {
     "data": {
      "text/html": [
       "<div>\n",
       "<style scoped>\n",
       "    .dataframe tbody tr th:only-of-type {\n",
       "        vertical-align: middle;\n",
       "    }\n",
       "\n",
       "    .dataframe tbody tr th {\n",
       "        vertical-align: top;\n",
       "    }\n",
       "\n",
       "    .dataframe thead th {\n",
       "        text-align: right;\n",
       "    }\n",
       "</style>\n",
       "<table border=\"1\" class=\"dataframe\">\n",
       "  <thead>\n",
       "    <tr style=\"text-align: right;\">\n",
       "      <th></th>\n",
       "      <th>idUtle</th>\n",
       "    </tr>\n",
       "    <tr>\n",
       "      <th>dscDiagnostico</th>\n",
       "      <th></th>\n",
       "    </tr>\n",
       "  </thead>\n",
       "  <tbody>\n",
       "    <tr>\n",
       "      <th>Catarata senil nuclear</th>\n",
       "      <td>636</td>\n",
       "    </tr>\n",
       "    <tr>\n",
       "      <th>Pterigion</th>\n",
       "      <td>535</td>\n",
       "    </tr>\n",
       "    <tr>\n",
       "      <th>Calculo de la vesicula biliar sin colecistitis</th>\n",
       "      <td>482</td>\n",
       "    </tr>\n",
       "    <tr>\n",
       "      <th>Esterilización</th>\n",
       "      <td>416</td>\n",
       "    </tr>\n",
       "    <tr>\n",
       "      <th>Hernia inguinal unilateral o no especificada, sin obstruccion ni gangrena</th>\n",
       "      <td>348</td>\n",
       "    </tr>\n",
       "    <tr>\n",
       "      <th>Catarata senil incipiente</th>\n",
       "      <td>242</td>\n",
       "    </tr>\n",
       "    <tr>\n",
       "      <th>Hernia umbilical sin obstruccion ni gangrena</th>\n",
       "      <td>196</td>\n",
       "    </tr>\n",
       "    <tr>\n",
       "      <th>Catarata, no especificada</th>\n",
       "      <td>104</td>\n",
       "    </tr>\n",
       "    <tr>\n",
       "      <th>Desviacion del tabique nasal</th>\n",
       "      <td>98</td>\n",
       "    </tr>\n",
       "    <tr>\n",
       "      <th>Gonartrosis, no especificada</th>\n",
       "      <td>94</td>\n",
       "    </tr>\n",
       "  </tbody>\n",
       "</table>\n",
       "</div>"
      ],
      "text/plain": [
       "                                                    idUtle\n",
       "dscDiagnostico                                            \n",
       "Catarata senil nuclear                                 636\n",
       "Pterigion                                              535\n",
       "Calculo de la vesicula biliar sin colecistitis         482\n",
       "Esterilización                                         416\n",
       "Hernia inguinal unilateral o no especificada, s...     348\n",
       "Catarata senil incipiente                              242\n",
       "Hernia umbilical sin obstruccion ni gangrena           196\n",
       "Catarata, no especificada                              104\n",
       "Desviacion del tabique nasal                            98\n",
       "Gonartrosis, no especificada                            94"
      ]
     },
     "execution_count": 174,
     "metadata": {},
     "output_type": "execute_result"
    }
   ],
   "source": [
    "gfhn01 = in_region7.groupby(['dscDiagnostico']).count()\n",
    "gfhn01 = gfhn01.iloc[:,:1]\n",
    "temphn01 = gfhn01.sort_values('idUtle',ascending=False)\n",
    "top10Dxhn = temphn01.head(10)\n",
    "top10Dxhn"
   ]
  },
  {
   "cell_type": "markdown",
   "id": "bd61454f",
   "metadata": {},
   "source": [
    "<h4 style=\"color: #171934\">4.2.26 Concentración de la Lista de Espera según Hospital</h4>\n",
    "\n",
    "<p>Se obtiene la distribución de la lista de espera por hospital, con el propósito de conocer en cual establecimiento se concentra la mayor cantidad de listas de espera quirurgica</p>"
   ]
  },
  {
   "cell_type": "code",
   "execution_count": 175,
   "id": "d97ff122",
   "metadata": {},
   "outputs": [
    {
     "data": {
      "text/html": [
       "<div>\n",
       "<style scoped>\n",
       "    .dataframe tbody tr th:only-of-type {\n",
       "        vertical-align: middle;\n",
       "    }\n",
       "\n",
       "    .dataframe tbody tr th {\n",
       "        vertical-align: top;\n",
       "    }\n",
       "\n",
       "    .dataframe thead th {\n",
       "        text-align: right;\n",
       "    }\n",
       "</style>\n",
       "<table border=\"1\" class=\"dataframe\">\n",
       "  <thead>\n",
       "    <tr style=\"text-align: right;\">\n",
       "      <th></th>\n",
       "      <th>idUtle</th>\n",
       "      <th>up</th>\n",
       "    </tr>\n",
       "    <tr>\n",
       "      <th>centroMedico</th>\n",
       "      <th></th>\n",
       "      <th></th>\n",
       "    </tr>\n",
       "  </thead>\n",
       "  <tbody>\n",
       "    <tr>\n",
       "      <th>H. SAN CARLOS</th>\n",
       "      <td>5838</td>\n",
       "      <td>5838</td>\n",
       "    </tr>\n",
       "    <tr>\n",
       "      <th>H. LOS CHILES</th>\n",
       "      <td>278</td>\n",
       "      <td>278</td>\n",
       "    </tr>\n",
       "  </tbody>\n",
       "</table>\n",
       "</div>"
      ],
      "text/plain": [
       "               idUtle    up\n",
       "centroMedico               \n",
       "H. SAN CARLOS    5838  5838\n",
       "H. LOS CHILES     278   278"
      ]
     },
     "execution_count": 175,
     "metadata": {},
     "output_type": "execute_result"
    }
   ],
   "source": [
    "gfhn02 = in_region7.groupby(['centroMedico']).count() #centroMedico\n",
    "gfhn02 = gfhn02.iloc[:,:2]\n",
    "tempGFhn02 = gfhn02.sort_values('up',ascending=False)\n",
    "tempGFhn02"
   ]
  },
  {
   "cell_type": "code",
   "execution_count": 176,
   "id": "c3e0e06e",
   "metadata": {},
   "outputs": [
    {
     "data": {
      "image/png": "[encoded data removed]",
      "text/plain": [
       "<Figure size 720x360 with 1 Axes>"
      ]
     },
     "metadata": {
      "needs_background": "light"
     },
     "output_type": "display_data"
    }
   ],
   "source": [
    "eje_x = tempGFhn02.index.tolist()\n",
    "eje_y = tempGFhn02['up'].tolist()\n",
    "\n",
    "plt.figure(figsize=(10,5))\n",
    "##Creamos la Grafica\n",
    "bar_colors = ['#77767c']\n",
    "plt.barh(eje_x, eje_y,color=bar_colors)\n",
    "         \n",
    "\n",
    "##Leyenda en el eje y\n",
    "plt.ylabel('Centro Médico')\n",
    "\n",
    "##Leyenda en el eje x\n",
    "plt.xlabel(\"Cantidad de personas\")\n",
    "\n",
    "##Titulo del Grafico\n",
    "plt.title(\"Cantidad de Personas según Centro Médico\")\n",
    "\n",
    "plt.show()"
   ]
  },
  {
   "cell_type": "markdown",
   "id": "1ea65f31",
   "metadata": {},
   "source": [
    "<h4 style=\"color:  #171934\">4.2.27 Plazo Promedio de Espera según Hospital</h4>\n",
    "\n",
    "<p>Se genera la estimación del plazo promedio de espera por establecimiento de salud, con el propósito de identificar en cual establecimiento se concentra la mayor cantidad de personas, con el mayor tiempo de espera por una operación</p>"
   ]
  },
  {
   "cell_type": "code",
   "execution_count": 178,
   "id": "5b07554d",
   "metadata": {},
   "outputs": [
    {
     "data": {
      "text/html": [
       "<div>\n",
       "<style scoped>\n",
       "    .dataframe tbody tr th:only-of-type {\n",
       "        vertical-align: middle;\n",
       "    }\n",
       "\n",
       "    .dataframe tbody tr th {\n",
       "        vertical-align: top;\n",
       "    }\n",
       "\n",
       "    .dataframe thead th {\n",
       "        text-align: right;\n",
       "    }\n",
       "</style>\n",
       "<table border=\"1\" class=\"dataframe\">\n",
       "  <thead>\n",
       "    <tr style=\"text-align: right;\">\n",
       "      <th></th>\n",
       "      <th>idUtle</th>\n",
       "    </tr>\n",
       "    <tr>\n",
       "      <th>up</th>\n",
       "      <th></th>\n",
       "    </tr>\n",
       "  </thead>\n",
       "  <tbody>\n",
       "    <tr>\n",
       "      <th>2401</th>\n",
       "      <td>5838</td>\n",
       "    </tr>\n",
       "    <tr>\n",
       "      <th>2402</th>\n",
       "      <td>278</td>\n",
       "    </tr>\n",
       "  </tbody>\n",
       "</table>\n",
       "</div>"
      ],
      "text/plain": [
       "      idUtle\n",
       "up          \n",
       "2401    5838\n",
       "2402     278"
      ]
     },
     "execution_count": 178,
     "metadata": {},
     "output_type": "execute_result"
    }
   ],
   "source": [
    "gfhn03 = in_region7.groupby(['up']).count() #centroMedico\n",
    "gfhn03 = gfhn03.iloc[:,:1]\n",
    "tempGFhn03 = gfhn03.sort_values('idUtle',ascending=False)\n",
    "tempGFhn03"
   ]
  },
  {
   "cell_type": "code",
   "execution_count": 179,
   "id": "8505de53",
   "metadata": {},
   "outputs": [
    {
     "name": "stdout",
     "output_type": "stream",
     "text": [
      "Empty DataFrame\n",
      "Columns: [Unidad, PlazoPromedio]\n",
      "Index: []\n"
     ]
    }
   ],
   "source": [
    "dfPlazosHN = pd.DataFrame()\n",
    "dfPlazosHN['Unidad'] = None\n",
    "dfPlazosHN['PlazoPromedio'] = None\n",
    "print(dfPlazosHN)"
   ]
  },
  {
   "cell_type": "code",
   "execution_count": 181,
   "id": "2e3450b4",
   "metadata": {},
   "outputs": [
    {
     "name": "stdout",
     "output_type": "stream",
     "text": [
      "Promedio del Plazo de Espera H. SAN CARLOS:  248.00942103460088\n"
     ]
    }
   ],
   "source": [
    "in_2401 = in_region7['up'] == 2401\n",
    "in_2401 = in_region7[in_2401]\n",
    "avg_plazo_2401 = in_2401[\"plazoEspera\"].astype(\"float\").mean(axis=0)\n",
    "print (\"Promedio del Plazo de Espera H. SAN CARLOS: \", avg_plazo_2401)"
   ]
  },
  {
   "cell_type": "code",
   "execution_count": 183,
   "id": "b1de2da0",
   "metadata": {},
   "outputs": [
    {
     "name": "stdout",
     "output_type": "stream",
     "text": [
      "Promedio del Plazo de Espera H. LOS CHILES:  97.09712230215827\n"
     ]
    }
   ],
   "source": [
    "in_2402 = in_region7['up'] == 2402\n",
    "in_2402 = in_region7[in_2402]\n",
    "avg_plazo_2402 = in_2402[\"plazoEspera\"].astype(\"float\").mean(axis=0)\n",
    "print (\"Promedio del Plazo de Espera H. LOS CHILES: \", avg_plazo_2402)"
   ]
  },
  {
   "cell_type": "code",
   "execution_count": 184,
   "id": "e4826149",
   "metadata": {},
   "outputs": [
    {
     "data": {
      "text/html": [
       "<div>\n",
       "<style scoped>\n",
       "    .dataframe tbody tr th:only-of-type {\n",
       "        vertical-align: middle;\n",
       "    }\n",
       "\n",
       "    .dataframe tbody tr th {\n",
       "        vertical-align: top;\n",
       "    }\n",
       "\n",
       "    .dataframe thead th {\n",
       "        text-align: right;\n",
       "    }\n",
       "</style>\n",
       "<table border=\"1\" class=\"dataframe\">\n",
       "  <thead>\n",
       "    <tr style=\"text-align: right;\">\n",
       "      <th></th>\n",
       "      <th>Unidad</th>\n",
       "      <th>PlazoPromedio</th>\n",
       "    </tr>\n",
       "  </thead>\n",
       "  <tbody>\n",
       "    <tr>\n",
       "      <th>0</th>\n",
       "      <td>H. SAN CARLOS</td>\n",
       "      <td>248.009421</td>\n",
       "    </tr>\n",
       "    <tr>\n",
       "      <th>1</th>\n",
       "      <td>H. LOS CHILES</td>\n",
       "      <td>97.097122</td>\n",
       "    </tr>\n",
       "  </tbody>\n",
       "</table>\n",
       "</div>"
      ],
      "text/plain": [
       "          Unidad  PlazoPromedio\n",
       "0  H. SAN CARLOS     248.009421\n",
       "1  H. LOS CHILES      97.097122"
      ]
     },
     "execution_count": 184,
     "metadata": {},
     "output_type": "execute_result"
    }
   ],
   "source": [
    "up = ['H. SAN CARLOS', 'H. LOS CHILES']\n",
    "plazo = [avg_plazo_2401, avg_plazo_2402]\n",
    "\n",
    "dfPlazosHN['Unidad'] = up\n",
    "dfPlazosHN['PlazoPromedio'] = plazo\n",
    "\n",
    "dfPlazosHN"
   ]
  },
  {
   "cell_type": "code",
   "execution_count": 185,
   "id": "4f71dca9",
   "metadata": {},
   "outputs": [
    {
     "data": {
      "image/png": "[encoded data removed]",
      "text/plain": [
       "<Figure size 720x360 with 1 Axes>"
      ]
     },
     "metadata": {
      "needs_background": "light"
     },
     "output_type": "display_data"
    }
   ],
   "source": [
    "eje_x = dfPlazosHN['Unidad'].tolist()\n",
    "eje_y = dfPlazosHN['PlazoPromedio'].tolist()\n",
    "\n",
    "plt.figure(figsize=(10,5))\n",
    "##Creamos la Grafica\n",
    "bar_colors = ['#77767c']\n",
    "plt.barh(eje_x, eje_y,color=bar_colors)\n",
    "         \n",
    "\n",
    "##Leyenda en el eje y\n",
    "plt.ylabel('Centro Médico')\n",
    "\n",
    "##Leyenda en el eje x\n",
    "plt.xlabel(\"Cantidad de personas\")\n",
    "\n",
    "##Titulo del Grafico\n",
    "plt.title(\"Cantidad de Personas según Centro Médico\")\n",
    "\n",
    "plt.show()"
   ]
  },
  {
   "cell_type": "markdown",
   "id": "4bb1b935",
   "metadata": {},
   "source": [
    "<h4 style=\"color:  #171934\">4.2.28 Lista de Espera del H. San Carlos</h4>\n",
    "\n",
    "<p>Se genera la estimación del plazo promedio de espera por establecimiento de salud, con el propósito de identificar en cual establecimiento se concentra la mayor cantidad de personas, con el mayor tiempo de espera por una operación</p>"
   ]
  },
  {
   "cell_type": "code",
   "execution_count": 186,
   "id": "ea1be898",
   "metadata": {},
   "outputs": [
    {
     "data": {
      "text/html": [
       "<div>\n",
       "<style scoped>\n",
       "    .dataframe tbody tr th:only-of-type {\n",
       "        vertical-align: middle;\n",
       "    }\n",
       "\n",
       "    .dataframe tbody tr th {\n",
       "        vertical-align: top;\n",
       "    }\n",
       "\n",
       "    .dataframe thead th {\n",
       "        text-align: right;\n",
       "    }\n",
       "</style>\n",
       "<table border=\"1\" class=\"dataframe\">\n",
       "  <thead>\n",
       "    <tr style=\"text-align: right;\">\n",
       "      <th></th>\n",
       "      <th>idUtle</th>\n",
       "      <th>up</th>\n",
       "    </tr>\n",
       "    <tr>\n",
       "      <th>dscDiagnostico</th>\n",
       "      <th></th>\n",
       "      <th></th>\n",
       "    </tr>\n",
       "  </thead>\n",
       "  <tbody>\n",
       "    <tr>\n",
       "      <th>Catarata senil nuclear</th>\n",
       "      <td>636</td>\n",
       "      <td>636</td>\n",
       "    </tr>\n",
       "    <tr>\n",
       "      <th>Pterigion</th>\n",
       "      <td>535</td>\n",
       "      <td>535</td>\n",
       "    </tr>\n",
       "    <tr>\n",
       "      <th>Calculo de la vesicula biliar sin colecistitis</th>\n",
       "      <td>436</td>\n",
       "      <td>436</td>\n",
       "    </tr>\n",
       "    <tr>\n",
       "      <th>Esterilización</th>\n",
       "      <td>323</td>\n",
       "      <td>323</td>\n",
       "    </tr>\n",
       "    <tr>\n",
       "      <th>Hernia inguinal unilateral o no especificada, sin obstruccion ni gangrena</th>\n",
       "      <td>322</td>\n",
       "      <td>322</td>\n",
       "    </tr>\n",
       "    <tr>\n",
       "      <th>Catarata senil incipiente</th>\n",
       "      <td>242</td>\n",
       "      <td>242</td>\n",
       "    </tr>\n",
       "    <tr>\n",
       "      <th>Hernia umbilical sin obstruccion ni gangrena</th>\n",
       "      <td>175</td>\n",
       "      <td>175</td>\n",
       "    </tr>\n",
       "    <tr>\n",
       "      <th>Catarata, no especificada</th>\n",
       "      <td>104</td>\n",
       "      <td>104</td>\n",
       "    </tr>\n",
       "    <tr>\n",
       "      <th>Desviacion del tabique nasal</th>\n",
       "      <td>98</td>\n",
       "      <td>98</td>\n",
       "    </tr>\n",
       "    <tr>\n",
       "      <th>Gonartrosis, no especificada</th>\n",
       "      <td>94</td>\n",
       "      <td>94</td>\n",
       "    </tr>\n",
       "  </tbody>\n",
       "</table>\n",
       "</div>"
      ],
      "text/plain": [
       "                                                    idUtle   up\n",
       "dscDiagnostico                                                 \n",
       "Catarata senil nuclear                                 636  636\n",
       "Pterigion                                              535  535\n",
       "Calculo de la vesicula biliar sin colecistitis         436  436\n",
       "Esterilización                                         323  323\n",
       "Hernia inguinal unilateral o no especificada, s...     322  322\n",
       "Catarata senil incipiente                              242  242\n",
       "Hernia umbilical sin obstruccion ni gangrena           175  175\n",
       "Catarata, no especificada                              104  104\n",
       "Desviacion del tabique nasal                            98   98\n",
       "Gonartrosis, no especificada                            94   94"
      ]
     },
     "execution_count": 186,
     "metadata": {},
     "output_type": "execute_result"
    }
   ],
   "source": [
    "gfhn04 = in_2401.groupby(['dscDiagnostico']).count()\n",
    "gfhn04= gfhn04.iloc[:,:2]\n",
    "tempGFhn04=gfhn04.sort_values('idUtle',ascending=False)\n",
    "top10DxHSC = tempGFhn04.head(10)\n",
    "top10DxHSC"
   ]
  },
  {
   "cell_type": "markdown",
   "id": "9fe7162d",
   "metadata": {},
   "source": [
    "<h4 style=\"color:#c51148\">4.2.29 Lista de Espera de la Region \"PACIFICO CENTRAL\"</h4>\n",
    "\n",
    "<p>Se realiza la agrupación de datos considerando únicamente los establecimientos médicos de la region pacifico central, de manera que se pueda comprender donde está la mayor concentración de casos para los establecimientos</p>\n",
    "</br>\n",
    "<img src=\"DRIPSPC.png\">"
   ]
  },
  {
   "cell_type": "code",
   "execution_count": 187,
   "id": "62fee7f4",
   "metadata": {},
   "outputs": [
    {
     "data": {
      "text/plain": [
       "(8467, 24)"
      ]
     },
     "execution_count": 187,
     "metadata": {},
     "output_type": "execute_result"
    }
   ],
   "source": [
    "in_region8 = dfPendientes['region'] == 'PACIFICO CENTRAL'\n",
    "in_region8 = dfPendientes[in_region8]\n",
    "in_region8.shape"
   ]
  },
  {
   "cell_type": "code",
   "execution_count": 188,
   "id": "d9b113ee",
   "metadata": {},
   "outputs": [
    {
     "data": {
      "text/html": [
       "<div>\n",
       "<style scoped>\n",
       "    .dataframe tbody tr th:only-of-type {\n",
       "        vertical-align: middle;\n",
       "    }\n",
       "\n",
       "    .dataframe tbody tr th {\n",
       "        vertical-align: top;\n",
       "    }\n",
       "\n",
       "    .dataframe thead th {\n",
       "        text-align: right;\n",
       "    }\n",
       "</style>\n",
       "<table border=\"1\" class=\"dataframe\">\n",
       "  <thead>\n",
       "    <tr style=\"text-align: right;\">\n",
       "      <th></th>\n",
       "      <th>idUtle</th>\n",
       "    </tr>\n",
       "    <tr>\n",
       "      <th>dscDiagnostico</th>\n",
       "      <th></th>\n",
       "    </tr>\n",
       "  </thead>\n",
       "  <tbody>\n",
       "    <tr>\n",
       "      <th>Calculo de la vesicula biliar sin colecistitis</th>\n",
       "      <td>860</td>\n",
       "    </tr>\n",
       "    <tr>\n",
       "      <th>Esterilización</th>\n",
       "      <td>857</td>\n",
       "    </tr>\n",
       "    <tr>\n",
       "      <th>Pterigion</th>\n",
       "      <td>666</td>\n",
       "    </tr>\n",
       "    <tr>\n",
       "      <th>Hernia inguinal unilateral o no especificada, sin obstruccion ni gangrena</th>\n",
       "      <td>556</td>\n",
       "    </tr>\n",
       "    <tr>\n",
       "      <th>Insuficiencia venosa (cronica) (periferica)</th>\n",
       "      <td>397</td>\n",
       "    </tr>\n",
       "    <tr>\n",
       "      <th>Otros desplazamientos especificados de disco intervertebral</th>\n",
       "      <td>350</td>\n",
       "    </tr>\n",
       "    <tr>\n",
       "      <th>Hernia umbilical sin obstruccion ni gangrena</th>\n",
       "      <td>325</td>\n",
       "    </tr>\n",
       "    <tr>\n",
       "      <th>Otros desplazamientos de disco cervical</th>\n",
       "      <td>237</td>\n",
       "    </tr>\n",
       "    <tr>\n",
       "      <th>HERNIA INCISIONAL SIN OBSTRUCCIÓN O GANGRENA</th>\n",
       "      <td>159</td>\n",
       "    </tr>\n",
       "    <tr>\n",
       "      <th>Venas varicosas de los miembros inferiores sin ·lcera ni inflamacion</th>\n",
       "      <td>149</td>\n",
       "    </tr>\n",
       "  </tbody>\n",
       "</table>\n",
       "</div>"
      ],
      "text/plain": [
       "                                                    idUtle\n",
       "dscDiagnostico                                            \n",
       "Calculo de la vesicula biliar sin colecistitis         860\n",
       "Esterilización                                         857\n",
       "Pterigion                                              666\n",
       "Hernia inguinal unilateral o no especificada, s...     556\n",
       "Insuficiencia venosa (cronica) (periferica)            397\n",
       "Otros desplazamientos especificados de disco in...     350\n",
       "Hernia umbilical sin obstruccion ni gangrena           325\n",
       "Otros desplazamientos de disco cervical                237\n",
       "HERNIA INCISIONAL SIN OBSTRUCCIÓN O GANGRENA           159\n",
       "Venas varicosas de los miembros inferiores sin ...     149"
      ]
     },
     "execution_count": 188,
     "metadata": {},
     "output_type": "execute_result"
    }
   ],
   "source": [
    "gfpc01 = in_region8.groupby(['dscDiagnostico']).count()\n",
    "gfpc01 = gfpc01.iloc[:,:1]\n",
    "temppc01 = gfpc01.sort_values('idUtle',ascending=False)\n",
    "top10Dxpc = temppc01.head(10)\n",
    "top10Dxpc"
   ]
  },
  {
   "cell_type": "markdown",
   "id": "817a1073",
   "metadata": {},
   "source": [
    "<h4 style=\"color: #c51148\">4.2.30 Concentración de la Lista de Espera según Hospital</h4>\n",
    "\n",
    "<p>Se obtiene la distribución de la lista de espera por hospital, con el propósito de conocer en cual establecimiento se concentra la mayor cantidad de listas de espera quirurgica</p>"
   ]
  },
  {
   "cell_type": "code",
   "execution_count": 189,
   "id": "6ca0ca65",
   "metadata": {},
   "outputs": [
    {
     "data": {
      "text/html": [
       "<div>\n",
       "<style scoped>\n",
       "    .dataframe tbody tr th:only-of-type {\n",
       "        vertical-align: middle;\n",
       "    }\n",
       "\n",
       "    .dataframe tbody tr th {\n",
       "        vertical-align: top;\n",
       "    }\n",
       "\n",
       "    .dataframe thead th {\n",
       "        text-align: right;\n",
       "    }\n",
       "</style>\n",
       "<table border=\"1\" class=\"dataframe\">\n",
       "  <thead>\n",
       "    <tr style=\"text-align: right;\">\n",
       "      <th></th>\n",
       "      <th>idUtle</th>\n",
       "      <th>up</th>\n",
       "    </tr>\n",
       "    <tr>\n",
       "      <th>centroMedico</th>\n",
       "      <th></th>\n",
       "      <th></th>\n",
       "    </tr>\n",
       "  </thead>\n",
       "  <tbody>\n",
       "    <tr>\n",
       "      <th>H. MONSEÑOR SANABRIA</th>\n",
       "      <td>7282</td>\n",
       "      <td>7282</td>\n",
       "    </tr>\n",
       "    <tr>\n",
       "      <th>H. MAX TERAN VALLS</th>\n",
       "      <td>1185</td>\n",
       "      <td>1185</td>\n",
       "    </tr>\n",
       "  </tbody>\n",
       "</table>\n",
       "</div>"
      ],
      "text/plain": [
       "                      idUtle    up\n",
       "centroMedico                      \n",
       "H. MONSEÑOR SANABRIA    7282  7282\n",
       "H. MAX TERAN VALLS      1185  1185"
      ]
     },
     "execution_count": 189,
     "metadata": {},
     "output_type": "execute_result"
    }
   ],
   "source": [
    "gfpc02 = in_region8.groupby(['centroMedico']).count() #centroMedico\n",
    "gfpc02 = gfpc02.iloc[:,:2]\n",
    "temppc02 = gfpc02.sort_values('up',ascending=False)\n",
    "temppc02"
   ]
  },
  {
   "cell_type": "code",
   "execution_count": 192,
   "id": "f0e6e186",
   "metadata": {},
   "outputs": [
    {
     "data": {
      "image/png": "[encoded data removed]",
      "text/plain": [
       "<Figure size 720x360 with 1 Axes>"
      ]
     },
     "metadata": {
      "needs_background": "light"
     },
     "output_type": "display_data"
    }
   ],
   "source": [
    "eje_x = temppc02.index.tolist()\n",
    "eje_y = temppc02['up'].tolist()\n",
    "\n",
    "plt.figure(figsize=(10,5))\n",
    "##Creamos la Grafica\n",
    "bar_colors = ['#df7446']\n",
    "plt.barh(eje_x, eje_y,color=bar_colors)\n",
    "         \n",
    "\n",
    "##Leyenda en el eje y\n",
    "plt.ylabel('Centro Médico')\n",
    "\n",
    "##Leyenda en el eje x\n",
    "plt.xlabel(\"Cantidad de personas\")\n",
    "\n",
    "##Titulo del Grafico\n",
    "plt.title(\"Cantidad de Personas según Centro Médico\")\n",
    "\n",
    "plt.show()"
   ]
  },
  {
   "cell_type": "markdown",
   "id": "90d67a17",
   "metadata": {},
   "source": [
    "<h4 style=\"color:  #c51148\">4.2.31 Plazo Promedio de Espera según Hospital</h4>\n",
    "\n",
    "<p>Se genera la estimación del plazo promedio de espera por establecimiento de salud, con el propósito de identificar en cual establecimiento se concentra la mayor cantidad de personas, con el mayor tiempo de espera por una operación</p>"
   ]
  },
  {
   "cell_type": "code",
   "execution_count": 195,
   "id": "860edb8f",
   "metadata": {},
   "outputs": [
    {
     "data": {
      "text/html": [
       "<div>\n",
       "<style scoped>\n",
       "    .dataframe tbody tr th:only-of-type {\n",
       "        vertical-align: middle;\n",
       "    }\n",
       "\n",
       "    .dataframe tbody tr th {\n",
       "        vertical-align: top;\n",
       "    }\n",
       "\n",
       "    .dataframe thead th {\n",
       "        text-align: right;\n",
       "    }\n",
       "</style>\n",
       "<table border=\"1\" class=\"dataframe\">\n",
       "  <thead>\n",
       "    <tr style=\"text-align: right;\">\n",
       "      <th></th>\n",
       "      <th>idUtle</th>\n",
       "    </tr>\n",
       "    <tr>\n",
       "      <th>up</th>\n",
       "      <th></th>\n",
       "    </tr>\n",
       "  </thead>\n",
       "  <tbody>\n",
       "    <tr>\n",
       "      <th>2501</th>\n",
       "      <td>7282</td>\n",
       "    </tr>\n",
       "    <tr>\n",
       "      <th>2308</th>\n",
       "      <td>1185</td>\n",
       "    </tr>\n",
       "  </tbody>\n",
       "</table>\n",
       "</div>"
      ],
      "text/plain": [
       "      idUtle\n",
       "up          \n",
       "2501    7282\n",
       "2308    1185"
      ]
     },
     "execution_count": 195,
     "metadata": {},
     "output_type": "execute_result"
    }
   ],
   "source": [
    "gfpc03 = in_region8.groupby(['up']).count() #centroMedico\n",
    "gfpc03 = gfpc03.iloc[:,:1]\n",
    "temppc03 = gfpc03.sort_values('idUtle',ascending=False)\n",
    "temppc03"
   ]
  },
  {
   "cell_type": "code",
   "execution_count": 194,
   "id": "380eca81",
   "metadata": {},
   "outputs": [
    {
     "name": "stdout",
     "output_type": "stream",
     "text": [
      "Empty DataFrame\n",
      "Columns: [Unidad, PlazoPromedio]\n",
      "Index: []\n"
     ]
    }
   ],
   "source": [
    "dfPlazosPC = pd.DataFrame()\n",
    "dfPlazosPC['Unidad'] = None\n",
    "dfPlazosPC['PlazoPromedio'] = None\n",
    "print(dfPlazosPC)"
   ]
  },
  {
   "cell_type": "code",
   "execution_count": 197,
   "id": "f3284465",
   "metadata": {},
   "outputs": [
    {
     "name": "stdout",
     "output_type": "stream",
     "text": [
      "Promedio del Plazo de Espera H. Monseñor Sanabria:  682.7661356770118\n"
     ]
    }
   ],
   "source": [
    "in_2501 = in_region8['up'] == 2501\n",
    "in_2501 = in_region8[in_2501]\n",
    "avg_plazo_2501 = in_2501[\"plazoEspera\"].astype(\"float\").mean(axis=0)\n",
    "print (\"Promedio del Plazo de Espera H. Monseñor Sanabria: \", avg_plazo_2501)"
   ]
  },
  {
   "cell_type": "code",
   "execution_count": 198,
   "id": "65c24bd5",
   "metadata": {},
   "outputs": [
    {
     "name": "stdout",
     "output_type": "stream",
     "text": [
      "Promedio del Plazo de Espera H. Max Teran:  423.38227848101263\n"
     ]
    }
   ],
   "source": [
    "in_2308 = in_region8['up'] == 2308\n",
    "in_2308 = in_region8[in_2308]\n",
    "avg_plazo_2308 = in_2308[\"plazoEspera\"].astype(\"float\").mean(axis=0)\n",
    "print (\"Promedio del Plazo de Espera H. Max Teran: \", avg_plazo_2308)"
   ]
  },
  {
   "cell_type": "code",
   "execution_count": 199,
   "id": "6896fb15",
   "metadata": {},
   "outputs": [
    {
     "data": {
      "text/html": [
       "<div>\n",
       "<style scoped>\n",
       "    .dataframe tbody tr th:only-of-type {\n",
       "        vertical-align: middle;\n",
       "    }\n",
       "\n",
       "    .dataframe tbody tr th {\n",
       "        vertical-align: top;\n",
       "    }\n",
       "\n",
       "    .dataframe thead th {\n",
       "        text-align: right;\n",
       "    }\n",
       "</style>\n",
       "<table border=\"1\" class=\"dataframe\">\n",
       "  <thead>\n",
       "    <tr style=\"text-align: right;\">\n",
       "      <th></th>\n",
       "      <th>Unidad</th>\n",
       "      <th>PlazoPromedio</th>\n",
       "    </tr>\n",
       "  </thead>\n",
       "  <tbody>\n",
       "    <tr>\n",
       "      <th>0</th>\n",
       "      <td>H. MONSEÑOR SANABRIA</td>\n",
       "      <td>682.766136</td>\n",
       "    </tr>\n",
       "    <tr>\n",
       "      <th>1</th>\n",
       "      <td>H. MAX TERAN</td>\n",
       "      <td>423.382278</td>\n",
       "    </tr>\n",
       "  </tbody>\n",
       "</table>\n",
       "</div>"
      ],
      "text/plain": [
       "                 Unidad  PlazoPromedio\n",
       "0  H. MONSEÑOR SANABRIA     682.766136\n",
       "1          H. MAX TERAN     423.382278"
      ]
     },
     "execution_count": 199,
     "metadata": {},
     "output_type": "execute_result"
    }
   ],
   "source": [
    "up = ['H. MONSEÑOR SANABRIA', 'H. MAX TERAN']\n",
    "plazo = [avg_plazo_2501, avg_plazo_2308]\n",
    "\n",
    "dfPlazosPC['Unidad'] = up\n",
    "dfPlazosPC['PlazoPromedio'] = plazo\n",
    "\n",
    "dfPlazosPC"
   ]
  },
  {
   "cell_type": "code",
   "execution_count": 200,
   "id": "079d97f4",
   "metadata": {},
   "outputs": [
    {
     "data": {
      "image/png": "[encoded data removed]",
      "text/plain": [
       "<Figure size 720x360 with 1 Axes>"
      ]
     },
     "metadata": {
      "needs_background": "light"
     },
     "output_type": "display_data"
    }
   ],
   "source": [
    "eje_x = dfPlazosPC['Unidad'].tolist()\n",
    "eje_y = dfPlazosPC['PlazoPromedio'].tolist()\n",
    "\n",
    "plt.figure(figsize=(10,5))\n",
    "##Creamos la Grafica\n",
    "bar_colors = ['#df7446']\n",
    "plt.barh(eje_x, eje_y,color=bar_colors)\n",
    "         \n",
    "\n",
    "##Leyenda en el eje y\n",
    "plt.ylabel('Centro Médico')\n",
    "\n",
    "##Leyenda en el eje x\n",
    "plt.xlabel(\"Cantidad de personas\")\n",
    "\n",
    "##Titulo del Grafico\n",
    "plt.title(\"Cantidad de Personas según Centro Médico\")\n",
    "\n",
    "plt.show()"
   ]
  },
  {
   "cell_type": "markdown",
   "id": "bd8604c3",
   "metadata": {},
   "source": [
    "<h4 style=\"color:  #c51148\">4.2.20 Lista de Espera del H. Monseñor Sanabria</h4>\n",
    "\n",
    "<p>Se genera la estimación del plazo promedio de espera por establecimiento de salud, con el propósito de identificar en cual establecimiento se concentra la mayor cantidad de personas, con el mayor tiempo de espera por una operación</p>"
   ]
  },
  {
   "cell_type": "code",
   "execution_count": 201,
   "id": "541dfd39",
   "metadata": {},
   "outputs": [
    {
     "data": {
      "text/html": [
       "<div>\n",
       "<style scoped>\n",
       "    .dataframe tbody tr th:only-of-type {\n",
       "        vertical-align: middle;\n",
       "    }\n",
       "\n",
       "    .dataframe tbody tr th {\n",
       "        vertical-align: top;\n",
       "    }\n",
       "\n",
       "    .dataframe thead th {\n",
       "        text-align: right;\n",
       "    }\n",
       "</style>\n",
       "<table border=\"1\" class=\"dataframe\">\n",
       "  <thead>\n",
       "    <tr style=\"text-align: right;\">\n",
       "      <th></th>\n",
       "      <th>idUtle</th>\n",
       "      <th>up</th>\n",
       "    </tr>\n",
       "    <tr>\n",
       "      <th>dscDiagnostico</th>\n",
       "      <th></th>\n",
       "      <th></th>\n",
       "    </tr>\n",
       "  </thead>\n",
       "  <tbody>\n",
       "    <tr>\n",
       "      <th>Calculo de la vesicula biliar sin colecistitis</th>\n",
       "      <td>708</td>\n",
       "      <td>708</td>\n",
       "    </tr>\n",
       "    <tr>\n",
       "      <th>Esterilización</th>\n",
       "      <td>673</td>\n",
       "      <td>673</td>\n",
       "    </tr>\n",
       "    <tr>\n",
       "      <th>Pterigion</th>\n",
       "      <td>666</td>\n",
       "      <td>666</td>\n",
       "    </tr>\n",
       "    <tr>\n",
       "      <th>Hernia inguinal unilateral o no especificada, sin obstruccion ni gangrena</th>\n",
       "      <td>431</td>\n",
       "      <td>431</td>\n",
       "    </tr>\n",
       "    <tr>\n",
       "      <th>Insuficiencia venosa (cronica) (periferica)</th>\n",
       "      <td>395</td>\n",
       "      <td>395</td>\n",
       "    </tr>\n",
       "    <tr>\n",
       "      <th>Otros desplazamientos especificados de disco intervertebral</th>\n",
       "      <td>349</td>\n",
       "      <td>349</td>\n",
       "    </tr>\n",
       "    <tr>\n",
       "      <th>Otros desplazamientos de disco cervical</th>\n",
       "      <td>237</td>\n",
       "      <td>237</td>\n",
       "    </tr>\n",
       "    <tr>\n",
       "      <th>Hernia umbilical sin obstruccion ni gangrena</th>\n",
       "      <td>224</td>\n",
       "      <td>224</td>\n",
       "    </tr>\n",
       "    <tr>\n",
       "      <th>Hiperplasia de la prostata</th>\n",
       "      <td>136</td>\n",
       "      <td>136</td>\n",
       "    </tr>\n",
       "    <tr>\n",
       "      <th>Venas varicosas de los miembros inferiores sin ·lcera ni inflamacion</th>\n",
       "      <td>134</td>\n",
       "      <td>134</td>\n",
       "    </tr>\n",
       "  </tbody>\n",
       "</table>\n",
       "</div>"
      ],
      "text/plain": [
       "                                                    idUtle   up\n",
       "dscDiagnostico                                                 \n",
       "Calculo de la vesicula biliar sin colecistitis         708  708\n",
       "Esterilización                                         673  673\n",
       "Pterigion                                              666  666\n",
       "Hernia inguinal unilateral o no especificada, s...     431  431\n",
       "Insuficiencia venosa (cronica) (periferica)            395  395\n",
       "Otros desplazamientos especificados de disco in...     349  349\n",
       "Otros desplazamientos de disco cervical                237  237\n",
       "Hernia umbilical sin obstruccion ni gangrena           224  224\n",
       "Hiperplasia de la prostata                             136  136\n",
       "Venas varicosas de los miembros inferiores sin ...     134  134"
      ]
     },
     "execution_count": 201,
     "metadata": {},
     "output_type": "execute_result"
    }
   ],
   "source": [
    "gfpc04 = in_2501.groupby(['dscDiagnostico']).count()\n",
    "gfpc04= gfpc04.iloc[:,:2]\n",
    "temppc04=gfpc04.sort_values('idUtle',ascending=False)\n",
    "top10DxHMS = temppc04.head(10)\n",
    "top10DxHMS"
   ]
  },
  {
   "cell_type": "code",
   "execution_count": null,
   "id": "2b338ff4",
   "metadata": {},
   "outputs": [],
   "source": []
  }
 ],
 "metadata": {
  "kernelspec": {
   "display_name": "Python 3 (ipykernel)",
   "language": "python",
   "name": "python3"
  },
  "language_info": {
   "codemirror_mode": {
    "name": "ipython",
    "version": 3
   },
   "file_extension": ".py",
   "mimetype": "text/x-python",
   "name": "python",
   "nbconvert_exporter": "python",
   "pygments_lexer": "ipython3",
   "version": "3.9.7"
  }
 },
 "nbformat": 4,
 "nbformat_minor": 5
}
